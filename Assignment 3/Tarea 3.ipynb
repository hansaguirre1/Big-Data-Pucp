{
 "cells": [
  {
   "cell_type": "code",
   "execution_count": 1,
   "id": "4dcaed88",
   "metadata": {
    "scrolled": true
   },
   "outputs": [
    {
     "name": "stdout",
     "output_type": "stream",
     "text": [
      "Requirement already satisfied: ipystata in c:\\programdata\\anaconda3\\lib\\site-packages (0.3.8)\n"
     ]
    }
   ],
   "source": [
    "!pip install ipystata"
   ]
  },
  {
   "cell_type": "markdown",
   "id": "4a862e80",
   "metadata": {},
   "source": [
    "# Tarea 1 – Teoría de Muestreo"
   ]
  },
  {
   "cell_type": "markdown",
   "id": "ca936275",
   "metadata": {},
   "source": [
    "## Integrantes:"
   ]
  },
  {
   "cell_type": "markdown",
   "id": "89608c43",
   "metadata": {},
   "source": [
    " - Carlos Andrés Zelada Chambilla - F0843894\n",
    " - Hans Isaí Aguirre Ccerare - F0730020"
   ]
  },
  {
   "cell_type": "markdown",
   "id": "420a1fc5",
   "metadata": {},
   "source": [
    "### Parte I\n",
    "#### 1. Indique a qué enfoque (diseño o modelo) corresponde cada una de las siguientes características:"
   ]
  },
  {
   "cell_type": "markdown",
   "id": "095c0c3c",
   "metadata": {},
   "source": [
    "a.\tAsume población finita: <div style=\"text-align: center\"> </br>Enfoque basado en el diseño </br> </div> \n",
    "b.\tAsume que la variable objetivo es aleatoria: <div style=\"text-align: center\"> </br> Enfoque basado en el modelo </br> </div> \n",
    "c.\tAsume un proceso generador de datos: <div style=\"text-align: center\"> </br> Enfoque basado en el modelo </br> </div> \n",
    "d.\tAsume que el componente aleatorio viene de cómo seleccionamos las observaciones: <div style=\"text-align: center\"> </br> Enfoque basado en el diseño </br> </div> "
   ]
  },
  {
   "cell_type": "markdown",
   "id": "95869e4d",
   "metadata": {},
   "source": [
    "#### 2.\tResponda dos de las siguientes preguntas. La respuesta a cada pregunta no debe pasar de 75 palabras."
   ]
  },
  {
   "cell_type": "markdown",
   "id": "b3527478",
   "metadata": {},
   "source": [
    "##### a. ¿Qué esperaría que suceda con el error estándar de la media de una variable conforme se toman muestras de mayor tamaño?"
   ]
  },
  {
   "cell_type": "markdown",
   "id": "3f444236",
   "metadata": {},
   "source": [
    "A medida que se toman muestras de mayor tamaño, se espera que el error estándar de la media de una variable se reduzca. Esto se relacionaría con la ley de los grandes números, la cual indica que a medida que el tamaño de la muestra se acerca a la poblacional, el valor de la media estimada tambien se acerca al valor de la media poblacional."
   ]
  },
  {
   "cell_type": "markdown",
   "id": "0593870f",
   "metadata": {},
   "source": [
    "##### c. ¿Qué es el factor de expansión y cómo se construye?"
   ]
  },
  {
   "cell_type": "markdown",
   "id": "6b05dcba",
   "metadata": {},
   "source": [
    "El factor de expansión indica cuantos individuos de la población representa un individuo de la muestra extraida, por lo cual también son denominados pesos muestrales. Esta se construye como la inversa de la probabilidad de selección, la cual puede ser corregida por tasas de no respuesta, calibración, posestratificactón, etc."
   ]
  },
  {
   "cell_type": "markdown",
   "id": "ce5aa974",
   "metadata": {},
   "source": [
    "### Parte II\n",
    "#### Utilizando la base de datos del CENAGRO que ha sido colgada en paideia, realizar los siguientes ejercicios:\n",
    "\n"
   ]
  },
  {
   "cell_type": "code",
   "execution_count": 1,
   "id": "d83651bd",
   "metadata": {},
   "outputs": [],
   "source": [
    "import ipystata\n",
    "import pandas as pd\n",
    "import math"
   ]
  },
  {
   "cell_type": "code",
   "execution_count": 21,
   "id": "93104249",
   "metadata": {},
   "outputs": [
    {
     "name": "stdout",
     "output_type": "stream",
     "text": [
      "Please note: session main was no longer active and is restarted.\n"
     ]
    }
   ],
   "source": [
    "%%stata -o Cenagro_df\n",
    "use \"C:\\Users\\haguirre\\Documents\\GitHub\\Big-Data-Pucp\\Assignment 1\\cenagro2012_mod.dta\", clear"
   ]
  },
  {
   "cell_type": "markdown",
   "id": "a54d1029",
   "metadata": {},
   "source": [
    "#### 1.\tCalcular las siguientes variables: \n"
   ]
  },
  {
   "cell_type": "markdown",
   "id": "6b21fbd4",
   "metadata": {},
   "source": [
    "1.1.\tUna variable categórica que identifique los siguientes grupos etarios: de 12 a 24 inclusive, de 25 a 64 inclusive, de 65 a más. Llamar a esta variable “rango_edad”."
   ]
  },
  {
   "cell_type": "code",
   "execution_count": 22,
   "id": "3b8f6538",
   "metadata": {},
   "outputs": [
    {
     "name": "stdout",
     "output_type": "stream",
     "text": [
      "(2,132,055 missing values generated)\n",
      "\n",
      "(1,665,605 real changes made)\n",
      "\n",
      "(466,450 real changes made)\n",
      "\n"
     ]
    }
   ],
   "source": [
    "%%stata\n",
    "gen rango_edad=0 if edad>=12 & edad<=24\n",
    "replace rango_edad=1 if edad>=25 & edad<=64\n",
    "replace rango_edad=2 if edad>=65\n",
    "\n",
    "label define rangos 0 \"[12-24]\" 1 \"[25-64]\" 2 \"[>65]\"\n",
    "label values rango_edad rangos"
   ]
  },
  {
   "cell_type": "markdown",
   "id": "d31ae69b",
   "metadata": {},
   "source": [
    "1.2.\tUna variable dicotómica que identifique a las Unidades Agropecuarias (UAs) que son dirigidas por personas cuya lengua materna es el quechua. Llamar a esta variable “ppquechua”."
   ]
  },
  {
   "cell_type": "code",
   "execution_count": 23,
   "id": "c3d5a560",
   "metadata": {},
   "outputs": [],
   "source": [
    "%%stata\n",
    "gen ppquechua=(lengua<=1)\n",
    "label define Lengua 0 \"No quechua\" 1 \"Quechua\"\n",
    "label values ppquechua Lengua"
   ]
  },
  {
   "cell_type": "markdown",
   "id": "3247316d",
   "metadata": {},
   "source": [
    "#### 2.\tEstablecer una semilla (“seed”) usando los dígitos del cumpleaños de alguno de los miembros de la pareja."
   ]
  },
  {
   "cell_type": "code",
   "execution_count": 24,
   "id": "bf3f7f6e",
   "metadata": {},
   "outputs": [],
   "source": [
    "%%stata\n",
    "set seed 2702"
   ]
  },
  {
   "cell_type": "markdown",
   "id": "ccc75878",
   "metadata": {},
   "source": [
    "#### 3.\tExtraer una Muestra Aleatoria Simple (MAS) de 2247 observaciones de la población total (base completa). Con esta muestra, utilizar la variable “sup_total” y obtener los siguientes estadísticos."
   ]
  },
  {
   "cell_type": "markdown",
   "id": "5a862384",
   "metadata": {},
   "source": [
    "Extraemos una MAS de 2247 observaciones de la base completa"
   ]
  },
  {
   "cell_type": "code",
   "execution_count": 6,
   "id": "1e17a26d",
   "metadata": {},
   "outputs": [
    {
     "name": "stdout",
     "output_type": "stream",
     "text": [
      "\n",
      "(2,244,455 observations deleted)\n",
      "\n",
      "Total estimation                  Number of obs   =      2,247\n",
      "\n",
      "--------------------------------------------------------------\n",
      "             |      Total   Std. Err.     [95% Conf. Interval]\n",
      "-------------+------------------------------------------------\n",
      "   sup_total |   14822.43   1804.497      11283.77    18361.08\n",
      "--------------------------------------------------------------\n",
      "\n",
      "Mean estimation                   Number of obs   =      2,247\n",
      "\n",
      "--------------------------------------------------------------\n",
      "             |       Mean   Std. Err.     [95% Conf. Interval]\n",
      "-------------+------------------------------------------------\n",
      "   sup_total |   6.596541   .8030693      5.021705    8.171376\n",
      "--------------------------------------------------------------\n",
      "\n",
      "               Superficie de la UA (Hectáreas)\n",
      "-------------------------------------------------------------\n",
      "      Percentiles      Smallest\n",
      " 1%            0              0\n",
      " 5%          .05              0\n",
      "10%          .13              0       Obs               2,247\n",
      "25%           .5              0       Sum of Wgt.       2,247\n",
      "\n",
      "50%          1.5                      Mean           6.596541\n",
      "                        Largest       Std. Dev.      38.06752\n",
      "75%            4            287\n",
      "90%           10            350       Variance       1449.136\n",
      "95%           20           1000       Skewness       24.07368\n",
      "99%           90           1240       Kurtosis       703.8259\n",
      "\n"
     ]
    }
   ],
   "source": [
    "%%stata\n",
    "preserve\n",
    "sample 2247, count\n",
    "total sup_total\n",
    "mean sup_total\n",
    "sum sup_total, d\n",
    "restore"
   ]
  },
  {
   "cell_type": "markdown",
   "id": "76f31b93",
   "metadata": {},
   "source": [
    "3.1. La suma de todos los valores"
   ]
  },
  {
   "cell_type": "code",
   "execution_count": 7,
   "id": "8c27a98e",
   "metadata": {},
   "outputs": [
    {
     "name": "stdout",
     "output_type": "stream",
     "text": [
      "La suma total es 14822.43\n"
     ]
    }
   ],
   "source": [
    "print ( \"La suma total es 14822.43\" )"
   ]
  },
  {
   "cell_type": "markdown",
   "id": "cba31377",
   "metadata": {},
   "source": [
    "3.2. La media"
   ]
  },
  {
   "cell_type": "code",
   "execution_count": 8,
   "id": "63d0feba",
   "metadata": {},
   "outputs": [
    {
     "name": "stdout",
     "output_type": "stream",
     "text": [
      "La media es 6.596541\n"
     ]
    }
   ],
   "source": [
    "mean = 6.596541\n",
    "print ( f\"La media es {mean}\" )"
   ]
  },
  {
   "cell_type": "markdown",
   "id": "da8a9b36",
   "metadata": {},
   "source": [
    "3.3. La fracción muestral"
   ]
  },
  {
   "cell_type": "code",
   "execution_count": 9,
   "id": "417a2373",
   "metadata": {},
   "outputs": [
    {
     "name": "stdout",
     "output_type": "stream",
     "text": [
      "La fracción muestral es 0.0010001326388635432\n"
     ]
    }
   ],
   "source": [
    "N = Cenagro_df['sup_total'].count()\n",
    "n = 2247\n",
    "frac_m = n/N\n",
    "print( f'La fracción muestral es {frac_m}')"
   ]
  },
  {
   "cell_type": "markdown",
   "id": "9ca5ec64",
   "metadata": {},
   "source": [
    "3.4. La corrección de población finita (fpc)"
   ]
  },
  {
   "cell_type": "code",
   "execution_count": 10,
   "id": "7206c7c8",
   "metadata": {},
   "outputs": [
    {
     "name": "stdout",
     "output_type": "stream",
     "text": [
      "El factor de corrección de población finita es 0.9989998673611364\n"
     ]
    }
   ],
   "source": [
    "fpc = 1 - frac_m\n",
    "print( f'El factor de corrección de población finita es {fpc}')"
   ]
  },
  {
   "cell_type": "markdown",
   "id": "ed7ad934",
   "metadata": {},
   "source": [
    "3.5. La suma de desviaciones al cuadrado"
   ]
  },
  {
   "cell_type": "code",
   "execution_count": 11,
   "id": "eaf49158",
   "metadata": {},
   "outputs": [
    {
     "name": "stdout",
     "output_type": "stream",
     "text": [
      "La suma de las desviaciones al cuadrado es 3254759.456\n"
     ]
    }
   ],
   "source": [
    "var_muestra = 1449.136\n",
    "sum_desv = var_muestra*(n - 1)\n",
    "print( f'La suma de las desviaciones al cuadrado es {sum_desv}')"
   ]
  },
  {
   "cell_type": "markdown",
   "id": "a0a6266d",
   "metadata": {},
   "source": [
    "3.6. La varianza de la muestra"
   ]
  },
  {
   "cell_type": "code",
   "execution_count": 12,
   "id": "d3aa9b4e",
   "metadata": {},
   "outputs": [
    {
     "name": "stdout",
     "output_type": "stream",
     "text": [
      "La varianza de la muestra es 1449.136\n"
     ]
    }
   ],
   "source": [
    "print( f'La varianza de la muestra es {var_muestra}')"
   ]
  },
  {
   "cell_type": "markdown",
   "id": "25a6b5b0",
   "metadata": {},
   "source": [
    "3.7. La varianza muestral de la media"
   ]
  },
  {
   "cell_type": "code",
   "execution_count": 13,
   "id": "00b3a32c",
   "metadata": {},
   "outputs": [
    {
     "name": "stdout",
     "output_type": "stream",
     "text": [
      "La varianza muestral de la media es 0.6442753323490199\n"
     ]
    }
   ],
   "source": [
    "var_muestr_media = fpc*(var_muestra/n)\n",
    "print( f'La varianza muestral de la media es {var_muestr_media}')"
   ]
  },
  {
   "cell_type": "markdown",
   "id": "ce819981",
   "metadata": {},
   "source": [
    "3.8. El error estándar de la media"
   ]
  },
  {
   "cell_type": "code",
   "execution_count": 14,
   "id": "05958a7e",
   "metadata": {},
   "outputs": [
    {
     "name": "stdout",
     "output_type": "stream",
     "text": [
      "El error estándar de la media es 0.8026676350451786\n"
     ]
    }
   ],
   "source": [
    "error_std_mean = math.sqrt(var_muestr_media)\n",
    "print( f'El error estándar de la media es {error_std_mean}')"
   ]
  },
  {
   "cell_type": "markdown",
   "id": "43e8c42f",
   "metadata": {},
   "source": [
    "3.9. El factor de expansión de cada observación"
   ]
  },
  {
   "cell_type": "code",
   "execution_count": 15,
   "id": "3723d1bc",
   "metadata": {},
   "outputs": [
    {
     "name": "stdout",
     "output_type": "stream",
     "text": [
      "El factor de expansión de cada observación es 999.8673787271917, cuya suma equivale a la totalidad de la población censal de unidades agripecuarias, ello debido a que en MAS el factor de expansión de cada observación es la inversa de la probabilidad de selección, que en este caso es la fracción muestral\n"
     ]
    }
   ],
   "source": [
    "fac_pob = 1/frac_m\n",
    "print( f'El factor de expansión de cada observación es {fac_pob}, cuya suma equivale a la totalidad de la población censal de unidades agripecuarias, ello debido a que en MAS el factor de expansión de cada observación es la inversa de la probabilidad de selección, que en este caso es la fracción muestral')"
   ]
  },
  {
   "cell_type": "markdown",
   "id": "9359d38f",
   "metadata": {},
   "source": [
    "#### 4.\tExtraer una Muestra Aleatoria Estratificada (MAE) de 2247 observaciones utilizando la variable “rango_edad” como estrato. Con esta muestra, utilizar la variable “ppquechua” y: "
   ]
  },
  {
   "cell_type": "code",
   "execution_count": 16,
   "id": "cfd4653c",
   "metadata": {},
   "outputs": [
    {
     "name": "stdout",
     "output_type": "stream",
     "text": [
      "\n",
      "(2,244,455 observations deleted)\n",
      "\n"
     ]
    }
   ],
   "source": [
    "%%stata\n",
    "set seed 2702\n",
    "sample 0.1, by(rango_edad)\n",
    "browse"
   ]
  },
  {
   "cell_type": "markdown",
   "id": "21b718e8",
   "metadata": {},
   "source": [
    "4.1.\tObtener los mismos estadísticos de las preguntas 3.1-3.9 según la variable de estratificación (intra estrato)."
   ]
  },
  {
   "cell_type": "code",
   "execution_count": 17,
   "id": "a9d2dc3e",
   "metadata": {},
   "outputs": [
    {
     "name": "stdout",
     "output_type": "stream",
     "text": [
      "\n",
      "Suma de los valores por estrato\n",
      "\n",
      "----------------------\n",
      "rango_eda |\n",
      "d         | mean(Suma)\n",
      "----------+-----------\n",
      "  [12-24] |         20\n",
      "  [25-64] |        504\n",
      "    [>65] |        166\n",
      "----------------------\n",
      "\n",
      "Proporciones de la muestra por estrato\n",
      "\n",
      "-----------------------\n",
      "rango_eda |\n",
      "d         | mean(Media)\n",
      "----------+------------\n",
      "  [12-24] |     .173913\n",
      "  [25-64] |     .302521\n",
      "    [>65] |    .3562232\n",
      "-----------------------\n",
      "\n",
      "Fraccion muestral por estrato\n",
      "\n",
      "----------------------\n",
      "rango_eda |\n",
      "d         |    mean(n)\n",
      "----------+-----------\n",
      "  [12-24] |        115\n",
      "  [25-64] |       1666\n",
      "    [>65] |        466\n",
      "----------------------\n",
      "\n",
      "----------------------\n",
      "rango_eda |\n",
      "d         |    mean(f)\n",
      "----------+-----------\n",
      "  [12-24] |   .0000512\n",
      "  [25-64] |   .0007415\n",
      "    [>65] |   .0002074\n",
      "----------------------\n",
      "\n",
      "La correccion de poblacion finita (fpc) por estrato\n",
      "\n",
      "----------------------\n",
      "rango_eda |\n",
      "d         |  mean(fpc)\n",
      "----------+-----------\n",
      "  [12-24] |   .9999488\n",
      "  [25-64] |   .9992585\n",
      "    [>65] |   .9997926\n",
      "----------------------\n",
      "\n",
      "La varianza por estrato\n",
      "\n",
      "--------------------------\n",
      "rango_eda |\n",
      "d         | mean(varianza)\n",
      "----------+---------------\n",
      "  [12-24] |       .1436673\n",
      "  [25-64] |       .2110021\n",
      "    [>65] |       .2293282\n",
      "--------------------------\n",
      "\n",
      "La varianza muestral de la media por estrato\n",
      "\n",
      "--------------------------\n",
      "rango_eda |\n",
      "d         | mean(varian~m)\n",
      "----------+---------------\n",
      "  [12-24] |       .0012492\n",
      "  [25-64] |       .0001266\n",
      "    [>65] |        .000492\n",
      "--------------------------\n",
      "\n",
      "El error estandar de la media por estratos\n",
      "\n",
      "--------------------------\n",
      "rango_eda |\n",
      "d         | mean(des_es~r)\n",
      "----------+---------------\n",
      "  [12-24] |       .0353443\n",
      "  [25-64] |       .0112498\n",
      "    [>65] |       .0221815\n",
      "--------------------------\n",
      "\n",
      "El factor de expansion de cada observaciÃ³n por estrato\n",
      "\n",
      "-------------------------\n",
      "rango_eda |\n",
      "d         | mean(fac_pob)\n",
      "----------+--------------\n",
      "  [12-24] |      19536.54\n",
      "  [25-64] |      1348.561\n",
      "    [>65] |      4821.249\n",
      "-------------------------\n",
      "\n"
     ]
    }
   ],
   "source": [
    "%%stata\n",
    "global N 2246702\n",
    "\n",
    "display \"Suma de los valores por estrato\" \n",
    "egen Suma=total(ppquechua), by(rango_edad)\n",
    "table rango_edad, c(mean Suma)\n",
    "\n",
    "display \"Proporciones de la muestra por estrato\" \n",
    "egen Media=mean(ppquechua), by(rango_edad)\n",
    "table rango_edad, c(mean Media)\n",
    "\n",
    "display \"Fraccion muestral por estrato\" \n",
    "egen n=count(ppquechua), by(rango_edad)\n",
    "table rango_edad, c(mean n)\n",
    "gen f=n/$N\n",
    "table rango_edad, c(mean f)\n",
    "\n",
    "display \"La correccion de poblacion finita (fpc) por estrato\" \n",
    "gen fpc=1-f\n",
    "table rango_edad, c(mean fpc)\n",
    "\n",
    "display \"La varianza por estrato\" \n",
    "gen varianza=Media*(1-Media)\n",
    "table rango_edad, c(mean varianza)\n",
    "\n",
    "display \"La varianza muestral de la media por estrato\" \n",
    "gen varianza_m=(1-f)*(varianza/n)\n",
    "table rango_edad, c(mean varianza_m)\n",
    "\n",
    "display \"El error estandar de la media por estratos\" \n",
    "gen des_estándar=sqrt(varianza_m)\n",
    "table rango_edad, c(mean des_estándar)\n",
    "\n",
    "display \"El factor de expansion de cada observación por estrato\" \n",
    "gen fac_pob = 1/f\n",
    "table rango_edad, c(mean fac_pob)"
   ]
  },
  {
   "cell_type": "markdown",
   "id": "6141c6d2",
   "metadata": {},
   "source": [
    "4.2. Declare el diseño muestral y obtenga el promedio de la variable “ppquechua” para toda la muestra utilizando el diseño muestral"
   ]
  },
  {
   "cell_type": "code",
   "execution_count": 18,
   "id": "b58adb43",
   "metadata": {},
   "outputs": [
    {
     "name": "stdout",
     "output_type": "stream",
     "text": [
      "\n",
      "      pweight: <none>\n",
      "          VCE: linearized\n",
      "  Single unit: missing\n",
      "     Strata 1: ppquechua\n",
      "         SU 1: <observations>\n",
      "        FPC 1: <zero>\n",
      "\n",
      "(running mean on estimation sample)\n",
      "\n",
      "Survey: Mean estimation\n",
      "\n",
      "Number of strata =       2        Number of obs   =      2,247\n",
      "Number of PSUs   =   2,247        Population size =      2,247\n",
      "                                  Design df       =      2,245\n",
      "\n",
      "--------------------------------------------------------------\n",
      "             |             Linearized\n",
      "             |       Mean   Std. Err.     [95% Conf. Interval]\n",
      "-------------+------------------------------------------------\n",
      "   ppquechua |   .3070761   1.85e-16      .3070761    .3070761\n",
      "--------------------------------------------------------------\n",
      "\n"
     ]
    }
   ],
   "source": [
    "%%stata\n",
    "svyset , strata(ppquechua)\n",
    "svy: mean ppquechua"
   ]
  },
  {
   "cell_type": "markdown",
   "id": "550bd993",
   "metadata": {},
   "source": [
    "4.3. Discuta como pueden utilizarse los resultados obtenidos en 4.1 para poder calcular el promedio de la variable “ppquechua” para toda la muestra."
   ]
  },
  {
   "cell_type": "markdown",
   "id": "43ddfc35",
   "metadata": {},
   "source": [
    "Se puede generar el promedio de la variable ppquechua utilizando las proporciones por estrato estimadas en 4.1, las mimas que deben ser multiplicadas por los pesos de cada estrato en la muestra. De esta manera el resultado en 4.3. puede ser obtenida por un promedio ponderado de las porporciones muestrales de cada estrato como se muestra a continuación:"
   ]
  },
  {
   "cell_type": "code",
   "execution_count": 19,
   "id": "b7d6af0a",
   "metadata": {},
   "outputs": [
    {
     "name": "stdout",
     "output_type": "stream",
     "text": [
      "\n",
      " rango_edad |      Freq.     Percent        Cum.\n",
      "------------+-----------------------------------\n",
      "    [12-24] |        115        5.12        5.12\n",
      "    [25-64] |      1,666       74.14       79.26\n",
      "      [>65] |        466       20.74      100.00\n",
      "------------+-----------------------------------\n",
      "      Total |      2,247      100.00\n",
      "\n"
     ]
    }
   ],
   "source": [
    "%%stata\n",
    "tab rango_edad"
   ]
  },
  {
   "cell_type": "code",
   "execution_count": 20,
   "id": "34da561e",
   "metadata": {},
   "outputs": [
    {
     "name": "stdout",
     "output_type": "stream",
     "text": [
      "0.30707609799732977\n"
     ]
    }
   ],
   "source": [
    "print ( .173913*(115/2247) + .302521*(1666/2247) + .3562232*(466/2247) )"
   ]
  },
  {
   "cell_type": "code",
   "execution_count": null,
   "id": "9b8da971",
   "metadata": {},
   "outputs": [],
   "source": []
  }
 ],
 "metadata": {
  "kernelspec": {
   "display_name": "Python 3 (ipykernel)",
   "language": "python",
   "name": "python3"
  },
  "language_info": {
   "codemirror_mode": {
    "name": "ipython",
    "version": 3
   },
   "file_extension": ".py",
   "mimetype": "text/x-python",
   "name": "python",
   "nbconvert_exporter": "python",
   "pygments_lexer": "ipython3",
   "version": "3.9.7"
  }
 },
 "nbformat": 4,
 "nbformat_minor": 5
}
