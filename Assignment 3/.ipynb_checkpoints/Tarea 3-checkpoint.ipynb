{
 "cells": [
  {
   "cell_type": "code",
   "execution_count": null,
   "id": "4dcaed88",
   "metadata": {
    "scrolled": true
   },
   "outputs": [],
   "source": []
  },
  {
   "cell_type": "markdown",
   "id": "4a862e80",
   "metadata": {},
   "source": [
    "# Tarea 2 – Computación en paralelo"
   ]
  },
  {
   "cell_type": "markdown",
   "id": "ca936275",
   "metadata": {},
   "source": [
    "## Integrantes:"
   ]
  },
  {
   "cell_type": "markdown",
   "id": "89608c43",
   "metadata": {},
   "source": [
    " - Carlos Andrés Zelada Chambilla - F0843894\n",
    " - Hans Isaí Aguirre Ccerare - F0730020"
   ]
  },
  {
   "cell_type": "markdown",
   "id": "420a1fc5",
   "metadata": {},
   "source": [
    "### Parte I\n",
    "#### Responda las siguientes preguntas en 200 palabras o menos (2 puntos cada una)\n"
   ]
  },
  {
   "cell_type": "markdown",
   "id": "095c0c3c",
   "metadata": {},
   "source": []
  },
  {
   "cell_type": "markdown",
   "id": "95869e4d",
   "metadata": {},
   "source": [
    "#### 3.\t¿En qué se diferencia un CPU de un GPU? Dé un ejemplo de un proceso que convendría paralelizar en cada uno de estos tipos de unidad de procesamiento. "
   ]
  },
  {
   "cell_type": "markdown",
   "id": "b3527478",
   "metadata": {},
   "source": [
    "La principal diferencia entre una CPU y GPU es que la CPU está diseñada para procesos seriales que requieran mayor potencia; y, la GPU está diseñada para realizar procesos específicos de poca complejidad de forma paralela. \n",
    "\n",
    "La razón por las que, es más conveniente realizar múltiples procesos sencillos en los GPU, se debe principalmente a que los GPU se dividen en miles de unidades de procesamiento de baja capacidad, mientras que los CPU se dividen en pocas unidades de procesamiento de gran capacidad. Por lo anterior, es mejor paralelizar la ejecución de miles de procesos sencillos en un GPU, y mucho menos conveniente operar esos miles de procesos de forma serial en un CPU.\n",
    "Los GPU, originalmente fueron prensados par procesar imágenes. Debido a las miles de unidades de procesamiento con las que cuenta un GPU, era conveniente ejecutar de forma paralela cada uno de los pixeles de una imagen en cada unidad de procesamiento del GPU. Por ello, un ejemplo de un proceso embarazosamente paralelizable sería la suma de elemento a elemento de dos vectores de un millón de elementos. De acuerdo a lo explicado, el siguiente proceso se podría realizar de forma paralela en un GPU: suma de los primeros elementos de los vectores, la suma de los segundos elementos de los vectores, etc.\n",
    "\n",
    "Cabe resaltar que, la paralización en GPUs resulta muy útil al realizar procesos de deeplearnig con redes neuronales.\n",
    "\n"
   ]
  },
  {
   "cell_type": "markdown",
   "id": "3f444236",
   "metadata": {},
   "source": [
    "\n"
   ]
  },
  {
   "cell_type": "markdown",
   "id": "0593870f",
   "metadata": {},
   "source": [
    "#### 4.\tPiense en una tarea serial que le han encargado paralelizar. Describa el diseño de la implementación en paralelo de dicha tarea siguiente el método de Foster y los cuatro elementos que lo componen."
   ]
  },
  {
   "cell_type": "markdown",
   "id": "6b05dcba",
   "metadata": {},
   "source": [
    "En el caso de la aplicación de un modelo de machine learning por cross-validation, de forma general, se deben seguir los siguientes pasos:\n",
    "\n",
    "•\tSegún el método de k-flods, la muestra se divide k veces en un grupo de k elementos y otro de n-k elementos, donde n es el total de la muestra. <br/>\n",
    "•\tSe entrena el modelo en los n-k elementos de cada diferente división. <br/>\n",
    "•\tSe usa el modelo entrenado en el grupo de k elementos guardados para el testeo, calculándose el MSE en cada una de las diferentes divisiones <br/>\n",
    "•\t Luego, se promedian todos los MSE individuales para encontrar el MSE total \n",
    "\n",
    "Por lo anterior, para hacer una correcta paralelización la solución al problema de paralelización debe tener cuatro partes: partición, comunicación, agregación y el mapeo. En ese sentido, aplicando el método de Foster en el problema propuesto, la solución de paralelización se estructura de la siguiente manera:\n",
    "\n",
    "###### Partición\n",
    "\n",
    "Se puede partir la ejecución del segundo y tercer punto en diferentes procesadores (número de procesadores = p). Es decir, cada procesador incorporará k/p muestras dividida por cross validation. Luego, entrenará el modelo y calculará el MSE en el grupo de validación de cada partición.\n",
    "\n",
    "###### Comunicación\n",
    "\n",
    "Se observa dos instancias de comunicación entre unidades de procesamiento. La primera, en la etapa en la que el procesador que divide la muestra k veces por cross-validation asigne las muestras particionadas, de tal manera que cada procesador entrene el modelo y calcule el MSE individual con diferentes datos, sin repeticiones en la asignación de grupos de entrenamiento y validación.\n",
    "\n",
    "La segunda instancia de comunicación se da al momento de calcular el MSE total, para realizar este proceso las unidades de procesamiento deben enviar el MSE de cada división a una base de datos, de tal forma que, un solo procesador calcule el MSE agregado.\n",
    "\n",
    "###### Agregación\n",
    "Las tareas de dividir la muestra y luego calcular el MSE de cada partición y enviar dicho MSE a una base de datos se pueden agregar en diferentes procesadores. Cada procesador realizaría estás tareas de forma agrupada.\n",
    "\n",
    "###### Mapeo\n",
    "\n",
    "La división de las muestras por el método de k-flods se asignan a un solo procesador.\n",
    "Cada procesador recibe un número de k/p muestras definidas previamente. Luego, cada procesador entrena el modelo en el grupo de entrenamiento y calcula el MSE individual en el grupo de validación\n",
    "Por último, uno de los procesadores recibe los MSE individuales y calcula el MSE agregado.\n"
   ]
  },
  {
   "cell_type": "markdown",
   "id": "ce5aa974",
   "metadata": {},
   "source": [
    "### Parte II\n"
   ]
  },
  {
   "cell_type": "markdown",
   "id": "a54d1029",
   "metadata": {},
   "source": [
    "#### 1. Escribir un código (“parte2_1.py”) que realice lo siguiente:\n"
   ]
  },
  {
   "cell_type": "markdown",
   "id": "6b21fbd4",
   "metadata": {},
   "source": [
    "a.\tQue un procesador genere un diccionario y lo envíe a otros tres procesadores. <br/>\n",
    "b.\tQue cada uno de los tres procesadores reciba el diccionario enviado, imprima su número de procesador y el diccionario. <br/>\n",
    "c.\tEn otro chunk responda: Si usted ejecutara el código 10 veces, ¿el orden de los resultados sería siempre igual? ¿Por qué?\n"
   ]
  },
  {
   "cell_type": "markdown",
   "id": "3247316d",
   "metadata": {},
   "source": [
    "#### 2.\tEstablecer una semilla (“seed”) usando los dígitos del cumpleaños de alguno de los miembros de la pareja."
   ]
  },
  {
   "cell_type": "markdown",
   "id": "8e81e4f6",
   "metadata": {},
   "source": [
    "a.\tQue un procesador genere dos numpy array diferentes, cada uno de 1,000,000 observaciones. Llamar “num1” y “num2” a estos numpy<br/>\n",
    "b.\tEnviar cada numpy a un procesador diferente. Que cada uno de los otros procesadores reciba su numpy<br/>\n",
    "c.\tQue otro procesador (que no haya recibido nada) reciba “num1” y “num2” y los imprima.<br/>\n",
    "d.\tEjecute el código creado y registre el tiempo que toma realizar este ejercicio.<br/>\n",
    "e.\tEn otro chunk responda: ¿existe una manera de agilizar este proceso con las herramientas de MPI? Sea detallado en su respuesta y argumentos.\n"
   ]
  },
  {
   "cell_type": "markdown",
   "id": "ccc75878",
   "metadata": {},
   "source": [
    "#### 3. Escribir un código (“parte2_2.py”) que realice lo siguiente:"
   ]
  },
  {
   "cell_type": "markdown",
   "id": "5a862384",
   "metadata": {},
   "source": [
    "a.\tEscribir un código que halle el valor máximo de “tarea2” usando un procesador. Imprimir el valor máximo. Registrar el tiempo de demora"
   ]
  },
  {
   "cell_type": "code",
   "execution_count": 151,
   "id": "9b8da971",
   "metadata": {},
   "outputs": [],
   "source": [
    "import os\n",
    "os.chdir('C:\\\\Users\\\\Hans\\\\Downloads\\\\MPI')"
   ]
  },
  {
   "cell_type": "code",
   "execution_count": 179,
   "id": "c9028fd1",
   "metadata": {},
   "outputs": [
    {
     "name": "stdout",
     "output_type": "stream",
     "text": [
      "Overwriting parte2_2.py\n"
     ]
    }
   ],
   "source": [
    "%%writefile parte2_2.py\n",
    "from mpi4py import MPI\n",
    "import pandas as pd\n",
    "import numpy as np\n",
    "from numpy import genfromtxt\n",
    "\n",
    "comm = MPI.COMM_WORLD # all available processors to communicate \n",
    "rank = comm.Get_rank() # give ranks to processors, local variable for e/ processor\n",
    "size = comm.Get_size() # each processor identifies the total processors \n",
    "\n",
    "my_data = genfromtxt('C:\\\\Users\\\\Hans\\\\Downloads\\\\MPI\\\\tarea2.csv', delimiter=',')\n",
    "print(\"Máximo:\",my_data.max())"
   ]
  },
  {
   "cell_type": "code",
   "execution_count": 180,
   "id": "f10426f1",
   "metadata": {},
   "outputs": [
    {
     "name": "stdout",
     "output_type": "stream",
     "text": [
      "Máximo: 0.99999982\n",
      "Tiempo: 3.2010562419891357\n"
     ]
    }
   ],
   "source": [
    "import time\n",
    "start = time.time()\n",
    "! mpiexec -n 1 python parte2_2.py\n",
    "end = time.time()\n",
    "tiempo_1=end - start\n",
    "print(\"Tiempo:\", end - start)"
   ]
  },
  {
   "cell_type": "markdown",
   "id": "6aaef1b5",
   "metadata": {},
   "source": [
    "b.\tEscribir un código que realice las siguientes indicaciones. Dividir el numpy en dos partes iguales. Que dos procesadores distintos encuentren el máximo de cada parte. Que otro procesador junte los máximos hallados y encuentre el máximo global. Este resultado debe ser igual al de 3a. Registrar el tiempo de demora."
   ]
  },
  {
   "cell_type": "code",
   "execution_count": 181,
   "id": "3b2649fe",
   "metadata": {},
   "outputs": [
    {
     "name": "stdout",
     "output_type": "stream",
     "text": [
      "Overwriting parte2_2.py\n"
     ]
    }
   ],
   "source": [
    "%%writefile parte2_2.py\n",
    "from mpi4py import MPI\n",
    "from numpy import genfromtxt\n",
    "\n",
    "comm = MPI.COMM_WORLD # all available processors to communicate \n",
    "rank = comm.Get_rank() # give ranks to processors, local variable for e/ processor\n",
    "size = comm.Get_size() # each processor identifies the total processors \n",
    "\n",
    "my_data = genfromtxt('C:\\\\Users\\\\Hans\\\\Downloads\\\\MPI\\\\tarea2.csv', delimiter=',')\n",
    "\n",
    "if rank == 0:\n",
    "    a=my_data[0:524287].max()\n",
    "    comm.send(a, dest=2 , tag=1)\n",
    "if rank == 1:\n",
    "    b=my_data[524287:len(my_data)].max()\n",
    "    comm.send(b, dest=2 , tag=2)\n",
    "if rank == 2:\n",
    "    a=comm.recv(source=0 , tag=1)\n",
    "    b=comm.recv(source=1 , tag=2)\n",
    "    print(\"Máximo:\",max(a,b))"
   ]
  },
  {
   "cell_type": "code",
   "execution_count": 182,
   "id": "fd25f0a9",
   "metadata": {},
   "outputs": [
    {
     "name": "stdout",
     "output_type": "stream",
     "text": [
      "Máximo: 0.99999982\n",
      "Tiempo: 3.339416027069092\n"
     ]
    }
   ],
   "source": [
    "import time\n",
    "start = time.time()\n",
    "! mpiexec -n 3 python parte2_2.py\n",
    "end = time.time()\n",
    "tiempo_2=end - start\n",
    "print(\"Tiempo:\", end - start)"
   ]
  },
  {
   "cell_type": "markdown",
   "id": "945c03c0",
   "metadata": {},
   "source": [
    "c.\tRepetir 3b dividiendo el numpy original en tres partes. Registrar el tiempo de demora."
   ]
  },
  {
   "cell_type": "code",
   "execution_count": 183,
   "id": "ce0a572d",
   "metadata": {},
   "outputs": [
    {
     "name": "stdout",
     "output_type": "stream",
     "text": [
      "Overwriting parte2_2.py\n"
     ]
    }
   ],
   "source": [
    "%%writefile parte2_2.py\n",
    "from mpi4py import MPI\n",
    "from numpy import genfromtxt\n",
    "\n",
    "comm = MPI.COMM_WORLD # all available processors to communicate \n",
    "rank = comm.Get_rank() # give ranks to processors, local variable for e/ processor\n",
    "size = comm.Get_size() # each processor identifies the total processors \n",
    "\n",
    "my_data = genfromtxt('C:\\\\Users\\\\Hans\\\\Downloads\\\\MPI\\\\tarea2.csv', delimiter=',')\n",
    "\n",
    "if rank == 0:\n",
    "    a=my_data[0:349525].max()\n",
    "    comm.send(a, dest=3 , tag=1)\n",
    "if rank == 1:\n",
    "    b=my_data[349525:699050].max()\n",
    "    comm.send(b, dest=3 , tag=2)\n",
    "if rank == 2:\n",
    "    c=my_data[699050:len(my_data)].max()\n",
    "    comm.send(c, dest=3 , tag=3)\n",
    "if rank == 3:\n",
    "    a=comm.recv(source=0 , tag=1)\n",
    "    b=comm.recv(source=1 , tag=2)\n",
    "    c=comm.recv(source=2 , tag=3)\n",
    "    print(\"Máximo\",max(a,b,c))"
   ]
  },
  {
   "cell_type": "code",
   "execution_count": 184,
   "id": "04283cb9",
   "metadata": {},
   "outputs": [
    {
     "name": "stdout",
     "output_type": "stream",
     "text": [
      "Máximo 0.99999982\n",
      "Tiempo 4.243947505950928\n"
     ]
    }
   ],
   "source": [
    "import time\n",
    "start = time.time()\n",
    "! mpiexec -n 4 python parte2_2.py\n",
    "end = time.time()\n",
    "tiempo_3=end - start\n",
    "print(\"Tiempo\", end - start)"
   ]
  },
  {
   "cell_type": "markdown",
   "id": "32452e08",
   "metadata": {},
   "source": [
    "d.\tComparar los tiempos registrados en 3a, 3b y 3c. ¿Hay una reducción del tiempo? ¿La reducción del tiempo es lineal? ¿Por qué?"
   ]
  },
  {
   "cell_type": "code",
   "execution_count": 185,
   "id": "da85321d",
   "metadata": {},
   "outputs": [
    {
     "data": {
      "text/plain": [
       "<AxesSubplot:xlabel='Prueba'>"
      ]
     },
     "execution_count": 185,
     "metadata": {},
     "output_type": "execute_result"
    },
    {
     "data": {
      "image/png": "[encoded data removed]",
      "text/plain": [
       "<Figure size 648x432 with 1 Axes>"
      ]
     },
     "metadata": {
      "needs_background": "light"
     },
     "output_type": "display_data"
    }
   ],
   "source": [
    "df = pd.DataFrame({\"Prueba\":['a','b','c'],\"Tiempos\":[tiempo_1,tiempo_2,tiempo_3]})\n",
    "df.plot(x=\"Prueba\", y=[\"Tiempos\"],\n",
    "        kind=\"line\", figsize=(9, 6))"
   ]
  },
  {
   "cell_type": "markdown",
   "id": "168a616b",
   "metadata": {},
   "source": [
    "No hay una reducción de tiempo, el tiempo se incrementa de forma no lineal. El tiempo se incrementa devido a que estamos paralelizando un proceso que no es embarazosamente paralelizable. Se podría paralelizar el proceso propuesto siempre y cuando una unidad de procesamiento no tenga la capacidad suficiente para realizar el proceso rápidamente, lo cual no se cumple en el presente caso."
   ]
  },
  {
   "cell_type": "code",
   "execution_count": null,
   "id": "122663c8",
   "metadata": {},
   "outputs": [],
   "source": []
  },
  {
   "cell_type": "code",
   "execution_count": null,
   "id": "d2b2ed0b",
   "metadata": {},
   "outputs": [],
   "source": []
  },
  {
   "cell_type": "code",
   "execution_count": null,
   "id": "64b0c9e5",
   "metadata": {},
   "outputs": [],
   "source": []
  }
 ],
 "metadata": {
  "kernelspec": {
   "display_name": "Python 3 (ipykernel)",
   "language": "python",
   "name": "python3"
  },
  "language_info": {
   "codemirror_mode": {
    "name": "ipython",
    "version": 3
   },
   "file_extension": ".py",
   "mimetype": "text/x-python",
   "name": "python",
   "nbconvert_exporter": "python",
   "pygments_lexer": "ipython3",
   "version": "3.9.7"
  }
 },
 "nbformat": 4,
 "nbformat_minor": 5
}
