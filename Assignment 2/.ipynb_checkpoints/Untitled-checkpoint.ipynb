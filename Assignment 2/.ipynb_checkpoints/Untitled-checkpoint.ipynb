{
 "cells": [
  {
   "cell_type": "markdown",
   "id": "ded415ef",
   "metadata": {},
   "source": [
    "# Trabajo 1"
   ]
  },
  {
   "cell_type": "markdown",
   "id": "256b589a",
   "metadata": {},
   "source": [
    "## Parte III"
   ]
  },
  {
   "cell_type": "markdown",
   "id": "c08a7102",
   "metadata": {},
   "source": [
    "Responder las siguientes preguntas (prestar atención al límite de palabras de cada pregunta)."
   ]
  },
  {
   "cell_type": "markdown",
   "id": "dc53b036",
   "metadata": {},
   "source": [
    "### Pregunta 1:"
   ]
  },
  {
   "cell_type": "markdown",
   "id": "b9d4d5e5",
   "metadata": {},
   "source": [
    "#### Un hacedor de políticas públicas que cuenta con conocimientos intermedios de estadística le pide que utilice la Encuesta Nacional Agropecuaria más reciente para obtener estadísticas distritales de acceso a asistencia técnica en agricultores de Ayacucho. Estos datos serán utilizados en el diseño de un programa público de apoyo a los productores. Explíquele al funcionario si esto es posible y por qué. En caso no sea posible, propóngale qué otra fuente de datos podría usarse y cuáles serían sus ventajas y desventajas. (Palabras: 300) "
   ]
  },
  {
   "cell_type": "markdown",
   "id": "c25e8c00",
   "metadata": {},
   "source": [
    "No es posible usar la Encuesta Nacional Agropecuaria para obtener las estadísticas que se solicita debido a que, según lo que indica la ficha técnica y por la manera en la que fue diseñada la encuesta, esta solo permite realizar análisis estadísticos con niveles de inferencia nacional, regional natural y departamental. El cálculo de estadísticas distritales utilizando esta fuente de datos puede ser solo relevante a nivel de la muestra; no obstante, a nivel poblacional es muy probable que los estimadores obtenidos sean bastante sesgados e imprecisos, lo cual puede inducir a un error en la focalización del programa público de apoyo a productores que se plantea diseñar.\n",
    "\n",
    "En su lugar se podría utilizar el último Censo Nacional Agropecuario (CENAGRO), el cual presenta la ventaja de contener a toda la población de unidades agropecuarias a nivel nacional, ello permite que las estadísticas distritales que se obtengan sean isesgadas y precisas, pues practicamente estas serían las cifras poblacionales. No obstante, una de las principales desventajas del uso de la CENAGRO es que la última fue realizada en el año 2012, con lo cual no se puede asegurar que las cifras que se calculen de acceso a asitencia técnica en agricultores de Ayacucho sean las que actualmente presenta esta población, lo que podría inducir a una sub o sobre dimencionamiento del la situación actual."
   ]
  },
  {
   "cell_type": "code",
   "execution_count": null,
   "id": "f7e9cc91",
   "metadata": {},
   "outputs": [],
   "source": []
  }
 ],
 "metadata": {
  "kernelspec": {
   "display_name": "Python 3",
   "language": "python",
   "name": "python3"
  },
  "language_info": {
   "codemirror_mode": {
    "name": "ipython",
    "version": 3
   },
   "file_extension": ".py",
   "mimetype": "text/x-python",
   "name": "python",
   "nbconvert_exporter": "python",
   "pygments_lexer": "ipython3",
   "version": "3.8.8"
  }
 },
 "nbformat": 4,
 "nbformat_minor": 5
}
