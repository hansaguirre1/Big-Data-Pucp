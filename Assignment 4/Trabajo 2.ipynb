{
 "cells": [
  {
   "cell_type": "code",
   "execution_count": null,
   "id": "4dcaed88",
   "metadata": {
    "scrolled": true
   },
   "outputs": [],
   "source": []
  },
  {
   "cell_type": "markdown",
   "id": "4a862e80",
   "metadata": {},
   "source": [
    "# Trabajo 2 – Computación en paralelo"
   ]
  },
  {
   "cell_type": "markdown",
   "id": "ca936275",
   "metadata": {},
   "source": [
    "## Integrantes:"
   ]
  },
  {
   "cell_type": "markdown",
   "id": "89608c43",
   "metadata": {},
   "source": [
    " - Carlos Andrés Zelada Chambilla - F0843894\n",
    " - Hans Isaí Aguirre Ccerare - F0730020\n",
    " - Robert Salvatore Coletti Romero - F0694931\n",
    " - Heydy Bibi Condezo Monge - F0708821"
   ]
  },
  {
   "cell_type": "markdown",
   "id": "1cb1eb42",
   "metadata": {},
   "source": [
    "### Parte I\n",
    "\n",
    "#### Responda las siguientes preguntas respetando el límite máximo de palabras establecido "
   ]
  },
  {
   "cell_type": "markdown",
   "id": "13c00969",
   "metadata": {},
   "source": [
    "#### 1.\tEl equipo del QLAB, para el cual Ud. ahora trabaja, ha decidido comprar 100 tarjetas gráficas (GPUs) para PCs a fin de utilizarlas en computación en paralelo para investigación en Ciencias Sociales. Sabiendo de su experiencia en el tema, el director le ha pedido recomendaciones. Elabore una tabla de comparación de, por lo menos, tres tarjetas gráficas disponibles en Perú donde resuma a detalle las especificaciones de cada una de ellas. Finalmente, diga cuál y por qué le recomendaría al director. Recuerde que el precio es uno de los atributos a considerar.  (200 palabras, 3 puntos)  "
   ]
  },
  {
   "cell_type": "markdown",
   "id": "49e1657f",
   "metadata": {},
   "source": [
    "Para poder decir que tarjeta gráfica es la más adecuada para el equipo de QLAB, se analizarán GPUs solo de la marca NVIDIA, ya que sus librerías estándar permiten trabajar con CUDA, el cual cuenta con una librería especializada para deep learning y tiene una comunidad extensa de soporte. Por otro lado, se tomarán en cuenta 4 características principales: ancho de banda, cantidad de operaciones que pueden realizar por segundo – FLOPS, los núcleos Tensor y el precio a pagar. \n",
    "\n",
    "Dado que QLAB está dedicado al desarrollo de investigaciones en Ciencias Sociales, principalmente se usan redes neuronales recurrentes (procesamiento de texto y datos secuenciales) se priorizará mayor ancho de banda frente a FLOPS (tomado más en cuenta para redes neuronales convolucionales). A continuación, se analizarán 3 GPUs disponibles en el mercado peruano.\n",
    "\n",
    "| GPU | GEFORCE RTX 1660 | GEFORCE RTX 2060 | GEFORCE RTX 2070 | GEFORCE RTX 3070 |\n",
    "| --- | --- | --- | --- | --- |\n",
    "| Ancho de banda | 336GB/s | 448.00 GB/s | 448.0 GB/s | 448.00 GB/s |\n",
    "| FLOPS  | 4.4 Tflops | 6,5 Tflops | 7.5 Tflops | 20.31 Tflops |\n",
    "| Núcleo Tensor | 240 | 240 de 2.ª generación | 320 de 2.ª generación | 184 de 3.ª generación |\n",
    "| Precio* | S/ 1 400.00 | S/ 2 330.00 | S/ 2 500.00 | S/ 3 200.00 |\n",
    "\n",
    "[^1]: *Precios calculados en promedio de: R Store, Linio y Mercado Libre\n",
    "\n",
    "Después de revisar las características de las cuatro tarjetas gráficas citadas, se recomienda comprar GEFORCE RTX 2070, por su relación precio rendimiento, ya que tiene un ancho de banda superior que el GEFORCE RTX 1660 e igual que las otras tarjetas analizadas, mayor cantidad de núcleos tensores que la versión RTX 2060 y el precio es menor a la versión RTX 3070 y no difiere mucho de la RTX 2060.\n"
   ]
  },
  {
   "cell_type": "markdown",
   "id": "69dc3baf",
   "metadata": {},
   "source": [
    "#### 2.\tRevise el artículo de Couper (2013)  y la entrevista a Ng (2022) . Elabore un comentario informado y crítico con sus apreciaciones sobre “Good Data & Big Data” ¿uno reemplazará al otro y por qué? ¿se pueden complementar y cómo? Dé, por lo menos dos ejemplos/ideas acordes a su argumento (500 palabras, 4 puntos). "
   ]
  },
  {
   "cell_type": "markdown",
   "id": "01dc8099",
   "metadata": {},
   "source": [
    "Hoy en día con los avances de las nuevas tecnologías, la información se ha convertido en una vía importante de negocio, puesto que permite a las empresas conocer cada vez más a sus clientes, tomando en cuenta sus necesidades y comportamientos frente a productos y servicios. Por ejemplo: cada vez que entramos en una website, facilitamos una serie de datos sobre nuestra actividad: con qué fin entramos, la habitualidad de visitas y cómo accedemos. Sin embargo, es información que necesariamente hay que tomar con pinzas, ya que en estos espacios se pueden producir ciertas limitaciones y sesgos, por lo que tiene que pasar por procesos de filtro de calidad de información (Good Data).\n",
    "\n",
    "Al considerar la gran utilidad del uso de bases de datos, podríamos centrarnos principalmente en los siguientes atributos para tomar en cuenta la validación de su uso: volumen, variedad, velocidad (Couper, 2013), veracidad y valor. En la actualidad, diferentes compañías son capaces de tener grandes cantidades de datos (volumen), diferentes datos según el modo de carga (variedad), así como estos datos pueden crearse con rapidez (velocidad). Sin embargo, el componente más importante de la data recaería en su veracidad: el conjunto de datos que son filtrados por su calidad que es conocido como Good Data, la cual genera valor. Caso contrario a este, podría decirse que se tiene información inexacta y que no proporciona inteligencia útil.\n",
    "\n",
    "Nos referimos a Big Data como un concepto que engloba grandes volúmenes de datos, que al igual que otros datos de dimensiones más pequeñas la Big Data debe pasar por filtros de calidad para extraer los datos más precisos o Good Data, la cual es finalmente la data que proporcionará información útil. Por lo tanto, no sería factible decir que un concepto reemplazará al otro, puesto que ambos conceptos hacen referencia a aspectos distintos de la data, mientras que uno (Good Data) se relaciona a data filtrada y seleccionada; la otra (Big Data) refiere a un conjunto enorme de datos en bruto. Extraer la Good Data de una Big Data podría brindarnos información bastante poderosa e inteligente, puesto que estaríamos complementando cantidad con calidad y de ello se podría sacar provecho para crear sistemas según la necesidad requiera.\n",
    "\n",
    "Por otro lado, como menciona Andrew Ng (2022), tenemos otras entidades donde el conjunto enorme de datos (Big Data) simplemente no existe; puede ser por falta de presupuesto para la extracción de los datos, por falta de especialistas o por otros factores. Estas entidades podrían enfocarse más en la Good Data en pequeñas escalas que en la Big Data para desarrollar sistemas que puedan ser beneficiosos. Por ejemplo, Ng relata que elaboró un sistema de reconocimiento fácil con 350 millones de imágenes, cuya arquitectura sólo funciona con esa cantidad promedio de información; no obstante, resulta que, si se cuenta con 50 ejemplares realmente buenos, se puede construir algo que también puede ser valioso, como un sistema de inspección de defectos.\n",
    "\n",
    "Couper (2013) al relatar sobre las posibles limitaciones del Big Data menciona que size is not everything. Es decir, no necesariamente lo más grande es mejor, sugiriendo que todo método de análisis de información tiene que ser evaluado, y como tal puede tener aciertas y falencias, por lo cual hace énfasis en que mientras los datos en conjunto que se utilicen sean precisos estos tendrán valor para ser aprovechados."
   ]
  },
  {
   "cell_type": "markdown",
   "id": "a58c98dd",
   "metadata": {},
   "source": [
    "### Parte II"
   ]
  },
  {
   "cell_type": "markdown",
   "id": "4d40db10",
   "metadata": {},
   "source": [
    "#### 1. Presentación del problema de predicción que se desea realizar (por ejemplo, predecir la vulnerabilidad de los hogares en el Perú). Defina claramente qué datos utilizara, cuál es su variable target y cuáles sus predictores. "
   ]
  },
  {
   "cell_type": "markdown",
   "id": "1f08dab6",
   "metadata": {},
   "source": [
    "En el Perú, los estudios prospectivos relativos a la educación siguen considerando las coberturas por nivel educativo y, por lo tanto, proyectan sus tasas. La preocupación por incorporar niños, adolescentes y jóvenes al sistema escolar explicaría su utilidad como un indicador para trabajar en las políticas educativas. \n",
    "Si bien han habido avances en el sector educación que son significativos, como el aumento de la inversión en educación: el gasto en educación como porcentaje del PIB pasó de representar un crecimiento de 7.6% en 2022 a comparación con el año anterior. Contrariamente, se siguen produciendo desigualdades en el acceso a la educación, el cual es un factor impactante, especialmente a medida que se avanza hacia niveles educativos de mayor grado, y están relacionadas principalmente con el nivel socioeconómico, el género, la ubicación rural o urbana y la lengua de origen. En los últimos diez años la tasa de matrícula escolar en el Perú no ha seguido una misma tendencia (Estadísticas de Educación: Matrícula Escolar en el Sistema Educativo, Según Nivel, Modalidad y Sector, 2010-2020 - INEI) . Por lo tanto, predecir la cantidad de matrículas para los siguientes años permitiría una adecuada planificación logística, pero aún más importante serviría como insumo para tomar medidas enfocadas a alcanzar niveles óptimos.\n",
    "\n",
    "Por ello, en el presente trabajo se busca predecir el número de alumnos matriculados, para lo cual, se utilizará la data de los Censos Educativos 2018-2020.\n",
    "- La variable target: Número de matriculados\n",
    "- Las variables predictoras: Número de docentes, Número de recursos, rural, sierra, selva, polidocente multigrado, polidocente_completo, 'Cantidad de docentes por alumno, altitud, 'NLAT_IE', 'NLONG_IE']]\n"
   ]
  },
  {
   "cell_type": "markdown",
   "id": "8a180037",
   "metadata": {},
   "source": [
    "#### 2. Describa los pasos a realizar para su aplicación de ML. "
   ]
  },
  {
   "cell_type": "markdown",
   "id": "c7648d3e",
   "metadata": {},
   "source": [
    "- Descargar la data de la página de MINEDU\n",
    "- Preparar y limpiar la data: eliminar los valores perdidos; juntar los Censos de Educación de los años 2018, 2019 y 2020 y el módulo de ENAHO sobre crecimiento poblacional; corrección de los errores estructurales y reconocer los datos más apropiados para desarrollar el propósito.\n",
    "- Analizar y explorar los datos.\n",
    "- Definir la variable target y los predictores.\n",
    "- Dividir la data en subsets, entrenamiento y test.\n",
    "- Transformar el data frame en dask array\n",
    "- Elegir el modelo de aprendizaje: Se optó por un modelo de Regresión Lineal para modelar la relación entre la variable target y el vector de predictores. Se establecieron los parámetros Lasso y Ridge\n",
    "- Aplicar el modelo de verificación para probar el rendimiento del modelo predictivo de ML: cross-validation, haciendo uso de 4 particiones(k-fold).\n",
    "- Ajustar los hiperparámetros con Grid Search Cross Validation\n",
    "- Estimar y evaluar los indicadores de calidad\n"
   ]
  },
  {
   "cell_type": "markdown",
   "id": "ae113cd9",
   "metadata": {},
   "source": [
    "#### 3. Describa cómo llevaría a cabo este ejercicio de manera serial y compárelo a su aplicación serial. Como parte de esta descripción, incluir los siguientes aspectos: "
   ]
  },
  {
   "cell_type": "markdown",
   "id": "7782986d",
   "metadata": {},
   "source": [
    "##### a.\tExplicar qué partes del ejercicio se harán de forma serial y por qué no paralelizo estas tareas.\n",
    "\n",
    "- La importación de la data se hizo de manera serial, ya que provenía de una sola fuente, además se calculó el tiempo si se particionaba o no y no se encontró una diferencia relevante que hubiera significado una ventaja al paralelizar.\n",
    "- Train-test splitting, Porque parten de una misma data y porque es secuencial, después de obtener la data de entrenamiento se obtine la de test\n",
    "- Evaluar los indicadores de calidad, porque se obtiene del total de la data."
   ]
  },
  {
   "cell_type": "markdown",
   "id": "099c5906",
   "metadata": {},
   "source": [
    "##### b.\tPara las tareas en paralelo, explique usando el método de Foster como se dan las etapas de partición, comunicación, aglomeración y mapeo (PCAM) para su aplicación.\n",
    "\n",
    "- Partición\n",
    "Se puede partir la ejecución del entrenamiento de los N-K elementos(los elementos de cada N-K folds) en un procesador diferente (número de procesadores = p). Es decir, cada procesador incorporará k/p muestras dividida por cross validation. Luego, entrenará el modelo y calculará el MSE en el grupo de validación de cada partición.\n",
    "\n",
    "- Comunicación\n",
    "Se observan dos instancias de comunicación entre unidades de procesamiento. La primera, en la etapa en la que el procesador que divide la muestra k veces por cross-validation asigne las muestras particionadas, de tal manera que cada procesador entrene el modelo y calcule el MSE individual con diferentes datos, sin repeticiones en la asignación de grupos de entrenamiento y validación.\n",
    "La segunda instancia de comunicación se da al momento de calcular el MSE total, para realizar este proceso las unidades de procesamiento deben enviar el MSE de cada división a una base de datos, de tal forma que, un solo procesador calcule el MSE agregado.\n",
    "\n",
    "- Agregación\n",
    "Las tareas de dividir la muestra y luego calcular el MSE de cada partición y enviar dicho MSE a una base de datos se pueden agregar en diferentes procesadores. Luego ajustar los hiperparámetros con Grid Search y Cross Validation. Cada procesador realizaría estás tareas de forma agrupada.\n",
    "\n",
    "- Mapeo\n",
    "Uso de asignación estática. La división de las muestras por el método de k-flods se asignan a un solo procesador. Cada procesador recibe un número de k/p muestras definidas previamente. Luego, cada procesador entrena el modelo en el grupo de entrenamiento y calcula el MSE individual en el grupo de validación. Por último, uno de los procesadores recibe los MSE individuales y calcula el MSE agregado."
   ]
  },
  {
   "cell_type": "markdown",
   "id": "696dd5e9",
   "metadata": {},
   "source": [
    "##### c. Discuta qué tipos de procesadores podría utilizar para cada parte. (No es necesario que utilice los GPU pese a que señale su mejor desempeño)"
   ]
  },
  {
   "cell_type": "markdown",
   "id": "95e7d171",
   "metadata": {},
   "source": [
    "- Los CPU se dividen en pocas unidades de procesamiento de gran capacidad, por lo que la CPU está diseñada para procesos seriales que requieran mayor potencia. Estos procesos podrían ser:  preparar y limpiar la data; analizar y explorar los datos; dividir la data en subsets; entrenamiento y test; evaluar los indicadores de calidad; elegir el modelo de aprendizaje, aplicar cross-validation.\n",
    "\n",
    "- Debido a que los GPU se dividen en miles de unidades de procesamiento de baja capacidad, es  conveniente realizar procesos sencillos en los GPU, los cuales para el presente trabajo podrían ser: Definir la variable target y los predictores; transformar el data frame en dask array."
   ]
  },
  {
   "cell_type": "markdown",
   "id": "aa0d9fbf",
   "metadata": {},
   "source": [
    "##### d. Identificar los cuellos de botella del ejercicio y comentar hasta qué punto la paralelización puede ayudar a resolverlos."
   ]
  },
  {
   "cell_type": "markdown",
   "id": "31a247ab",
   "metadata": {},
   "source": [
    "Al momento de ejecutar el Model-fitting se presenta un cuello de botella, debido a la cantidad de data se toma más de tiempo para el procesamiento, por ello el paralelizar ayuda a disminuir el tiempo empleado, dividiendo una cantidad de observaciones para cada procesador."
   ]
  },
  {
   "cell_type": "markdown",
   "id": "dd952ef3",
   "metadata": {},
   "source": [
    "#### 4. Uso de Dask. "
   ]
  },
  {
   "cell_type": "code",
   "execution_count": 1,
   "id": "5c1b4a39",
   "metadata": {},
   "outputs": [],
   "source": [
    "%matplotlib inline\n",
    "#conda install -c conda-forge dask-ml\n",
    "#! pip install dask[dataframe] --upgrade\n",
    "#! pip install dask[array] --upgrade\n",
    "#! pip install memory_profiler\n",
    "#!conda install python-graphviz\n",
    "import sys\n",
    "from sklearn.model_selection import KFold\n",
    "from sklearn.model_selection import cross_val_score\n",
    "from sklearn import linear_model\n",
    "from sklearn.metrics import mean_squared_error\n",
    "from sklearn.metrics import r2_score\n",
    "import pandas as pd\n",
    "import numpy as np\n",
    "import matplotlib.pyplot as plt\n",
    "import time\n",
    "import os\n",
    "import dask\n",
    "import dask.array as da\n",
    "import dask.dataframe as dd\n",
    "import dask.bag as db\n",
    "from dask.diagnostics import ProgressBar\n",
    "from memory_profiler import memory_usage\n",
    "from dask.distributed import Client, LocalCluster\n",
    "import dask.array as da\n",
    "from dask_ml.datasets import make_regression\n",
    "from dask_ml.model_selection import GridSearchCV, train_test_split\n",
    "from sklearn.pipeline import Pipeline\n",
    "from dask_ml.linear_model import LinearRegression\n",
    "from dask_ml.preprocessing import StandardScaler\n",
    "from dask_ml.metrics import mean_squared_error\n",
    "from dask_ml.metrics import r2_score\n",
    "from dask_ml.model_selection import train_test_split\n",
    "from dask_ml.preprocessing import StandardScaler\n",
    "from sklearn.model_selection import cross_val_score\n",
    "import joblib"
   ]
  },
  {
   "cell_type": "code",
   "execution_count": null,
   "id": "447969b1",
   "metadata": {},
   "outputs": [],
   "source": []
  },
  {
   "cell_type": "code",
   "execution_count": 2,
   "id": "cb7feb5a",
   "metadata": {},
   "outputs": [
    {
     "data": {
      "text/html": [
       "<div>\n",
       "    <div style=\"width: 24px; height: 24px; background-color: #e1e1e1; border: 3px solid #9D9D9D; border-radius: 5px; position: absolute;\"> </div>\n",
       "    <div style=\"margin-left: 48px;\">\n",
       "        <h3 style=\"margin-bottom: 0px;\">Client</h3>\n",
       "        <p style=\"color: #9D9D9D; margin-bottom: 0px;\">Client-81757040-f98e-11ec-82e4-d8d0902b76ee</p>\n",
       "        <table style=\"width: 100%; text-align: left;\">\n",
       "\n",
       "        <tr>\n",
       "        \n",
       "            <td style=\"text-align: left;\"><strong>Connection method:</strong> Cluster object</td>\n",
       "            <td style=\"text-align: left;\"><strong>Cluster type:</strong> distributed.LocalCluster</td>\n",
       "        \n",
       "        </tr>\n",
       "\n",
       "        \n",
       "            <tr>\n",
       "                <td style=\"text-align: left;\">\n",
       "                    <strong>Dashboard: </strong> <a href=\"http://127.0.0.1:8787/status\" target=\"_blank\">http://127.0.0.1:8787/status</a>\n",
       "                </td>\n",
       "                <td style=\"text-align: left;\"></td>\n",
       "            </tr>\n",
       "        \n",
       "\n",
       "        </table>\n",
       "\n",
       "        \n",
       "            <details>\n",
       "            <summary style=\"margin-bottom: 20px;\"><h3 style=\"display: inline;\">Cluster Info</h3></summary>\n",
       "            <div class=\"jp-RenderedHTMLCommon jp-RenderedHTML jp-mod-trusted jp-OutputArea-output\">\n",
       "    <div style=\"width: 24px; height: 24px; background-color: #e1e1e1; border: 3px solid #9D9D9D; border-radius: 5px; position: absolute;\">\n",
       "    </div>\n",
       "    <div style=\"margin-left: 48px;\">\n",
       "        <h3 style=\"margin-bottom: 0px; margin-top: 0px;\">LocalCluster</h3>\n",
       "        <p style=\"color: #9D9D9D; margin-bottom: 0px;\">e048f9d9</p>\n",
       "        <table style=\"width: 100%; text-align: left;\">\n",
       "            <tr>\n",
       "                <td style=\"text-align: left;\">\n",
       "                    <strong>Dashboard:</strong> <a href=\"http://127.0.0.1:8787/status\" target=\"_blank\">http://127.0.0.1:8787/status</a>\n",
       "                </td>\n",
       "                <td style=\"text-align: left;\">\n",
       "                    <strong>Workers:</strong> 4\n",
       "                </td>\n",
       "            </tr>\n",
       "            <tr>\n",
       "                <td style=\"text-align: left;\">\n",
       "                    <strong>Total threads:</strong> 8\n",
       "                </td>\n",
       "                <td style=\"text-align: left;\">\n",
       "                    <strong>Total memory:</strong> 7.88 GiB\n",
       "                </td>\n",
       "            </tr>\n",
       "            \n",
       "            <tr>\n",
       "    <td style=\"text-align: left;\"><strong>Status:</strong> running</td>\n",
       "    <td style=\"text-align: left;\"><strong>Using processes:</strong> True</td>\n",
       "</tr>\n",
       "\n",
       "            \n",
       "        </table>\n",
       "\n",
       "        <details>\n",
       "            <summary style=\"margin-bottom: 20px;\">\n",
       "                <h3 style=\"display: inline;\">Scheduler Info</h3>\n",
       "            </summary>\n",
       "\n",
       "            <div style=\"\">\n",
       "    <div>\n",
       "        <div style=\"width: 24px; height: 24px; background-color: #FFF7E5; border: 3px solid #FF6132; border-radius: 5px; position: absolute;\"> </div>\n",
       "        <div style=\"margin-left: 48px;\">\n",
       "            <h3 style=\"margin-bottom: 0px;\">Scheduler</h3>\n",
       "            <p style=\"color: #9D9D9D; margin-bottom: 0px;\">Scheduler-0bb45dbc-1e0a-4b8f-af57-0ec95ed48e56</p>\n",
       "            <table style=\"width: 100%; text-align: left;\">\n",
       "                <tr>\n",
       "                    <td style=\"text-align: left;\">\n",
       "                        <strong>Comm:</strong> tcp://127.0.0.1:49387\n",
       "                    </td>\n",
       "                    <td style=\"text-align: left;\">\n",
       "                        <strong>Workers:</strong> 4\n",
       "                    </td>\n",
       "                </tr>\n",
       "                <tr>\n",
       "                    <td style=\"text-align: left;\">\n",
       "                        <strong>Dashboard:</strong> <a href=\"http://127.0.0.1:8787/status\" target=\"_blank\">http://127.0.0.1:8787/status</a>\n",
       "                    </td>\n",
       "                    <td style=\"text-align: left;\">\n",
       "                        <strong>Total threads:</strong> 8\n",
       "                    </td>\n",
       "                </tr>\n",
       "                <tr>\n",
       "                    <td style=\"text-align: left;\">\n",
       "                        <strong>Started:</strong> Just now\n",
       "                    </td>\n",
       "                    <td style=\"text-align: left;\">\n",
       "                        <strong>Total memory:</strong> 7.88 GiB\n",
       "                    </td>\n",
       "                </tr>\n",
       "            </table>\n",
       "        </div>\n",
       "    </div>\n",
       "\n",
       "    <details style=\"margin-left: 48px;\">\n",
       "        <summary style=\"margin-bottom: 20px;\">\n",
       "            <h3 style=\"display: inline;\">Workers</h3>\n",
       "        </summary>\n",
       "\n",
       "        \n",
       "        <div style=\"margin-bottom: 20px;\">\n",
       "            <div style=\"width: 24px; height: 24px; background-color: #DBF5FF; border: 3px solid #4CC9FF; border-radius: 5px; position: absolute;\"> </div>\n",
       "            <div style=\"margin-left: 48px;\">\n",
       "            <details>\n",
       "                <summary>\n",
       "                    <h4 style=\"margin-bottom: 0px; display: inline;\">Worker: 0</h4>\n",
       "                </summary>\n",
       "                <table style=\"width: 100%; text-align: left;\">\n",
       "                    <tr>\n",
       "                        <td style=\"text-align: left;\">\n",
       "                            <strong>Comm: </strong> tcp://127.0.0.1:49420\n",
       "                        </td>\n",
       "                        <td style=\"text-align: left;\">\n",
       "                            <strong>Total threads: </strong> 2\n",
       "                        </td>\n",
       "                    </tr>\n",
       "                    <tr>\n",
       "                        <td style=\"text-align: left;\">\n",
       "                            <strong>Dashboard: </strong> <a href=\"http://127.0.0.1:49421/status\" target=\"_blank\">http://127.0.0.1:49421/status</a>\n",
       "                        </td>\n",
       "                        <td style=\"text-align: left;\">\n",
       "                            <strong>Memory: </strong> 1.97 GiB\n",
       "                        </td>\n",
       "                    </tr>\n",
       "                    <tr>\n",
       "                        <td style=\"text-align: left;\">\n",
       "                            <strong>Nanny: </strong> tcp://127.0.0.1:49392\n",
       "                        </td>\n",
       "                        <td style=\"text-align: left;\"></td>\n",
       "                    </tr>\n",
       "                    <tr>\n",
       "                        <td colspan=\"2\" style=\"text-align: left;\">\n",
       "                            <strong>Local directory: </strong> C:\\Users\\Hans\\Downloads\\2020\\dask-worker-space\\worker-tghpxq_6\n",
       "                        </td>\n",
       "                    </tr>\n",
       "\n",
       "                    \n",
       "\n",
       "                    \n",
       "\n",
       "                </table>\n",
       "            </details>\n",
       "            </div>\n",
       "        </div>\n",
       "        \n",
       "        <div style=\"margin-bottom: 20px;\">\n",
       "            <div style=\"width: 24px; height: 24px; background-color: #DBF5FF; border: 3px solid #4CC9FF; border-radius: 5px; position: absolute;\"> </div>\n",
       "            <div style=\"margin-left: 48px;\">\n",
       "            <details>\n",
       "                <summary>\n",
       "                    <h4 style=\"margin-bottom: 0px; display: inline;\">Worker: 1</h4>\n",
       "                </summary>\n",
       "                <table style=\"width: 100%; text-align: left;\">\n",
       "                    <tr>\n",
       "                        <td style=\"text-align: left;\">\n",
       "                            <strong>Comm: </strong> tcp://127.0.0.1:49414\n",
       "                        </td>\n",
       "                        <td style=\"text-align: left;\">\n",
       "                            <strong>Total threads: </strong> 2\n",
       "                        </td>\n",
       "                    </tr>\n",
       "                    <tr>\n",
       "                        <td style=\"text-align: left;\">\n",
       "                            <strong>Dashboard: </strong> <a href=\"http://127.0.0.1:49415/status\" target=\"_blank\">http://127.0.0.1:49415/status</a>\n",
       "                        </td>\n",
       "                        <td style=\"text-align: left;\">\n",
       "                            <strong>Memory: </strong> 1.97 GiB\n",
       "                        </td>\n",
       "                    </tr>\n",
       "                    <tr>\n",
       "                        <td style=\"text-align: left;\">\n",
       "                            <strong>Nanny: </strong> tcp://127.0.0.1:49390\n",
       "                        </td>\n",
       "                        <td style=\"text-align: left;\"></td>\n",
       "                    </tr>\n",
       "                    <tr>\n",
       "                        <td colspan=\"2\" style=\"text-align: left;\">\n",
       "                            <strong>Local directory: </strong> C:\\Users\\Hans\\Downloads\\2020\\dask-worker-space\\worker-sho0c4nu\n",
       "                        </td>\n",
       "                    </tr>\n",
       "\n",
       "                    \n",
       "\n",
       "                    \n",
       "\n",
       "                </table>\n",
       "            </details>\n",
       "            </div>\n",
       "        </div>\n",
       "        \n",
       "        <div style=\"margin-bottom: 20px;\">\n",
       "            <div style=\"width: 24px; height: 24px; background-color: #DBF5FF; border: 3px solid #4CC9FF; border-radius: 5px; position: absolute;\"> </div>\n",
       "            <div style=\"margin-left: 48px;\">\n",
       "            <details>\n",
       "                <summary>\n",
       "                    <h4 style=\"margin-bottom: 0px; display: inline;\">Worker: 2</h4>\n",
       "                </summary>\n",
       "                <table style=\"width: 100%; text-align: left;\">\n",
       "                    <tr>\n",
       "                        <td style=\"text-align: left;\">\n",
       "                            <strong>Comm: </strong> tcp://127.0.0.1:49422\n",
       "                        </td>\n",
       "                        <td style=\"text-align: left;\">\n",
       "                            <strong>Total threads: </strong> 2\n",
       "                        </td>\n",
       "                    </tr>\n",
       "                    <tr>\n",
       "                        <td style=\"text-align: left;\">\n",
       "                            <strong>Dashboard: </strong> <a href=\"http://127.0.0.1:49424/status\" target=\"_blank\">http://127.0.0.1:49424/status</a>\n",
       "                        </td>\n",
       "                        <td style=\"text-align: left;\">\n",
       "                            <strong>Memory: </strong> 1.97 GiB\n",
       "                        </td>\n",
       "                    </tr>\n",
       "                    <tr>\n",
       "                        <td style=\"text-align: left;\">\n",
       "                            <strong>Nanny: </strong> tcp://127.0.0.1:49391\n",
       "                        </td>\n",
       "                        <td style=\"text-align: left;\"></td>\n",
       "                    </tr>\n",
       "                    <tr>\n",
       "                        <td colspan=\"2\" style=\"text-align: left;\">\n",
       "                            <strong>Local directory: </strong> C:\\Users\\Hans\\Downloads\\2020\\dask-worker-space\\worker-jofd_ks_\n",
       "                        </td>\n",
       "                    </tr>\n",
       "\n",
       "                    \n",
       "\n",
       "                    \n",
       "\n",
       "                </table>\n",
       "            </details>\n",
       "            </div>\n",
       "        </div>\n",
       "        \n",
       "        <div style=\"margin-bottom: 20px;\">\n",
       "            <div style=\"width: 24px; height: 24px; background-color: #DBF5FF; border: 3px solid #4CC9FF; border-radius: 5px; position: absolute;\"> </div>\n",
       "            <div style=\"margin-left: 48px;\">\n",
       "            <details>\n",
       "                <summary>\n",
       "                    <h4 style=\"margin-bottom: 0px; display: inline;\">Worker: 3</h4>\n",
       "                </summary>\n",
       "                <table style=\"width: 100%; text-align: left;\">\n",
       "                    <tr>\n",
       "                        <td style=\"text-align: left;\">\n",
       "                            <strong>Comm: </strong> tcp://127.0.0.1:49417\n",
       "                        </td>\n",
       "                        <td style=\"text-align: left;\">\n",
       "                            <strong>Total threads: </strong> 2\n",
       "                        </td>\n",
       "                    </tr>\n",
       "                    <tr>\n",
       "                        <td style=\"text-align: left;\">\n",
       "                            <strong>Dashboard: </strong> <a href=\"http://127.0.0.1:49418/status\" target=\"_blank\">http://127.0.0.1:49418/status</a>\n",
       "                        </td>\n",
       "                        <td style=\"text-align: left;\">\n",
       "                            <strong>Memory: </strong> 1.97 GiB\n",
       "                        </td>\n",
       "                    </tr>\n",
       "                    <tr>\n",
       "                        <td style=\"text-align: left;\">\n",
       "                            <strong>Nanny: </strong> tcp://127.0.0.1:49393\n",
       "                        </td>\n",
       "                        <td style=\"text-align: left;\"></td>\n",
       "                    </tr>\n",
       "                    <tr>\n",
       "                        <td colspan=\"2\" style=\"text-align: left;\">\n",
       "                            <strong>Local directory: </strong> C:\\Users\\Hans\\Downloads\\2020\\dask-worker-space\\worker-ip4l38uj\n",
       "                        </td>\n",
       "                    </tr>\n",
       "\n",
       "                    \n",
       "\n",
       "                    \n",
       "\n",
       "                </table>\n",
       "            </details>\n",
       "            </div>\n",
       "        </div>\n",
       "        \n",
       "\n",
       "    </details>\n",
       "</div>\n",
       "\n",
       "        </details>\n",
       "    </div>\n",
       "</div>\n",
       "            </details>\n",
       "        \n",
       "\n",
       "    </div>\n",
       "</div>"
      ],
      "text/plain": [
       "<Client: 'tcp://127.0.0.1:49387' processes=4 threads=8, memory=7.88 GiB>"
      ]
     },
     "execution_count": 2,
     "metadata": {},
     "output_type": "execute_result"
    }
   ],
   "source": [
    "cluster=LocalCluster()\n",
    "client=Client(cluster)\n",
    "client"
   ]
  },
  {
   "cell_type": "markdown",
   "id": "4084b0dc",
   "metadata": {},
   "source": [
    "##### a.\tEjercicio de ETL: Usar Dask Dataframes para cargar la(s) base(s) de datos que se utilizará(n) y presentar lo siguiente:"
   ]
  },
  {
   "cell_type": "code",
   "execution_count": 19,
   "id": "bf5015b1",
   "metadata": {
    "scrolled": true
   },
   "outputs": [
    {
     "name": "stderr",
     "output_type": "stream",
     "text": [
      "C:\\Users\\Hans\\anaconda3\\lib\\site-packages\\pandas\\io\\stata.py:1457: UnicodeWarning: \n",
      "One or more strings in the dta file could not be decoded using utf-8, and\n",
      "so the fallback encoding of latin-1 is being used.  This can happen when a file\n",
      "has been incorrectly encoded by Stata or some other software. You should verify\n",
      "the string values returned are correct.\n",
      "  warnings.warn(msg, UnicodeWarning)\n"
     ]
    },
    {
     "data": {
      "text/plain": [
       "count    29835.00000\n",
       "mean        97.23640\n",
       "std        190.36844\n",
       "min          1.00000\n",
       "25%         12.00000\n",
       "50%         28.00000\n",
       "75%         73.00000\n",
       "max       2620.00000\n",
       "Name: N_matriculados, dtype: float64"
      ]
     },
     "execution_count": 19,
     "metadata": {},
     "output_type": "execute_result"
    }
   ],
   "source": [
    "#Importado con pandas\n",
    "datos = pd.read_stata(r'C:\\Users\\Hans\\Downloads\\2020\\100. Dta\\Data Matriz Matriculados.dta')\n",
    "#transforme con dask\n",
    "datos_dd=dd.from_pandas(datos, npartitions=1)\n",
    "datos_dd['N_matriculados'].describe().compute()"
   ]
  },
  {
   "cell_type": "code",
   "execution_count": 20,
   "id": "2c35a431",
   "metadata": {},
   "outputs": [
    {
     "data": {
      "text/plain": [
       "Index(['COD_MOD', 'ANEXO', 'CODLOCAL', 'CEN_EDU', 'NIV_MOD', 'D_NIV_MOD',\n",
       "       'COD_CAR', 'D_COD_CAR', 'FORMA', 'D_FORMA', 'TIPOPROG', 'D_TIPOPROG',\n",
       "       'GESTION', 'D_GESTION', 'GES_DEP', 'D_GES_DEP', 'TIPSSEXO',\n",
       "       'D_TIPSSEXO', 'COD_TUR', 'D_COD_TUR', 'DIRECTOR', 'TELEFONO', 'EMAIL',\n",
       "       'PAGWEB', 'FECHAREG', 'FECHA_ACT', 'DIRECCI_N', 'LOCALIDAD',\n",
       "       'REFERENCIA', 'CODGEO', 'DPTO', 'PROV', 'DIST', 'CODOOII', 'DRE_UGEL',\n",
       "       'REGION_EDU', 'CODCP_INEI', 'CODCP_MED', 'CEN_POB', 'DAREAMED',\n",
       "       'AREA_MED', 'DIS_VRAEM', 'DIS_FRONT', 'REGION_NAT', 'NLAT_IE',\n",
       "       'NLONG_IE', 'ALTITUD', 'IMPUTADO', 'N_matriculados', 'N_Docentes',\n",
       "       'N_recursos', 'rural', 'sierra', 'selva', 'polidocente_multi',\n",
       "       'polidocente_completo'],\n",
       "      dtype='object')"
      ]
     },
     "execution_count": 20,
     "metadata": {},
     "output_type": "execute_result"
    }
   ],
   "source": [
    "datos_dd.columns"
   ]
  },
  {
   "cell_type": "markdown",
   "id": "0ea518d6",
   "metadata": {},
   "source": [
    "##### - Creación de por lo menos dos variables "
   ]
  },
  {
   "cell_type": "code",
   "execution_count": 21,
   "id": "55e7c2e0",
   "metadata": {},
   "outputs": [],
   "source": [
    "datos_dd['Docentes x alumno']=datos_dd['N_matriculados']/datos_dd['N_Docentes']\n",
    "#Carlos, agregale variables"
   ]
  },
  {
   "cell_type": "markdown",
   "id": "43aff692",
   "metadata": {},
   "source": [
    "#####  - Por lo menos dos estadísticos descriptivos que vayan en línea con el tema y argumento. Explíquelos"
   ]
  },
  {
   "cell_type": "code",
   "execution_count": null,
   "id": "2ddd3a4a",
   "metadata": {},
   "outputs": [],
   "source": []
  },
  {
   "cell_type": "markdown",
   "id": "80d1138c",
   "metadata": {},
   "source": [
    "##### - Por lo menos dos gráficos que vayan en línea con el tema y argumento."
   ]
  },
  {
   "cell_type": "code",
   "execution_count": null,
   "id": "74381c82",
   "metadata": {},
   "outputs": [],
   "source": []
  },
  {
   "cell_type": "markdown",
   "id": "d93c9bdc",
   "metadata": {},
   "source": [
    "##### b.\tImplementación de Machine Learning: Utilice Dask para entrenar por lo menos un modelo de Machine Learning supervisado. Este acápite debe contener, por lo menos, los siguientes elementos:"
   ]
  },
  {
   "cell_type": "markdown",
   "id": "d523e5c9",
   "metadata": {},
   "source": [
    "##### - Definición de predictores (X) y vector de target (y)"
   ]
  },
  {
   "cell_type": "code",
   "execution_count": 25,
   "id": "b0dc4153",
   "metadata": {},
   "outputs": [],
   "source": [
    "X=datos_dd[['N_Docentes', 'N_recursos', 'rural', 'sierra', 'selva', 'polidocente_multi', 'polidocente_completo', 'Docentes x alumno', 'ALTITUD', 'NLAT_IE', 'NLONG_IE']]\n",
    "y=datos_dd['N_matriculados' ]\n"
   ]
  },
  {
   "cell_type": "markdown",
   "id": "426f2d23",
   "metadata": {},
   "source": [
    "##### - Train-test splitting "
   ]
  },
  {
   "cell_type": "code",
   "execution_count": 28,
   "id": "e9a78d61",
   "metadata": {
    "scrolled": true
   },
   "outputs": [
    {
     "data": {
      "text/html": [
       "<div><strong>Dask DataFrame Structure:</strong></div>\n",
       "<div>\n",
       "<style scoped>\n",
       "    .dataframe tbody tr th:only-of-type {\n",
       "        vertical-align: middle;\n",
       "    }\n",
       "\n",
       "    .dataframe tbody tr th {\n",
       "        vertical-align: top;\n",
       "    }\n",
       "\n",
       "    .dataframe thead th {\n",
       "        text-align: right;\n",
       "    }\n",
       "</style>\n",
       "<table border=\"1\" class=\"dataframe\">\n",
       "  <thead>\n",
       "    <tr style=\"text-align: right;\">\n",
       "      <th></th>\n",
       "      <th>N_Docentes</th>\n",
       "      <th>N_recursos</th>\n",
       "      <th>rural</th>\n",
       "      <th>sierra</th>\n",
       "      <th>selva</th>\n",
       "      <th>polidocente_multi</th>\n",
       "      <th>polidocente_completo</th>\n",
       "      <th>Docentes x alumno</th>\n",
       "      <th>ALTITUD</th>\n",
       "      <th>NLAT_IE</th>\n",
       "      <th>NLONG_IE</th>\n",
       "    </tr>\n",
       "    <tr>\n",
       "      <th>npartitions=1</th>\n",
       "      <th></th>\n",
       "      <th></th>\n",
       "      <th></th>\n",
       "      <th></th>\n",
       "      <th></th>\n",
       "      <th></th>\n",
       "      <th></th>\n",
       "      <th></th>\n",
       "      <th></th>\n",
       "      <th></th>\n",
       "      <th></th>\n",
       "    </tr>\n",
       "  </thead>\n",
       "  <tbody>\n",
       "    <tr>\n",
       "      <th>0</th>\n",
       "      <td>float64</td>\n",
       "      <td>float64</td>\n",
       "      <td>float32</td>\n",
       "      <td>float32</td>\n",
       "      <td>float32</td>\n",
       "      <td>float32</td>\n",
       "      <td>float32</td>\n",
       "      <td>float64</td>\n",
       "      <td>int16</td>\n",
       "      <td>float64</td>\n",
       "      <td>float64</td>\n",
       "    </tr>\n",
       "    <tr>\n",
       "      <th>29834</th>\n",
       "      <td>...</td>\n",
       "      <td>...</td>\n",
       "      <td>...</td>\n",
       "      <td>...</td>\n",
       "      <td>...</td>\n",
       "      <td>...</td>\n",
       "      <td>...</td>\n",
       "      <td>...</td>\n",
       "      <td>...</td>\n",
       "      <td>...</td>\n",
       "      <td>...</td>\n",
       "    </tr>\n",
       "  </tbody>\n",
       "</table>\n",
       "</div>\n",
       "<div>Dask Name: split, 8 tasks</div>"
      ],
      "text/plain": [
       "Dask DataFrame Structure:\n",
       "              N_Docentes N_recursos    rural   sierra    selva polidocente_multi polidocente_completo Docentes x alumno ALTITUD  NLAT_IE NLONG_IE\n",
       "npartitions=1                                                                                                                                    \n",
       "0                float64    float64  float32  float32  float32           float32              float32           float64   int16  float64  float64\n",
       "29834                ...        ...      ...      ...      ...               ...                  ...               ...     ...      ...      ...\n",
       "Dask Name: split, 8 tasks"
      ]
     },
     "execution_count": 28,
     "metadata": {},
     "output_type": "execute_result"
    }
   ],
   "source": [
    "X_train, X_test, y_train,y_test=train_test_split(X,y,test_size=0.25,random_state=0)"
   ]
  },
  {
   "cell_type": "code",
   "execution_count": 29,
   "id": "0e4fcafa",
   "metadata": {},
   "outputs": [],
   "source": [
    "X_train_arr=X_train.to_dask_array(lengths=True)\n",
    "X_test_arr=X_test.to_dask_array(lengths=True)\n",
    "y_train_arr=y_train.to_dask_array(lengths=True)\n",
    "y_test_arr=y_test.to_dask_array(lengths=True)"
   ]
  },
  {
   "cell_type": "code",
   "execution_count": 30,
   "id": "dc814aba",
   "metadata": {},
   "outputs": [],
   "source": [
    "lr = Pipeline(steps=[\n",
    "    ('scale', StandardScaler()),\n",
    "    ('clf', LinearRegression(penalty='l2', max_iter=100)),\n",
    "])"
   ]
  },
  {
   "cell_type": "markdown",
   "id": "bc9b931b",
   "metadata": {},
   "source": [
    "##### - Cross-Validation\n",
    "##### - GridSearch"
   ]
  },
  {
   "cell_type": "code",
   "execution_count": 31,
   "id": "e15850f2",
   "metadata": {},
   "outputs": [],
   "source": [
    "from sklearn.model_selection import GridSearchCV\n",
    "#from dask_ml.model_selection import GridSearchCV"
   ]
  },
  {
   "cell_type": "code",
   "execution_count": 11,
   "id": "262037d1",
   "metadata": {},
   "outputs": [],
   "source": [
    "#lr.get_params()"
   ]
  },
  {
   "cell_type": "code",
   "execution_count": 12,
   "id": "c475854c",
   "metadata": {},
   "outputs": [],
   "source": [
    "#help(GridSearchCV)"
   ]
  },
  {
   "cell_type": "code",
   "execution_count": 32,
   "id": "a3d6be70",
   "metadata": {},
   "outputs": [],
   "source": [
    "parametros={\n",
    "   'clf__penalty': ['l1','l2']\n",
    "}"
   ]
  },
  {
   "cell_type": "code",
   "execution_count": 33,
   "id": "9476bec0",
   "metadata": {},
   "outputs": [],
   "source": [
    "model=GridSearchCV(lr,parametros, cv=5)"
   ]
  },
  {
   "cell_type": "markdown",
   "id": "ccf9d0bc",
   "metadata": {},
   "source": [
    "##### - Model fit y selección del modelo óptimo "
   ]
  },
  {
   "cell_type": "code",
   "execution_count": 34,
   "id": "90c1d3e7",
   "metadata": {},
   "outputs": [
    {
     "name": "stdout",
     "output_type": "stream",
     "text": [
      "Wall time: 1min 17s\n"
     ]
    }
   ],
   "source": [
    "%%time\n",
    "with joblib.parallel_backend('dask'):\n",
    "    model.fit(X_train_arr, y_train_arr)"
   ]
  },
  {
   "cell_type": "code",
   "execution_count": 16,
   "id": "712c1672",
   "metadata": {},
   "outputs": [],
   "source": [
    "#%%time\n",
    "#model.fit(X_train_arr, y_train_arr)"
   ]
  },
  {
   "cell_type": "markdown",
   "id": "9e0a5554",
   "metadata": {},
   "source": [
    "##### - Computo de dos indicadores de la calidad de ajuste en muestra entrenamiento"
   ]
  },
  {
   "cell_type": "code",
   "execution_count": 35,
   "id": "71260fa2",
   "metadata": {},
   "outputs": [
    {
     "name": "stdout",
     "output_type": "stream",
     "text": [
      "33.891563321160426\n",
      "0.9681659371290253\n"
     ]
    }
   ],
   "source": [
    "lr_train=model.predict(X_train_arr)\n",
    "print(mean_squared_error(y_train_arr,lr_train, squared=False))\n",
    "print(r2_score(y_train_arr,lr_train))"
   ]
  },
  {
   "cell_type": "markdown",
   "id": "d45b1c98",
   "metadata": {},
   "source": [
    "##### - Computo de dos indicadores de la calidad de ajuste fuera de la muestra (test)"
   ]
  },
  {
   "cell_type": "code",
   "execution_count": 36,
   "id": "76bf69a1",
   "metadata": {},
   "outputs": [
    {
     "name": "stdout",
     "output_type": "stream",
     "text": [
      "40.266750786424566\n",
      "0.9558252516783223\n"
     ]
    }
   ],
   "source": [
    "lr_preds=model.predict(X_test_arr)\n",
    "print(mean_squared_error(y_test_arr,lr_preds, squared=False))\n",
    "print(r2_score(y_test_arr,lr_preds))"
   ]
  }
 ],
 "metadata": {
  "kernelspec": {
   "display_name": "Python 3",
   "language": "python",
   "name": "python3"
  },
  "language_info": {
   "codemirror_mode": {
    "name": "ipython",
    "version": 3
   },
   "file_extension": ".py",
   "mimetype": "text/x-python",
   "name": "python",
   "nbconvert_exporter": "python",
   "pygments_lexer": "ipython3",
   "version": "3.8.8"
  }
 },
 "nbformat": 4,
 "nbformat_minor": 5
}
