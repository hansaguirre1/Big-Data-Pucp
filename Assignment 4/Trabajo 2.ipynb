{
 "cells": [
  {
   "cell_type": "code",
   "execution_count": null,
   "id": "4dcaed88",
   "metadata": {
    "scrolled": true
   },
   "outputs": [],
   "source": []
  },
  {
   "cell_type": "markdown",
   "id": "4a862e80",
   "metadata": {},
   "source": [
    "# Trabajo 2 – Computación en paralelo"
   ]
  },
  {
   "cell_type": "markdown",
   "id": "ca936275",
   "metadata": {},
   "source": [
    "## Integrantes:"
   ]
  },
  {
   "cell_type": "markdown",
   "id": "89608c43",
   "metadata": {},
   "source": [
    " - Carlos Andrés Zelada Chambilla - F0843894\n",
    " - Hans Isaí Aguirre Ccerare - F0730020\n",
    " - Robert Salvatore Coletti Romero - F0694931\n",
    " - Heydy Bibi Condezo Monge - F0708821"
   ]
  },
  {
   "cell_type": "markdown",
   "id": "1cb1eb42",
   "metadata": {},
   "source": [
    "### Parte I\n",
    "\n",
    "#### Responda las siguientes preguntas respetando el límite máximo de palabras establecido "
   ]
  },
  {
   "cell_type": "markdown",
   "id": "13c00969",
   "metadata": {},
   "source": [
    "#### 1.\tEl equipo del QLAB, para el cual Ud. ahora trabaja, ha decidido comprar 100 tarjetas gráficas (GPUs) para PCs a fin de utilizarlas en computación en paralelo para investigación en Ciencias Sociales. Sabiendo de su experiencia en el tema, el director le ha pedido recomendaciones. Elabore una tabla de comparación de, por lo menos, tres tarjetas gráficas disponibles en Perú donde resuma a detalle las especificaciones de cada una de ellas. Finalmente, diga cuál y por qué le recomendaría al director. Recuerde que el precio es uno de los atributos a considerar.  (200 palabras, 3 puntos)  "
   ]
  },
  {
   "cell_type": "markdown",
   "id": "49e1657f",
   "metadata": {},
   "source": [
    "Para poder decir que tarjeta gráfica es la más adecuada para el equipo de QLAB, se analizarán GPUs solo de la marca NVIDIA, ya que sus librerías estándar permiten trabajar con CUDA, el cual cuenta con una librería especializada para deep learning y tiene una comunidad extensa de soporte. Por otro lado, se tomarán en cuenta 4 características principales: ancho de banda, cantidad de operaciones que pueden realizar por segundo – FLOPS, los núcleos Tensor y el precio a pagar. \n",
    "\n",
    "Dado que QLAB está dedicado al desarrollo de investigaciones en Ciencias Sociales, principalmente se usan redes neuronales recurrentes (procesamiento de texto y datos secuenciales) se priorizará mayor ancho de banda frente a FLOPS (tomado más en cuenta para redes neuronales convolucionales). A continuación, se analizarán 3 GPUs disponibles en el mercado peruano.\n",
    "\n",
    "| GPU | GEFORCE RTX 1660 | GEFORCE RTX 2060 | GEFORCE RTX 2070 | GEFORCE RTX 3070 |\n",
    "| --- | --- | --- | --- | --- |\n",
    "| Ancho de banda | 336GB/s | 448.00 GB/s | 448.0 GB/s | 448.00 GB/s |\n",
    "| FLOPS  | 4.4 Tflops | 6,5 Tflops | 7.5 Tflops | 20.31 Tflops |\n",
    "| Núcleo Tensor | 240 | 240 de 2.ª generación | 320 de 2.ª generación | 184 de 3.ª generación |\n",
    "| Precio* | S/ 1 400.00 | S/ 2 330.00 | S/ 2 500.00 | S/ 3 200.00 |\n",
    "\n",
    "                         *Precios calculados en promedio de: R Store, Linio y Mercado Libre\n",
    "\n",
    "Después de revisar las características de las cuatro tarjetas gráficas citadas, se recomienda comprar GEFORCE RTX 2070, por su relación precio rendimiento, ya que tiene un ancho de banda superior que el GEFORCE RTX 1660 e igual que las otras tarjetas analizadas, mayor cantidad de núcleos tensores que la versión RTX 2060 y el precio es menor a la versión RTX 3070 y no difiere mucho de la RTX 2060.\n"
   ]
  },
  {
   "cell_type": "markdown",
   "id": "69dc3baf",
   "metadata": {},
   "source": [
    "#### 2.\tRevise el artículo de Couper (2013)  y la entrevista a Ng (2022) . Elabore un comentario informado y crítico con sus apreciaciones sobre “Good Data & Big Data” ¿uno reemplazará al otro y por qué? ¿se pueden complementar y cómo? Dé, por lo menos dos ejemplos/ideas acordes a su argumento (500 palabras, 4 puntos). "
   ]
  },
  {
   "cell_type": "markdown",
   "id": "01dc8099",
   "metadata": {},
   "source": [
    "Hoy en día con los avances de las nuevas tecnologías, la información se ha convertido en una vía importante de negocio, puesto que permite a las empresas conocer cada vez más a sus clientes, tomando en cuenta sus necesidades y comportamientos frente a productos y servicios. Por ejemplo: cada vez que entramos en una website, facilitamos una serie de datos sobre nuestra actividad: con qué fin entramos, la habitualidad de visitas y cómo accedemos. Sin embargo, es información que necesariamente hay que tomar con pinzas, ya que en estos espacios se pueden producir ciertas limitaciones y sesgos, por lo que tiene que pasar por procesos de filtro de calidad de información (Good Data).\n",
    "\n",
    "Al considerar la gran utilidad del uso de bases de datos, podríamos centrarnos principalmente en los siguientes atributos para tomar en cuenta la validación de su uso: volumen, variedad, velocidad (Couper, 2013), veracidad y valor. En la actualidad, diferentes compañías son capaces de tener grandes cantidades de datos (volumen), diferentes datos según el modo de carga (variedad), así como estos datos pueden crearse con rapidez (velocidad). Sin embargo, el componente más importante de la data recaería en su veracidad: el conjunto de datos que son filtrados por su calidad que es conocido como Good Data, la cual genera valor. Caso contrario a este, podría decirse que se tiene información inexacta y que no proporciona inteligencia útil.\n",
    "\n",
    "Nos referimos a Big Data como un concepto que engloba grandes volúmenes de datos, que al igual que otros datos de dimensiones más pequeñas la Big Data debe pasar por filtros de calidad para extraer los datos más precisos o Good Data, la cual es finalmente la data que proporcionará información útil. Por lo tanto, no sería factible decir que un concepto reemplazará al otro, puesto que ambos conceptos hacen referencia a aspectos distintos de la data, mientras que uno (Good Data) se relaciona a data filtrada y seleccionada; la otra (Big Data) refiere a un conjunto enorme de datos en bruto. Extraer la Good Data de una Big Data podría brindarnos información bastante poderosa e inteligente, puesto que estaríamos complementando cantidad con calidad y de ello se podría sacar provecho para crear sistemas según la necesidad requiera.\n",
    "\n",
    "Por otro lado, como menciona Andrew Ng (2022), tenemos otras entidades donde el conjunto enorme de datos (Big Data) simplemente no existe; puede ser por falta de presupuesto para la extracción de los datos, por falta de especialistas o por otros factores. Estas entidades podrían enfocarse más en la Good Data en pequeñas escalas que en la Big Data para desarrollar sistemas que puedan ser beneficiosos. Por ejemplo, Ng relata que elaboró un sistema de reconocimiento fácil con 350 millones de imágenes, cuya arquitectura sólo funciona con esa cantidad promedio de información; no obstante, resulta que, si se cuenta con 50 ejemplares realmente buenos, se puede construir algo que también puede ser valioso, como un sistema de inspección de defectos.\n",
    "\n",
    "Couper (2013) al relatar sobre las posibles limitaciones del Big Data menciona que size is not everything. Es decir, no necesariamente lo más grande es mejor, sugiriendo que todo método de análisis de información tiene que ser evaluado, y como tal puede tener aciertas y falencias, por lo cual hace énfasis en que mientras los datos en conjunto que se utilicen sean precisos estos tendrán valor para ser aprovechados."
   ]
  },
  {
   "cell_type": "markdown",
   "id": "a58c98dd",
   "metadata": {},
   "source": [
    "### Parte II"
   ]
  },
  {
   "cell_type": "markdown",
   "id": "4d40db10",
   "metadata": {},
   "source": [
    "#### 1. Presentación del problema de predicción que se desea realizar (por ejemplo, predecir la vulnerabilidad de los hogares en el Perú). Defina claramente qué datos utilizara, cuál es su variable target y cuáles sus predictores. "
   ]
  },
  {
   "cell_type": "markdown",
   "id": "1f08dab6",
   "metadata": {},
   "source": [
    "En el Perú, los estudios prospectivos relativos a la educación siguen considerando las coberturas por nivel educativo y, por lo tanto, proyectan sus tasas. La preocupación por incorporar niños, adolescentes y jóvenes al sistema escolar explicaría su utilidad como un indicador para trabajar en las políticas educativas. \n",
    "Si bien han habido avances en el sector educación que son significativos, como el aumento de la inversión en educación: el gasto en educación como porcentaje del PIB pasó de representar un crecimiento de 7.6% en 2022 a comparación con el año anterior. Contrariamente, se siguen produciendo desigualdades en el acceso a la educación, el cual es un factor impactante, especialmente a medida que se avanza hacia niveles educativos de mayor grado, y están relacionadas principalmente con el nivel socioeconómico, el género, la ubicación rural o urbana y la lengua de origen. En los últimos diez años la tasa de matrícula escolar en el Perú no ha seguido una misma tendencia (Estadísticas de Educación: Matrícula Escolar en el Sistema Educativo, Según Nivel, Modalidad y Sector, 2010-2020 - INEI) . Por lo tanto, predecir la cantidad de matrículas para los siguientes años permitiría una adecuada planificación logística, pero aún más importante serviría como insumo para tomar medidas enfocadas a alcanzar niveles óptimos.\n",
    "\n",
    "Por ello, en el presente trabajo se busca predecir el número de alumnos matriculados, para lo cual, se utilizará la data de los Censos Educativos 2018-2020.\n",
    "- La variable target: Número de matriculados\n",
    "- Las variables predictoras: Número de docentes, rural, sierra, selva, polidocente multigrado, polidocente_completo, 'Cantidad de docentes por alumno, altitud, 'NLAT_IE', 'NLONG_IE', 'Docentes_x_alumno', tasa de natalidad rezagada por 6 años]]"
   ]
  },
  {
   "cell_type": "markdown",
   "id": "8a180037",
   "metadata": {},
   "source": [
    "#### 2. Describa los pasos a realizar para su aplicación de ML. "
   ]
  },
  {
   "cell_type": "markdown",
   "id": "c7648d3e",
   "metadata": {},
   "source": [
    "- Descargar la data de la página de MINEDU\n",
    "- Preparar y limpiar la data: eliminar los valores perdidos; juntar los Censos de Educación de los años 2018, 2019 y 2020 y el módulo de ENAHO sobre crecimiento poblacional; corrección de los errores estructurales y reconocer los datos más apropiados para desarrollar el propósito.\n",
    "- Analizar y explorar los datos.\n",
    "- Definir la variable target y los predictores.\n",
    "- Dividir la data en subsets, entrenamiento y test.\n",
    "- Transformar el data frame en dask array\n",
    "- Elegir el modelo de aprendizaje: Se optó por un modelo de Regresión Lineal para modelar la relación entre la variable target y el vector de predictores. Se establecieron los parámetros Lasso y Ridge\n",
    "- Aplicar el modelo de verificación para probar el rendimiento del modelo predictivo de ML: cross-validation, haciendo uso de 4 particiones(k-fold).\n",
    "- Ajustar los hiperparámetros con Grid Search Cross Validation\n",
    "- Estimar y evaluar los indicadores de calidad\n"
   ]
  },
  {
   "cell_type": "markdown",
   "id": "ae113cd9",
   "metadata": {},
   "source": [
    "#### 3. Describa cómo llevaría a cabo este ejercicio de manera serial y compárelo a su aplicación serial. Como parte de esta descripción, incluir los siguientes aspectos: "
   ]
  },
  {
   "cell_type": "markdown",
   "id": "7782986d",
   "metadata": {},
   "source": [
    "##### a.\tExplicar qué partes del ejercicio se harán de forma serial y por qué no paralelizo estas tareas.\n",
    "\n",
    "- La importación de la data se hizo de manera serial, ya que provenía de una sola fuente, además se calculó el tiempo si se particionaba o no y no se encontró una diferencia relevante que hubiera significado una ventaja al paralelizar.\n",
    "- Train-test splitting, Porque parten de una misma data y porque es secuencial, después de obtener la data de entrenamiento se obtine la de test\n",
    "- Evaluar los indicadores de calidad, porque se obtiene del total de la data."
   ]
  },
  {
   "cell_type": "markdown",
   "id": "099c5906",
   "metadata": {},
   "source": [
    "##### b.\tPara las tareas en paralelo, explique usando el método de Foster como se dan las etapas de partición, comunicación, aglomeración y mapeo (PCAM) para su aplicación.\n",
    "\n",
    "- Partición\n",
    "Se puede partir la ejecución del entrenamiento de los N-K elementos(los elementos de cada N-K folds) en un procesador diferente (número de procesadores = p). Es decir, cada procesador incorporará k/p muestras dividida por cross validation. Luego, entrenará el modelo y calculará el MSE en el grupo de validación de cada partición.\n",
    "\n",
    "- Comunicación\n",
    "Se observan dos instancias de comunicación entre unidades de procesamiento. La primera, en la etapa en la que el procesador que divide la muestra k veces por cross-validation asigne las muestras particionadas, de tal manera que cada procesador entrene el modelo y calcule el MSE individual con diferentes datos, sin repeticiones en la asignación de grupos de entrenamiento y validación.\n",
    "La segunda instancia de comunicación se da al momento de calcular el MSE total, para realizar este proceso las unidades de procesamiento deben enviar el MSE de cada división a una base de datos, de tal forma que, un solo procesador calcule el MSE agregado.\n",
    "\n",
    "- Agregación\n",
    "Las tareas de dividir la muestra y luego calcular el MSE de cada partición y enviar dicho MSE a una base de datos se pueden agregar en diferentes procesadores. Luego ajustar los hiperparámetros con Grid Search y Cross Validation. Cada procesador realizaría estás tareas de forma agrupada.\n",
    "\n",
    "- Mapeo\n",
    "Uso de asignación estática. La división de las muestras por el método de k-flods se asignan a un solo procesador. Cada procesador recibe un número de k/p muestras definidas previamente. Luego, cada procesador entrena el modelo en el grupo de entrenamiento y calcula el MSE individual en el grupo de validación. Por último, uno de los procesadores recibe los MSE individuales y calcula el MSE agregado."
   ]
  },
  {
   "cell_type": "markdown",
   "id": "696dd5e9",
   "metadata": {},
   "source": [
    "##### c. Discuta qué tipos de procesadores podría utilizar para cada parte. (No es necesario que utilice los GPU pese a que señale su mejor desempeño)"
   ]
  },
  {
   "cell_type": "markdown",
   "id": "95e7d171",
   "metadata": {},
   "source": [
    "- Los CPU se dividen en pocas unidades de procesamiento de gran capacidad, por lo que la CPU está diseñada para procesos seriales que requieran mayor potencia. Estos procesos podrían ser:  preparar y limpiar la data; analizar y explorar los datos; dividir la data en subsets; entrenamiento y test; evaluar los indicadores de calidad; elegir el modelo de aprendizaje, aplicar cross-validation.\n",
    "\n",
    "- Debido a que los GPU se dividen en miles de unidades de procesamiento de baja capacidad, es  conveniente realizar procesos sencillos en los GPU, los cuales para el presente trabajo podrían ser: Definir la variable target y los predictores; transformar el data frame en dask array."
   ]
  },
  {
   "cell_type": "markdown",
   "id": "aa0d9fbf",
   "metadata": {},
   "source": [
    "##### d. Identificar los cuellos de botella del ejercicio y comentar hasta qué punto la paralelización puede ayudar a resolverlos."
   ]
  },
  {
   "cell_type": "markdown",
   "id": "31a247ab",
   "metadata": {},
   "source": [
    "Al momento de ejecutar el Model-fitting se presenta un cuello de botella, debido a la cantidad de data se toma más de tiempo para el procesamiento, por ello el paralelizar ayuda a disminuir el tiempo empleado, dividiendo una cantidad de observaciones para cada procesador."
   ]
  },
  {
   "cell_type": "markdown",
   "id": "dd952ef3",
   "metadata": {},
   "source": [
    "#### 4. Uso de Dask. "
   ]
  },
  {
   "cell_type": "code",
   "execution_count": 51,
   "id": "5c1b4a39",
   "metadata": {},
   "outputs": [],
   "source": [
    "%matplotlib inline\n",
    "#conda install -c conda-forge dask-ml\n",
    "#! pip install dask[dataframe] --upgrade\n",
    "#! pip install dask[array] --upgrade\n",
    "#! pip install memory_profiler\n",
    "#!conda install python-graphviz\n",
    "import sys\n",
    "from sklearn.model_selection import KFold\n",
    "from sklearn.model_selection import cross_val_score\n",
    "from sklearn import linear_model\n",
    "from sklearn.metrics import mean_squared_error\n",
    "from sklearn.metrics import r2_score\n",
    "import pandas as pd\n",
    "import numpy as np\n",
    "import matplotlib.pyplot as plt\n",
    "import requests\n",
    "from io import StringIO\n",
    "import time\n",
    "import os\n",
    "import dask\n",
    "import dask.array as da\n",
    "import dask.dataframe as dd\n",
    "import dask.bag as db\n",
    "from dask.diagnostics import ProgressBar\n",
    "from memory_profiler import memory_usage\n",
    "from dask.distributed import Client, LocalCluster\n",
    "import dask.array as da\n",
    "from dask_ml.datasets import make_regression\n",
    "from dask_ml.model_selection import GridSearchCV, train_test_split\n",
    "from sklearn.pipeline import Pipeline\n",
    "from dask_ml.linear_model import LinearRegression\n",
    "from dask_ml.preprocessing import StandardScaler\n",
    "from dask_ml.metrics import mean_squared_error\n",
    "from dask_ml.metrics import r2_score\n",
    "from dask_ml.model_selection import train_test_split\n",
    "from dask_ml.preprocessing import StandardScaler\n",
    "from sklearn.model_selection import cross_val_score\n",
    "import joblib\n",
    "from matplotlib.ticker import (MultipleLocator,\n",
    "                               FormatStrFormatter,\n",
    "                               AutoMinorLocator)"
   ]
  },
  {
   "cell_type": "code",
   "execution_count": 3,
   "id": "cb7feb5a",
   "metadata": {},
   "outputs": [
    {
     "name": "stderr",
     "output_type": "stream",
     "text": [
      "C:\\ProgramData\\Anaconda3\\lib\\site-packages\\distributed\\node.py:151: UserWarning: Port 8787 is already in use.\n",
      "Perhaps you already have a cluster running?\n",
      "Hosting the HTTP server on port 63785 instead\n",
      "  warnings.warn(\n"
     ]
    },
    {
     "data": {
      "text/html": [
       "<table style=\"border: 2px solid white;\">\n",
       "<tr>\n",
       "<td style=\"vertical-align: top; border: 0px solid white\">\n",
       "<h3 style=\"text-align: left;\">Client</h3>\n",
       "<ul style=\"text-align: left; list-style: none; margin: 0; padding: 0;\">\n",
       "  <li><b>Scheduler: </b>tcp://127.0.0.1:63786</li>\n",
       "  <li><b>Dashboard: </b><a href='http://127.0.0.1:63785/status' target='_blank'>http://127.0.0.1:63785/status</a></li>\n",
       "</ul>\n",
       "</td>\n",
       "<td style=\"vertical-align: top; border: 0px solid white\">\n",
       "<h3 style=\"text-align: left;\">Cluster</h3>\n",
       "<ul style=\"text-align: left; list-style:none; margin: 0; padding: 0;\">\n",
       "  <li><b>Workers: </b>4</li>\n",
       "  <li><b>Cores: </b>12</li>\n",
       "  <li><b>Memory: </b>15.87 GiB</li>\n",
       "</ul>\n",
       "</td>\n",
       "</tr>\n",
       "</table>"
      ],
      "text/plain": [
       "<Client: 'tcp://127.0.0.1:63786' processes=4 threads=12, memory=15.87 GiB>"
      ]
     },
     "execution_count": 3,
     "metadata": {},
     "output_type": "execute_result"
    }
   ],
   "source": [
    "cluster=LocalCluster()\n",
    "client=Client(cluster)\n",
    "client"
   ]
  },
  {
   "cell_type": "markdown",
   "id": "4084b0dc",
   "metadata": {},
   "source": [
    "### a.\tEjercicio de ETL: Usar Dask Dataframes para cargar la(s) base(s) de datos que se utilizará(n) y presentar lo siguiente:"
   ]
  },
  {
   "cell_type": "markdown",
   "id": "7107eb10",
   "metadata": {},
   "source": [
    "- La base de datos con el que se trabajó se encuentra en el siguiente link:\n",
    "\n",
    "https://drive.google.com/file/d/1FQS5u9UcKWhRs4XFZpVt2KrIn_Wux6r-/view?usp=sharing\n"
   ]
  },
  {
   "cell_type": "code",
   "execution_count": 82,
   "id": "baba0d59",
   "metadata": {},
   "outputs": [
    {
     "name": "stderr",
     "output_type": "stream",
     "text": [
      "C:\\ProgramData\\Anaconda3\\lib\\site-packages\\pandas\\io\\stata.py:1417: UnicodeWarning: \n",
      "One or more strings in the dta file could not be decoded using utf-8, and\n",
      "so the fallback encoding of latin-1 is being used.  This can happen when a file\n",
      "has been incorrectly encoded by Stata or some other software. You should verify\n",
      "the string values returned are correct.\n",
      "  warnings.warn(msg, UnicodeWarning)\n"
     ]
    }
   ],
   "source": [
    "datos = pd.read_stata(r'C:\\Users\\Carlos\\Documents\\BD_consolidada_ESCALE_INEI_C.dta')\n",
    "datos=datos[datos.YEAR > \"2017\"]"
   ]
  },
  {
   "cell_type": "code",
   "execution_count": 83,
   "id": "bf5015b1",
   "metadata": {
    "scrolled": false
   },
   "outputs": [],
   "source": [
    "#Importado con pandas\n",
    "#datos = pd.read_csv(r'C:\\Users\\Hans\\Downloads\\BD_consolidada_ESCALE_INEI_C.csv', encoding='mac_roman')\n",
    "\n",
    "datos=datos[['DOCENTES', 'rural', 'sierra', 'selva', 'DIST','YEAR' , 'REGION_NAT', 'polidocente_multi', 'polidocente_completo', 'ALTITUD', 'NLAT_IE', 'NLONG_IE', 'AULAS_F', 'MATRICULA', 'LAG_MATRICULA', 'CANON', 'LAG_CANON', 'TASA_NAC6']].dropna()\n",
    "datos.reset_index(inplace=True)\n",
    "#transforme con dask\n",
    "datos_dd=dd.from_pandas(datos, npartitions=5)"
   ]
  },
  {
   "cell_type": "code",
   "execution_count": 84,
   "id": "2c35a431",
   "metadata": {},
   "outputs": [
    {
     "data": {
      "text/html": [
       "<div>\n",
       "<style scoped>\n",
       "    .dataframe tbody tr th:only-of-type {\n",
       "        vertical-align: middle;\n",
       "    }\n",
       "\n",
       "    .dataframe tbody tr th {\n",
       "        vertical-align: top;\n",
       "    }\n",
       "\n",
       "    .dataframe thead th {\n",
       "        text-align: right;\n",
       "    }\n",
       "</style>\n",
       "<table border=\"1\" class=\"dataframe\">\n",
       "  <thead>\n",
       "    <tr style=\"text-align: right;\">\n",
       "      <th></th>\n",
       "      <th>index</th>\n",
       "      <th>DOCENTES</th>\n",
       "      <th>rural</th>\n",
       "      <th>sierra</th>\n",
       "      <th>selva</th>\n",
       "      <th>DIST</th>\n",
       "      <th>YEAR</th>\n",
       "      <th>REGION_NAT</th>\n",
       "      <th>polidocente_multi</th>\n",
       "      <th>polidocente_completo</th>\n",
       "      <th>ALTITUD</th>\n",
       "      <th>NLAT_IE</th>\n",
       "      <th>NLONG_IE</th>\n",
       "      <th>AULAS_F</th>\n",
       "      <th>MATRICULA</th>\n",
       "      <th>LAG_MATRICULA</th>\n",
       "      <th>CANON</th>\n",
       "      <th>LAG_CANON</th>\n",
       "      <th>TASA_NAC6</th>\n",
       "    </tr>\n",
       "  </thead>\n",
       "  <tbody>\n",
       "    <tr>\n",
       "      <th>0</th>\n",
       "      <td>1</td>\n",
       "      <td>2.0</td>\n",
       "      <td>1.0</td>\n",
       "      <td>1.0</td>\n",
       "      <td>0.0</td>\n",
       "      <td>CHUQUIBAMBILLA</td>\n",
       "      <td>2018</td>\n",
       "      <td>SIERRA</td>\n",
       "      <td>1.0</td>\n",
       "      <td>0.0</td>\n",
       "      <td>3760.0</td>\n",
       "      <td>-14.18550</td>\n",
       "      <td>-72.78550</td>\n",
       "      <td>4.0</td>\n",
       "      <td>16.0</td>\n",
       "      <td>25.0</td>\n",
       "      <td>56738</td>\n",
       "      <td>80177.0</td>\n",
       "      <td>0.024840</td>\n",
       "    </tr>\n",
       "    <tr>\n",
       "      <th>1</th>\n",
       "      <td>2</td>\n",
       "      <td>2.0</td>\n",
       "      <td>1.0</td>\n",
       "      <td>1.0</td>\n",
       "      <td>0.0</td>\n",
       "      <td>CHUQUIBAMBILLA</td>\n",
       "      <td>2019</td>\n",
       "      <td>SIERRA</td>\n",
       "      <td>1.0</td>\n",
       "      <td>0.0</td>\n",
       "      <td>3760.0</td>\n",
       "      <td>-14.18550</td>\n",
       "      <td>-72.78550</td>\n",
       "      <td>7.0</td>\n",
       "      <td>11.0</td>\n",
       "      <td>16.0</td>\n",
       "      <td>11078</td>\n",
       "      <td>56738.0</td>\n",
       "      <td>0.015999</td>\n",
       "    </tr>\n",
       "    <tr>\n",
       "      <th>2</th>\n",
       "      <td>3</td>\n",
       "      <td>2.0</td>\n",
       "      <td>1.0</td>\n",
       "      <td>1.0</td>\n",
       "      <td>0.0</td>\n",
       "      <td>CHUQUIBAMBILLA</td>\n",
       "      <td>2020</td>\n",
       "      <td>SIERRA</td>\n",
       "      <td>1.0</td>\n",
       "      <td>0.0</td>\n",
       "      <td>3760.0</td>\n",
       "      <td>-14.18550</td>\n",
       "      <td>-72.78550</td>\n",
       "      <td>6.0</td>\n",
       "      <td>12.0</td>\n",
       "      <td>11.0</td>\n",
       "      <td>138017</td>\n",
       "      <td>11078.0</td>\n",
       "      <td>0.013676</td>\n",
       "    </tr>\n",
       "    <tr>\n",
       "      <th>3</th>\n",
       "      <td>5</td>\n",
       "      <td>1.0</td>\n",
       "      <td>1.0</td>\n",
       "      <td>1.0</td>\n",
       "      <td>0.0</td>\n",
       "      <td>CHUQUIBAMBILLA</td>\n",
       "      <td>2018</td>\n",
       "      <td>SIERRA</td>\n",
       "      <td>0.0</td>\n",
       "      <td>0.0</td>\n",
       "      <td>3638.0</td>\n",
       "      <td>-14.16780</td>\n",
       "      <td>-72.79500</td>\n",
       "      <td>4.0</td>\n",
       "      <td>8.0</td>\n",
       "      <td>5.0</td>\n",
       "      <td>56738</td>\n",
       "      <td>80177.0</td>\n",
       "      <td>0.024840</td>\n",
       "    </tr>\n",
       "    <tr>\n",
       "      <th>4</th>\n",
       "      <td>6</td>\n",
       "      <td>1.0</td>\n",
       "      <td>1.0</td>\n",
       "      <td>1.0</td>\n",
       "      <td>0.0</td>\n",
       "      <td>CHUQUIBAMBILLA</td>\n",
       "      <td>2019</td>\n",
       "      <td>SIERRA</td>\n",
       "      <td>0.0</td>\n",
       "      <td>0.0</td>\n",
       "      <td>3638.0</td>\n",
       "      <td>-14.16780</td>\n",
       "      <td>-72.79500</td>\n",
       "      <td>4.0</td>\n",
       "      <td>4.0</td>\n",
       "      <td>8.0</td>\n",
       "      <td>11078</td>\n",
       "      <td>56738.0</td>\n",
       "      <td>0.015999</td>\n",
       "    </tr>\n",
       "    <tr>\n",
       "      <th>...</th>\n",
       "      <td>...</td>\n",
       "      <td>...</td>\n",
       "      <td>...</td>\n",
       "      <td>...</td>\n",
       "      <td>...</td>\n",
       "      <td>...</td>\n",
       "      <td>...</td>\n",
       "      <td>...</td>\n",
       "      <td>...</td>\n",
       "      <td>...</td>\n",
       "      <td>...</td>\n",
       "      <td>...</td>\n",
       "      <td>...</td>\n",
       "      <td>...</td>\n",
       "      <td>...</td>\n",
       "      <td>...</td>\n",
       "      <td>...</td>\n",
       "      <td>...</td>\n",
       "      <td>...</td>\n",
       "    </tr>\n",
       "    <tr>\n",
       "      <th>82134</th>\n",
       "      <td>118855</td>\n",
       "      <td>1.0</td>\n",
       "      <td>0.0</td>\n",
       "      <td>1.0</td>\n",
       "      <td>0.0</td>\n",
       "      <td>AMARILIS</td>\n",
       "      <td>2020</td>\n",
       "      <td>SIERRA</td>\n",
       "      <td>0.0</td>\n",
       "      <td>1.0</td>\n",
       "      <td>1883.0</td>\n",
       "      <td>-9.91621</td>\n",
       "      <td>-76.22624</td>\n",
       "      <td>10.0</td>\n",
       "      <td>51.0</td>\n",
       "      <td>14.0</td>\n",
       "      <td>54081</td>\n",
       "      <td>147751.0</td>\n",
       "      <td>0.017588</td>\n",
       "    </tr>\n",
       "    <tr>\n",
       "      <th>82135</th>\n",
       "      <td>118859</td>\n",
       "      <td>2.0</td>\n",
       "      <td>1.0</td>\n",
       "      <td>1.0</td>\n",
       "      <td>0.0</td>\n",
       "      <td>CACHACHI</td>\n",
       "      <td>2020</td>\n",
       "      <td>SIERRA</td>\n",
       "      <td>1.0</td>\n",
       "      <td>0.0</td>\n",
       "      <td>2154.0</td>\n",
       "      <td>-7.60360</td>\n",
       "      <td>-78.14844</td>\n",
       "      <td>2.0</td>\n",
       "      <td>21.0</td>\n",
       "      <td>45.0</td>\n",
       "      <td>5282742</td>\n",
       "      <td>814910.0</td>\n",
       "      <td>0.028556</td>\n",
       "    </tr>\n",
       "    <tr>\n",
       "      <th>82136</th>\n",
       "      <td>118863</td>\n",
       "      <td>1.0</td>\n",
       "      <td>1.0</td>\n",
       "      <td>1.0</td>\n",
       "      <td>0.0</td>\n",
       "      <td>PAMPACHIRI</td>\n",
       "      <td>2020</td>\n",
       "      <td>SIERRA</td>\n",
       "      <td>0.0</td>\n",
       "      <td>0.0</td>\n",
       "      <td>3425.0</td>\n",
       "      <td>-14.15419</td>\n",
       "      <td>-73.55951</td>\n",
       "      <td>2.0</td>\n",
       "      <td>10.0</td>\n",
       "      <td>8.0</td>\n",
       "      <td>55756</td>\n",
       "      <td>35719.0</td>\n",
       "      <td>0.016949</td>\n",
       "    </tr>\n",
       "    <tr>\n",
       "      <th>82137</th>\n",
       "      <td>118867</td>\n",
       "      <td>1.0</td>\n",
       "      <td>1.0</td>\n",
       "      <td>1.0</td>\n",
       "      <td>0.0</td>\n",
       "      <td>VIÑAC</td>\n",
       "      <td>2020</td>\n",
       "      <td>SIERRA</td>\n",
       "      <td>0.0</td>\n",
       "      <td>0.0</td>\n",
       "      <td>1095.0</td>\n",
       "      <td>-12.81101</td>\n",
       "      <td>-75.89941</td>\n",
       "      <td>0.0</td>\n",
       "      <td>17.0</td>\n",
       "      <td>9.0</td>\n",
       "      <td>739002</td>\n",
       "      <td>736262.0</td>\n",
       "      <td>0.011924</td>\n",
       "    </tr>\n",
       "    <tr>\n",
       "      <th>82138</th>\n",
       "      <td>118879</td>\n",
       "      <td>1.0</td>\n",
       "      <td>1.0</td>\n",
       "      <td>1.0</td>\n",
       "      <td>0.0</td>\n",
       "      <td>QUILLO</td>\n",
       "      <td>2020</td>\n",
       "      <td>SIERRA</td>\n",
       "      <td>1.0</td>\n",
       "      <td>0.0</td>\n",
       "      <td>1914.0</td>\n",
       "      <td>-9.42181</td>\n",
       "      <td>-78.00308</td>\n",
       "      <td>2.0</td>\n",
       "      <td>18.0</td>\n",
       "      <td>6.0</td>\n",
       "      <td>5121835</td>\n",
       "      <td>8628761.0</td>\n",
       "      <td>0.022305</td>\n",
       "    </tr>\n",
       "  </tbody>\n",
       "</table>\n",
       "<p>82139 rows × 19 columns</p>\n",
       "</div>"
      ],
      "text/plain": [
       "        index  DOCENTES  rural  sierra  selva            DIST  YEAR  \\\n",
       "0           1       2.0    1.0     1.0    0.0  CHUQUIBAMBILLA  2018   \n",
       "1           2       2.0    1.0     1.0    0.0  CHUQUIBAMBILLA  2019   \n",
       "2           3       2.0    1.0     1.0    0.0  CHUQUIBAMBILLA  2020   \n",
       "3           5       1.0    1.0     1.0    0.0  CHUQUIBAMBILLA  2018   \n",
       "4           6       1.0    1.0     1.0    0.0  CHUQUIBAMBILLA  2019   \n",
       "...       ...       ...    ...     ...    ...             ...   ...   \n",
       "82134  118855       1.0    0.0     1.0    0.0        AMARILIS  2020   \n",
       "82135  118859       2.0    1.0     1.0    0.0        CACHACHI  2020   \n",
       "82136  118863       1.0    1.0     1.0    0.0      PAMPACHIRI  2020   \n",
       "82137  118867       1.0    1.0     1.0    0.0           VIÑAC  2020   \n",
       "82138  118879       1.0    1.0     1.0    0.0          QUILLO  2020   \n",
       "\n",
       "      REGION_NAT  polidocente_multi  polidocente_completo  ALTITUD   NLAT_IE  \\\n",
       "0         SIERRA                1.0                   0.0   3760.0 -14.18550   \n",
       "1         SIERRA                1.0                   0.0   3760.0 -14.18550   \n",
       "2         SIERRA                1.0                   0.0   3760.0 -14.18550   \n",
       "3         SIERRA                0.0                   0.0   3638.0 -14.16780   \n",
       "4         SIERRA                0.0                   0.0   3638.0 -14.16780   \n",
       "...          ...                ...                   ...      ...       ...   \n",
       "82134     SIERRA                0.0                   1.0   1883.0  -9.91621   \n",
       "82135     SIERRA                1.0                   0.0   2154.0  -7.60360   \n",
       "82136     SIERRA                0.0                   0.0   3425.0 -14.15419   \n",
       "82137     SIERRA                0.0                   0.0   1095.0 -12.81101   \n",
       "82138     SIERRA                1.0                   0.0   1914.0  -9.42181   \n",
       "\n",
       "       NLONG_IE  AULAS_F  MATRICULA  LAG_MATRICULA    CANON  LAG_CANON  \\\n",
       "0     -72.78550      4.0       16.0           25.0    56738    80177.0   \n",
       "1     -72.78550      7.0       11.0           16.0    11078    56738.0   \n",
       "2     -72.78550      6.0       12.0           11.0   138017    11078.0   \n",
       "3     -72.79500      4.0        8.0            5.0    56738    80177.0   \n",
       "4     -72.79500      4.0        4.0            8.0    11078    56738.0   \n",
       "...         ...      ...        ...            ...      ...        ...   \n",
       "82134 -76.22624     10.0       51.0           14.0    54081   147751.0   \n",
       "82135 -78.14844      2.0       21.0           45.0  5282742   814910.0   \n",
       "82136 -73.55951      2.0       10.0            8.0    55756    35719.0   \n",
       "82137 -75.89941      0.0       17.0            9.0   739002   736262.0   \n",
       "82138 -78.00308      2.0       18.0            6.0  5121835  8628761.0   \n",
       "\n",
       "       TASA_NAC6  \n",
       "0       0.024840  \n",
       "1       0.015999  \n",
       "2       0.013676  \n",
       "3       0.024840  \n",
       "4       0.015999  \n",
       "...          ...  \n",
       "82134   0.017588  \n",
       "82135   0.028556  \n",
       "82136   0.016949  \n",
       "82137   0.011924  \n",
       "82138   0.022305  \n",
       "\n",
       "[82139 rows x 19 columns]"
      ]
     },
     "execution_count": 84,
     "metadata": {},
     "output_type": "execute_result"
    }
   ],
   "source": [
    "datos_dd.compute()"
   ]
  },
  {
   "cell_type": "markdown",
   "id": "0ea518d6",
   "metadata": {},
   "source": [
    "##### - Creación de por lo menos dos variables "
   ]
  },
  {
   "cell_type": "code",
   "execution_count": 88,
   "id": "0ee09096",
   "metadata": {},
   "outputs": [
    {
     "data": {
      "text/html": [
       "<div>\n",
       "<style scoped>\n",
       "    .dataframe tbody tr th:only-of-type {\n",
       "        vertical-align: middle;\n",
       "    }\n",
       "\n",
       "    .dataframe tbody tr th {\n",
       "        vertical-align: top;\n",
       "    }\n",
       "\n",
       "    .dataframe thead th {\n",
       "        text-align: right;\n",
       "    }\n",
       "</style>\n",
       "<table border=\"1\" class=\"dataframe\">\n",
       "  <thead>\n",
       "    <tr style=\"text-align: right;\">\n",
       "      <th></th>\n",
       "      <th>DOCENTES</th>\n",
       "      <th>rural</th>\n",
       "      <th>sierra</th>\n",
       "      <th>selva</th>\n",
       "      <th>DIST</th>\n",
       "      <th>YEAR</th>\n",
       "      <th>REGION_NAT</th>\n",
       "      <th>polidocente_multi</th>\n",
       "      <th>polidocente_completo</th>\n",
       "      <th>ALTITUD</th>\n",
       "      <th>...</th>\n",
       "      <th>NLONG_IE</th>\n",
       "      <th>AULAS_F</th>\n",
       "      <th>MATRICULA</th>\n",
       "      <th>LAG_MATRICULA</th>\n",
       "      <th>CANON</th>\n",
       "      <th>LAG_CANON</th>\n",
       "      <th>Tasa_crec_canon</th>\n",
       "      <th>Tasa_crec_mat</th>\n",
       "      <th>Docentes_x_alumno</th>\n",
       "      <th>TASA_NAC6</th>\n",
       "    </tr>\n",
       "  </thead>\n",
       "  <tbody>\n",
       "    <tr>\n",
       "      <th>0</th>\n",
       "      <td>2.0</td>\n",
       "      <td>1.0</td>\n",
       "      <td>1.0</td>\n",
       "      <td>0.0</td>\n",
       "      <td>CHUQUIBAMBILLA</td>\n",
       "      <td>2018</td>\n",
       "      <td>SIERRA</td>\n",
       "      <td>1.0</td>\n",
       "      <td>0.0</td>\n",
       "      <td>3760.0</td>\n",
       "      <td>...</td>\n",
       "      <td>-72.78550</td>\n",
       "      <td>4.0</td>\n",
       "      <td>16.0</td>\n",
       "      <td>25.0</td>\n",
       "      <td>56738</td>\n",
       "      <td>80177.0</td>\n",
       "      <td>-0.292341</td>\n",
       "      <td>-0.360000</td>\n",
       "      <td>0.125000</td>\n",
       "      <td>0.024840</td>\n",
       "    </tr>\n",
       "    <tr>\n",
       "      <th>1</th>\n",
       "      <td>2.0</td>\n",
       "      <td>1.0</td>\n",
       "      <td>1.0</td>\n",
       "      <td>0.0</td>\n",
       "      <td>CHUQUIBAMBILLA</td>\n",
       "      <td>2019</td>\n",
       "      <td>SIERRA</td>\n",
       "      <td>1.0</td>\n",
       "      <td>0.0</td>\n",
       "      <td>3760.0</td>\n",
       "      <td>...</td>\n",
       "      <td>-72.78550</td>\n",
       "      <td>7.0</td>\n",
       "      <td>11.0</td>\n",
       "      <td>16.0</td>\n",
       "      <td>11078</td>\n",
       "      <td>56738.0</td>\n",
       "      <td>-0.804752</td>\n",
       "      <td>-0.312500</td>\n",
       "      <td>0.181818</td>\n",
       "      <td>0.015999</td>\n",
       "    </tr>\n",
       "    <tr>\n",
       "      <th>2</th>\n",
       "      <td>2.0</td>\n",
       "      <td>1.0</td>\n",
       "      <td>1.0</td>\n",
       "      <td>0.0</td>\n",
       "      <td>CHUQUIBAMBILLA</td>\n",
       "      <td>2020</td>\n",
       "      <td>SIERRA</td>\n",
       "      <td>1.0</td>\n",
       "      <td>0.0</td>\n",
       "      <td>3760.0</td>\n",
       "      <td>...</td>\n",
       "      <td>-72.78550</td>\n",
       "      <td>6.0</td>\n",
       "      <td>12.0</td>\n",
       "      <td>11.0</td>\n",
       "      <td>138017</td>\n",
       "      <td>11078.0</td>\n",
       "      <td>11.458657</td>\n",
       "      <td>0.090909</td>\n",
       "      <td>0.166667</td>\n",
       "      <td>0.013676</td>\n",
       "    </tr>\n",
       "    <tr>\n",
       "      <th>3</th>\n",
       "      <td>1.0</td>\n",
       "      <td>1.0</td>\n",
       "      <td>1.0</td>\n",
       "      <td>0.0</td>\n",
       "      <td>CHUQUIBAMBILLA</td>\n",
       "      <td>2018</td>\n",
       "      <td>SIERRA</td>\n",
       "      <td>0.0</td>\n",
       "      <td>0.0</td>\n",
       "      <td>3638.0</td>\n",
       "      <td>...</td>\n",
       "      <td>-72.79500</td>\n",
       "      <td>4.0</td>\n",
       "      <td>8.0</td>\n",
       "      <td>5.0</td>\n",
       "      <td>56738</td>\n",
       "      <td>80177.0</td>\n",
       "      <td>-0.292341</td>\n",
       "      <td>0.600000</td>\n",
       "      <td>0.125000</td>\n",
       "      <td>0.024840</td>\n",
       "    </tr>\n",
       "    <tr>\n",
       "      <th>4</th>\n",
       "      <td>1.0</td>\n",
       "      <td>1.0</td>\n",
       "      <td>1.0</td>\n",
       "      <td>0.0</td>\n",
       "      <td>CHUQUIBAMBILLA</td>\n",
       "      <td>2019</td>\n",
       "      <td>SIERRA</td>\n",
       "      <td>0.0</td>\n",
       "      <td>0.0</td>\n",
       "      <td>3638.0</td>\n",
       "      <td>...</td>\n",
       "      <td>-72.79500</td>\n",
       "      <td>4.0</td>\n",
       "      <td>4.0</td>\n",
       "      <td>8.0</td>\n",
       "      <td>11078</td>\n",
       "      <td>56738.0</td>\n",
       "      <td>-0.804752</td>\n",
       "      <td>-0.500000</td>\n",
       "      <td>0.250000</td>\n",
       "      <td>0.015999</td>\n",
       "    </tr>\n",
       "    <tr>\n",
       "      <th>...</th>\n",
       "      <td>...</td>\n",
       "      <td>...</td>\n",
       "      <td>...</td>\n",
       "      <td>...</td>\n",
       "      <td>...</td>\n",
       "      <td>...</td>\n",
       "      <td>...</td>\n",
       "      <td>...</td>\n",
       "      <td>...</td>\n",
       "      <td>...</td>\n",
       "      <td>...</td>\n",
       "      <td>...</td>\n",
       "      <td>...</td>\n",
       "      <td>...</td>\n",
       "      <td>...</td>\n",
       "      <td>...</td>\n",
       "      <td>...</td>\n",
       "      <td>...</td>\n",
       "      <td>...</td>\n",
       "      <td>...</td>\n",
       "      <td>...</td>\n",
       "    </tr>\n",
       "    <tr>\n",
       "      <th>82134</th>\n",
       "      <td>1.0</td>\n",
       "      <td>0.0</td>\n",
       "      <td>1.0</td>\n",
       "      <td>0.0</td>\n",
       "      <td>AMARILIS</td>\n",
       "      <td>2020</td>\n",
       "      <td>SIERRA</td>\n",
       "      <td>0.0</td>\n",
       "      <td>1.0</td>\n",
       "      <td>1883.0</td>\n",
       "      <td>...</td>\n",
       "      <td>-76.22624</td>\n",
       "      <td>10.0</td>\n",
       "      <td>51.0</td>\n",
       "      <td>14.0</td>\n",
       "      <td>54081</td>\n",
       "      <td>147751.0</td>\n",
       "      <td>-0.633972</td>\n",
       "      <td>2.642857</td>\n",
       "      <td>0.019608</td>\n",
       "      <td>0.017588</td>\n",
       "    </tr>\n",
       "    <tr>\n",
       "      <th>82135</th>\n",
       "      <td>2.0</td>\n",
       "      <td>1.0</td>\n",
       "      <td>1.0</td>\n",
       "      <td>0.0</td>\n",
       "      <td>CACHACHI</td>\n",
       "      <td>2020</td>\n",
       "      <td>SIERRA</td>\n",
       "      <td>1.0</td>\n",
       "      <td>0.0</td>\n",
       "      <td>2154.0</td>\n",
       "      <td>...</td>\n",
       "      <td>-78.14844</td>\n",
       "      <td>2.0</td>\n",
       "      <td>21.0</td>\n",
       "      <td>45.0</td>\n",
       "      <td>5282742</td>\n",
       "      <td>814910.0</td>\n",
       "      <td>5.482608</td>\n",
       "      <td>-0.533333</td>\n",
       "      <td>0.095238</td>\n",
       "      <td>0.028556</td>\n",
       "    </tr>\n",
       "    <tr>\n",
       "      <th>82136</th>\n",
       "      <td>1.0</td>\n",
       "      <td>1.0</td>\n",
       "      <td>1.0</td>\n",
       "      <td>0.0</td>\n",
       "      <td>PAMPACHIRI</td>\n",
       "      <td>2020</td>\n",
       "      <td>SIERRA</td>\n",
       "      <td>0.0</td>\n",
       "      <td>0.0</td>\n",
       "      <td>3425.0</td>\n",
       "      <td>...</td>\n",
       "      <td>-73.55951</td>\n",
       "      <td>2.0</td>\n",
       "      <td>10.0</td>\n",
       "      <td>8.0</td>\n",
       "      <td>55756</td>\n",
       "      <td>35719.0</td>\n",
       "      <td>0.560962</td>\n",
       "      <td>0.250000</td>\n",
       "      <td>0.100000</td>\n",
       "      <td>0.016949</td>\n",
       "    </tr>\n",
       "    <tr>\n",
       "      <th>82137</th>\n",
       "      <td>1.0</td>\n",
       "      <td>1.0</td>\n",
       "      <td>1.0</td>\n",
       "      <td>0.0</td>\n",
       "      <td>VIÑAC</td>\n",
       "      <td>2020</td>\n",
       "      <td>SIERRA</td>\n",
       "      <td>0.0</td>\n",
       "      <td>0.0</td>\n",
       "      <td>1095.0</td>\n",
       "      <td>...</td>\n",
       "      <td>-75.89941</td>\n",
       "      <td>0.0</td>\n",
       "      <td>17.0</td>\n",
       "      <td>9.0</td>\n",
       "      <td>739002</td>\n",
       "      <td>736262.0</td>\n",
       "      <td>0.003722</td>\n",
       "      <td>0.888889</td>\n",
       "      <td>0.058824</td>\n",
       "      <td>0.011924</td>\n",
       "    </tr>\n",
       "    <tr>\n",
       "      <th>82138</th>\n",
       "      <td>1.0</td>\n",
       "      <td>1.0</td>\n",
       "      <td>1.0</td>\n",
       "      <td>0.0</td>\n",
       "      <td>QUILLO</td>\n",
       "      <td>2020</td>\n",
       "      <td>SIERRA</td>\n",
       "      <td>1.0</td>\n",
       "      <td>0.0</td>\n",
       "      <td>1914.0</td>\n",
       "      <td>...</td>\n",
       "      <td>-78.00308</td>\n",
       "      <td>2.0</td>\n",
       "      <td>18.0</td>\n",
       "      <td>6.0</td>\n",
       "      <td>5121835</td>\n",
       "      <td>8628761.0</td>\n",
       "      <td>-0.406423</td>\n",
       "      <td>2.000000</td>\n",
       "      <td>0.055556</td>\n",
       "      <td>0.022305</td>\n",
       "    </tr>\n",
       "  </tbody>\n",
       "</table>\n",
       "<p>79740 rows × 21 columns</p>\n",
       "</div>"
      ],
      "text/plain": [
       "       DOCENTES  rural  sierra  selva            DIST  YEAR REGION_NAT  \\\n",
       "0           2.0    1.0     1.0    0.0  CHUQUIBAMBILLA  2018     SIERRA   \n",
       "1           2.0    1.0     1.0    0.0  CHUQUIBAMBILLA  2019     SIERRA   \n",
       "2           2.0    1.0     1.0    0.0  CHUQUIBAMBILLA  2020     SIERRA   \n",
       "3           1.0    1.0     1.0    0.0  CHUQUIBAMBILLA  2018     SIERRA   \n",
       "4           1.0    1.0     1.0    0.0  CHUQUIBAMBILLA  2019     SIERRA   \n",
       "...         ...    ...     ...    ...             ...   ...        ...   \n",
       "82134       1.0    0.0     1.0    0.0        AMARILIS  2020     SIERRA   \n",
       "82135       2.0    1.0     1.0    0.0        CACHACHI  2020     SIERRA   \n",
       "82136       1.0    1.0     1.0    0.0      PAMPACHIRI  2020     SIERRA   \n",
       "82137       1.0    1.0     1.0    0.0           VIÑAC  2020     SIERRA   \n",
       "82138       1.0    1.0     1.0    0.0          QUILLO  2020     SIERRA   \n",
       "\n",
       "       polidocente_multi  polidocente_completo  ALTITUD  ...  NLONG_IE  \\\n",
       "0                    1.0                   0.0   3760.0  ... -72.78550   \n",
       "1                    1.0                   0.0   3760.0  ... -72.78550   \n",
       "2                    1.0                   0.0   3760.0  ... -72.78550   \n",
       "3                    0.0                   0.0   3638.0  ... -72.79500   \n",
       "4                    0.0                   0.0   3638.0  ... -72.79500   \n",
       "...                  ...                   ...      ...  ...       ...   \n",
       "82134                0.0                   1.0   1883.0  ... -76.22624   \n",
       "82135                1.0                   0.0   2154.0  ... -78.14844   \n",
       "82136                0.0                   0.0   3425.0  ... -73.55951   \n",
       "82137                0.0                   0.0   1095.0  ... -75.89941   \n",
       "82138                1.0                   0.0   1914.0  ... -78.00308   \n",
       "\n",
       "       AULAS_F  MATRICULA  LAG_MATRICULA    CANON  LAG_CANON  Tasa_crec_canon  \\\n",
       "0          4.0       16.0           25.0    56738    80177.0        -0.292341   \n",
       "1          7.0       11.0           16.0    11078    56738.0        -0.804752   \n",
       "2          6.0       12.0           11.0   138017    11078.0        11.458657   \n",
       "3          4.0        8.0            5.0    56738    80177.0        -0.292341   \n",
       "4          4.0        4.0            8.0    11078    56738.0        -0.804752   \n",
       "...        ...        ...            ...      ...        ...              ...   \n",
       "82134     10.0       51.0           14.0    54081   147751.0        -0.633972   \n",
       "82135      2.0       21.0           45.0  5282742   814910.0         5.482608   \n",
       "82136      2.0       10.0            8.0    55756    35719.0         0.560962   \n",
       "82137      0.0       17.0            9.0   739002   736262.0         0.003722   \n",
       "82138      2.0       18.0            6.0  5121835  8628761.0        -0.406423   \n",
       "\n",
       "       Tasa_crec_mat  Docentes_x_alumno  TASA_NAC6  \n",
       "0          -0.360000           0.125000   0.024840  \n",
       "1          -0.312500           0.181818   0.015999  \n",
       "2           0.090909           0.166667   0.013676  \n",
       "3           0.600000           0.125000   0.024840  \n",
       "4          -0.500000           0.250000   0.015999  \n",
       "...              ...                ...        ...  \n",
       "82134       2.642857           0.019608   0.017588  \n",
       "82135      -0.533333           0.095238   0.028556  \n",
       "82136       0.250000           0.100000   0.016949  \n",
       "82137       0.888889           0.058824   0.011924  \n",
       "82138       2.000000           0.055556   0.022305  \n",
       "\n",
       "[79740 rows x 21 columns]"
      ]
     },
     "execution_count": 88,
     "metadata": {},
     "output_type": "execute_result"
    }
   ],
   "source": [
    "# ratio docente por alumno\n",
    "datos_dd['Docentes_x_alumno']=datos_dd['DOCENTES']/datos_dd['MATRICULA']\n",
    "\n",
    "# Tasa de crecimiento de la matricula \n",
    "datos_dd['Tasa_crec_mat']= (datos_dd['MATRICULA'] - datos_dd['LAG_MATRICULA'])/datos_dd['LAG_MATRICULA']\n",
    "\n",
    "# Tasa de crecimiento de la canon por todas las fuentes\n",
    "datos_dd['Tasa_crec_canon']= (datos_dd['CANON'] - datos_dd['LAG_CANON'])/datos_dd['LAG_CANON']\n",
    "\n",
    "datos_dd=datos_dd[['DOCENTES', 'rural', 'sierra', 'selva', 'DIST' , 'YEAR', 'REGION_NAT', 'polidocente_multi', 'polidocente_completo', 'ALTITUD', 'NLAT_IE', 'NLONG_IE', 'AULAS_F', 'MATRICULA', 'LAG_MATRICULA', 'CANON', 'LAG_CANON', 'Tasa_crec_canon', 'Tasa_crec_mat', 'Docentes_x_alumno', 'TASA_NAC6']].dropna()\n",
    "datos_dd.compute()"
   ]
  },
  {
   "cell_type": "markdown",
   "id": "43aff692",
   "metadata": {},
   "source": [
    "#####  - Por lo menos dos estadísticos descriptivos que vayan en línea con el tema y argumento. Explíquelos"
   ]
  },
  {
   "cell_type": "markdown",
   "id": "059828ea",
   "metadata": {},
   "source": [
    "a. Tasa de crecimiento de la matricula promedio anual por región natural "
   ]
  },
  {
   "cell_type": "code",
   "execution_count": 89,
   "id": "0597386a",
   "metadata": {},
   "outputs": [
    {
     "data": {
      "text/plain": [
       "REGION_NAT\n",
       "COSTA     0.084529\n",
       "SELVA     0.042639\n",
       "SIERRA    0.024205\n",
       "Name: Tasa_crec_mat, dtype: float64"
      ]
     },
     "execution_count": 89,
     "metadata": {},
     "output_type": "execute_result"
    }
   ],
   "source": [
    "# Tasa_crec_mat promedio anual por región natural \n",
    "datos_dd.groupby(\"REGION_NAT\").Tasa_crec_mat.mean().compute()  "
   ]
  },
  {
   "cell_type": "markdown",
   "id": "c08f8a59",
   "metadata": {},
   "source": [
    "Como se observa, en linea con lo que se espera respecto a los flujos migratorios del campo a la ciudad, la matricula promedio anual de alumnos de primaria en instituciones públicas ha crecido muhco más en la costa peruana (8,56% promedio anual) diferencia de los otras regiones naturales. Por su parte, en el caso de la sierra, el crecimiento es mucho menor (2,37% promedio anual), lo que indicaría que la demanda estudiantil por servicios educativos se estaría desplazando a zonas menos accidentadas."
   ]
  },
  {
   "cell_type": "markdown",
   "id": "63aa1b7a",
   "metadata": {},
   "source": [
    "b. Ratios de alumnos por docente en la sierra"
   ]
  },
  {
   "cell_type": "code",
   "execution_count": 90,
   "id": "dab88706",
   "metadata": {},
   "outputs": [
    {
     "data": {
      "text/plain": [
       "rural\n",
       "0.0    0.054688\n",
       "1.0    0.138952\n",
       "Name: Docentes_x_alumno, dtype: float64"
      ]
     },
     "execution_count": 90,
     "metadata": {},
     "output_type": "execute_result"
    }
   ],
   "source": [
    "# Promedio del ratio de docentes por alumnos\n",
    "datos_dd[datos_dd.sierra==1].groupby(\"rural\").Docentes_x_alumno.mean().compute()  "
   ]
  },
  {
   "cell_type": "code",
   "execution_count": 91,
   "id": "15b2acce",
   "metadata": {},
   "outputs": [
    {
     "data": {
      "text/plain": [
       "rural\n",
       "0.0    1.0\n",
       "1.0    2.0\n",
       "Name: Docentes_x_alumno, dtype: float64"
      ]
     },
     "execution_count": 91,
     "metadata": {},
     "output_type": "execute_result"
    }
   ],
   "source": [
    "# Desviación estándar del ratio de docentes por alumnos\n",
    "datos_dd[datos_dd.sierra==1].groupby(\"rural\").Docentes_x_alumno.max().compute()  "
   ]
  },
  {
   "cell_type": "markdown",
   "id": "d5381911",
   "metadata": {},
   "source": [
    "Si bien en general  se observa un menor crecimiento de la matricula en EBR primaria en la sierra, si se observamos el panorama por ámbito dentro de la misma región geográfica puede vilsibilizarse notables diferencias. Al respecto, se puede verificar que, en áreas rurales andinas hay en promedio cerca de 1 docente por cada 13 alumnos en el nivel primario, diferencia que contrasta significativamente con las zonas urbanas, donde el panorama es de 0.5 docentes por cada 10 alumnos, casi la mitad. Asimismo se observa que es justo en áreas rurales donde hay una mayor número de docentes, en el que, en un extremo se puede constatar la existencia de 2 docentes por alumno."
   ]
  },
  {
   "cell_type": "markdown",
   "id": "80d1138c",
   "metadata": {},
   "source": [
    "##### - Por lo menos dos gráficos que vayan en línea con el tema y argumento."
   ]
  },
  {
   "cell_type": "code",
   "execution_count": 92,
   "id": "74381c82",
   "metadata": {},
   "outputs": [
    {
     "data": {
      "text/plain": [
       "Text(0, 0.5, 'Crecimiento promedio anual de la matrícula')"
      ]
     },
     "execution_count": 92,
     "metadata": {},
     "output_type": "execute_result"
    },
    {
     "data": {
      "image/png": "[encoded data removed]",
      "text/plain": [
       "<Figure size 432x288 with 1 Axes>"
      ]
     },
     "metadata": {
      "needs_background": "light"
     },
     "output_type": "display_data"
    }
   ],
   "source": [
    "# Trayectorias de la tasa de crecimiento de la matrúc\n",
    "\n",
    "matric_total = datos_dd.groupby(\"YEAR\").Tasa_crec_mat.mean().compute()\n",
    "matric_rural= datos_dd[datos_dd.rural==1].groupby(\"YEAR\").Tasa_crec_mat.mean().compute() \n",
    "matric_urbano = datos_dd[datos_dd.rural==0].groupby(\"YEAR\").Tasa_crec_mat.mean().compute() \n",
    "\n",
    "\n",
    "ax = plt.gca()\n",
    "matric_total.plot(kind='line',x='YEAR',y='Tasa_crec_mat', title='Tasa de crecimiento de la matrícula en EBR pública del nivel primario, por ámbito',ax=ax)\n",
    "matric_rural.plot(kind='line',x='YEAR',y='Tasa_crec_mat', color='red',ax=ax)\n",
    "matric_urbano.plot(kind='line',x='YEAR',y='Tasa_crec_mat', color='green', ax=ax)\n",
    "\n",
    "ax.set_xlabel(\"Años\")\n",
    "ax.set_ylabel(\"Crecimiento promedio anual de la matrícula\")"
   ]
  },
  {
   "cell_type": "markdown",
   "id": "9d15e17c",
   "metadata": {},
   "source": [
    "Al observar el crecimiento de las trayectorias de la tasas de matricula en IIEE públicas de la EBR primaria por año, se puede observar que tanto en el ambito urbano, como en el rural ha ocurrido un incremento ligero, en especial entre el año 2019 y 2020, lo que respondería a dos procesos eventos significativos. En primer lugar la migración venezolana entre 2018 y 2019, y en segundo lugar, la pandemia por covid-19 que ha obligado a muchos estudiantes a migrar desde IIEE del sector privado al público.   "
   ]
  },
  {
   "cell_type": "markdown",
   "id": "4c9c9f93",
   "metadata": {},
   "source": [
    "b. Relación entre crecimiento de la matrícula y tasa de natalidad"
   ]
  },
  {
   "cell_type": "code",
   "execution_count": 93,
   "id": "61f1e406",
   "metadata": {},
   "outputs": [
    {
     "data": {
      "text/plain": [
       "Text(0, 0.5, 'Tasa de natalidad rezagada a 6 años')"
      ]
     },
     "execution_count": 93,
     "metadata": {},
     "output_type": "execute_result"
    },
    {
     "data": {
      "image/png": "[encoded data removed]",
      "text/plain": [
       "<Figure size 432x288 with 1 Axes>"
      ]
     },
     "metadata": {
      "needs_background": "light"
     },
     "output_type": "display_data"
    }
   ],
   "source": [
    "prom_dist = datos_dd.groupby(\"DIST\").mean().compute()\n",
    "\n",
    "plot_2 = prom_dist.plot(kind ='scatter', \n",
    "                 x=\"MATRICULA\", \n",
    "                 y=\"TASA_NAC6\")\n",
    "\n",
    "plot_2.set_title(\"Relación entre tasa de natalidad y matricula distrital en IIEE EBR primaria\")\n",
    "plot_2.set_xlabel(\"Número de matriculados\")\n",
    "plot_2.set_ylabel(\"Tasa de natalidad rezagada a 6 años\")"
   ]
  },
  {
   "cell_type": "markdown",
   "id": "e8768dc8",
   "metadata": {},
   "source": [
    "Como se muestra, la matrícula y la tasa de natalidad rezagada a 3 años guardan cierta relación directa. Es decir, la matricula en los distritos responde en parte al número de nacimientos registrados hace 6 años, no obstante, esta relación no es completamente fuerte. Esto se debería a los procesos migratorios entre distritos, especialmente desde los distritos urbanos a los rurales. "
   ]
  },
  {
   "cell_type": "markdown",
   "id": "d93c9bdc",
   "metadata": {},
   "source": [
    "### b.\tImplementación de Machine Learning: Utilice Dask para entrenar por lo menos un modelo de Machine Learning supervisado. Este acápite debe contener, por lo menos, los siguientes elementos:"
   ]
  },
  {
   "cell_type": "markdown",
   "id": "d523e5c9",
   "metadata": {},
   "source": [
    "##### - Definición de predictores (X) y vector de target (y)"
   ]
  },
  {
   "cell_type": "code",
   "execution_count": 94,
   "id": "b0dc4153",
   "metadata": {},
   "outputs": [],
   "source": [
    "X=datos_dd[['DOCENTES', 'rural', 'sierra', 'selva', 'polidocente_multi', 'polidocente_completo', 'Docentes_x_alumno', 'ALTITUD', 'NLAT_IE', 'NLONG_IE', 'LAG_MATRICULA', 'LAG_CANON' , 'TASA_NAC6']]\n",
    "y=datos_dd['MATRICULA' ]\n"
   ]
  },
  {
   "cell_type": "markdown",
   "id": "426f2d23",
   "metadata": {},
   "source": [
    "##### - Train-test splitting "
   ]
  },
  {
   "cell_type": "code",
   "execution_count": 95,
   "id": "e9a78d61",
   "metadata": {
    "scrolled": true
   },
   "outputs": [
    {
     "name": "stderr",
     "output_type": "stream",
     "text": [
      "C:\\ProgramData\\Anaconda3\\lib\\site-packages\\dask_ml\\model_selection\\_split.py:462: FutureWarning: The default value for 'shuffle' must be specified when splitting DataFrames. In the future DataFrames will automatically be shuffled within blocks prior to splitting. Specify 'shuffle=True' to adopt the future behavior now, or 'shuffle=False' to retain the previous behavior.\n",
      "  warnings.warn(\n"
     ]
    },
    {
     "data": {
      "text/html": [
       "<div>\n",
       "<style scoped>\n",
       "    .dataframe tbody tr th:only-of-type {\n",
       "        vertical-align: middle;\n",
       "    }\n",
       "\n",
       "    .dataframe tbody tr th {\n",
       "        vertical-align: top;\n",
       "    }\n",
       "\n",
       "    .dataframe thead th {\n",
       "        text-align: right;\n",
       "    }\n",
       "</style>\n",
       "<table border=\"1\" class=\"dataframe\">\n",
       "  <thead>\n",
       "    <tr style=\"text-align: right;\">\n",
       "      <th></th>\n",
       "      <th>DOCENTES</th>\n",
       "      <th>rural</th>\n",
       "      <th>sierra</th>\n",
       "      <th>selva</th>\n",
       "      <th>polidocente_multi</th>\n",
       "      <th>polidocente_completo</th>\n",
       "      <th>Docentes_x_alumno</th>\n",
       "      <th>ALTITUD</th>\n",
       "      <th>NLAT_IE</th>\n",
       "      <th>NLONG_IE</th>\n",
       "      <th>LAG_MATRICULA</th>\n",
       "      <th>LAG_CANON</th>\n",
       "      <th>TASA_NAC6</th>\n",
       "    </tr>\n",
       "  </thead>\n",
       "  <tbody>\n",
       "    <tr>\n",
       "      <th>0</th>\n",
       "      <td>2.0</td>\n",
       "      <td>1.0</td>\n",
       "      <td>1.0</td>\n",
       "      <td>0.0</td>\n",
       "      <td>1.0</td>\n",
       "      <td>0.0</td>\n",
       "      <td>0.125000</td>\n",
       "      <td>3760.0</td>\n",
       "      <td>-14.18550</td>\n",
       "      <td>-72.78550</td>\n",
       "      <td>25.0</td>\n",
       "      <td>80177.0</td>\n",
       "      <td>0.024840</td>\n",
       "    </tr>\n",
       "    <tr>\n",
       "      <th>3</th>\n",
       "      <td>1.0</td>\n",
       "      <td>1.0</td>\n",
       "      <td>1.0</td>\n",
       "      <td>0.0</td>\n",
       "      <td>0.0</td>\n",
       "      <td>0.0</td>\n",
       "      <td>0.125000</td>\n",
       "      <td>3638.0</td>\n",
       "      <td>-14.16780</td>\n",
       "      <td>-72.79500</td>\n",
       "      <td>5.0</td>\n",
       "      <td>80177.0</td>\n",
       "      <td>0.024840</td>\n",
       "    </tr>\n",
       "    <tr>\n",
       "      <th>5</th>\n",
       "      <td>1.0</td>\n",
       "      <td>1.0</td>\n",
       "      <td>1.0</td>\n",
       "      <td>0.0</td>\n",
       "      <td>0.0</td>\n",
       "      <td>0.0</td>\n",
       "      <td>0.125000</td>\n",
       "      <td>3638.0</td>\n",
       "      <td>-14.16780</td>\n",
       "      <td>-72.79500</td>\n",
       "      <td>4.0</td>\n",
       "      <td>11078.0</td>\n",
       "      <td>0.013676</td>\n",
       "    </tr>\n",
       "    <tr>\n",
       "      <th>6</th>\n",
       "      <td>4.0</td>\n",
       "      <td>1.0</td>\n",
       "      <td>1.0</td>\n",
       "      <td>0.0</td>\n",
       "      <td>1.0</td>\n",
       "      <td>0.0</td>\n",
       "      <td>0.125000</td>\n",
       "      <td>3627.0</td>\n",
       "      <td>-14.14340</td>\n",
       "      <td>-72.73650</td>\n",
       "      <td>36.0</td>\n",
       "      <td>80177.0</td>\n",
       "      <td>0.024840</td>\n",
       "    </tr>\n",
       "    <tr>\n",
       "      <th>7</th>\n",
       "      <td>4.0</td>\n",
       "      <td>1.0</td>\n",
       "      <td>1.0</td>\n",
       "      <td>0.0</td>\n",
       "      <td>1.0</td>\n",
       "      <td>0.0</td>\n",
       "      <td>0.133333</td>\n",
       "      <td>3627.0</td>\n",
       "      <td>-14.14340</td>\n",
       "      <td>-72.73650</td>\n",
       "      <td>32.0</td>\n",
       "      <td>56738.0</td>\n",
       "      <td>0.015999</td>\n",
       "    </tr>\n",
       "    <tr>\n",
       "      <th>...</th>\n",
       "      <td>...</td>\n",
       "      <td>...</td>\n",
       "      <td>...</td>\n",
       "      <td>...</td>\n",
       "      <td>...</td>\n",
       "      <td>...</td>\n",
       "      <td>...</td>\n",
       "      <td>...</td>\n",
       "      <td>...</td>\n",
       "      <td>...</td>\n",
       "      <td>...</td>\n",
       "      <td>...</td>\n",
       "      <td>...</td>\n",
       "    </tr>\n",
       "    <tr>\n",
       "      <th>82133</th>\n",
       "      <td>1.0</td>\n",
       "      <td>1.0</td>\n",
       "      <td>0.0</td>\n",
       "      <td>1.0</td>\n",
       "      <td>0.0</td>\n",
       "      <td>0.0</td>\n",
       "      <td>0.083333</td>\n",
       "      <td>145.0</td>\n",
       "      <td>-7.43018</td>\n",
       "      <td>-74.93785</td>\n",
       "      <td>12.0</td>\n",
       "      <td>2246966.0</td>\n",
       "      <td>0.030423</td>\n",
       "    </tr>\n",
       "    <tr>\n",
       "      <th>82135</th>\n",
       "      <td>2.0</td>\n",
       "      <td>1.0</td>\n",
       "      <td>1.0</td>\n",
       "      <td>0.0</td>\n",
       "      <td>1.0</td>\n",
       "      <td>0.0</td>\n",
       "      <td>0.095238</td>\n",
       "      <td>2154.0</td>\n",
       "      <td>-7.60360</td>\n",
       "      <td>-78.14844</td>\n",
       "      <td>45.0</td>\n",
       "      <td>814910.0</td>\n",
       "      <td>0.028556</td>\n",
       "    </tr>\n",
       "    <tr>\n",
       "      <th>82136</th>\n",
       "      <td>1.0</td>\n",
       "      <td>1.0</td>\n",
       "      <td>1.0</td>\n",
       "      <td>0.0</td>\n",
       "      <td>0.0</td>\n",
       "      <td>0.0</td>\n",
       "      <td>0.100000</td>\n",
       "      <td>3425.0</td>\n",
       "      <td>-14.15419</td>\n",
       "      <td>-73.55951</td>\n",
       "      <td>8.0</td>\n",
       "      <td>35719.0</td>\n",
       "      <td>0.016949</td>\n",
       "    </tr>\n",
       "    <tr>\n",
       "      <th>82137</th>\n",
       "      <td>1.0</td>\n",
       "      <td>1.0</td>\n",
       "      <td>1.0</td>\n",
       "      <td>0.0</td>\n",
       "      <td>0.0</td>\n",
       "      <td>0.0</td>\n",
       "      <td>0.058824</td>\n",
       "      <td>1095.0</td>\n",
       "      <td>-12.81101</td>\n",
       "      <td>-75.89941</td>\n",
       "      <td>9.0</td>\n",
       "      <td>736262.0</td>\n",
       "      <td>0.011924</td>\n",
       "    </tr>\n",
       "    <tr>\n",
       "      <th>82138</th>\n",
       "      <td>1.0</td>\n",
       "      <td>1.0</td>\n",
       "      <td>1.0</td>\n",
       "      <td>0.0</td>\n",
       "      <td>1.0</td>\n",
       "      <td>0.0</td>\n",
       "      <td>0.055556</td>\n",
       "      <td>1914.0</td>\n",
       "      <td>-9.42181</td>\n",
       "      <td>-78.00308</td>\n",
       "      <td>6.0</td>\n",
       "      <td>8628761.0</td>\n",
       "      <td>0.022305</td>\n",
       "    </tr>\n",
       "  </tbody>\n",
       "</table>\n",
       "<p>59757 rows × 13 columns</p>\n",
       "</div>"
      ],
      "text/plain": [
       "       DOCENTES  rural  sierra  selva  polidocente_multi  \\\n",
       "0           2.0    1.0     1.0    0.0                1.0   \n",
       "3           1.0    1.0     1.0    0.0                0.0   \n",
       "5           1.0    1.0     1.0    0.0                0.0   \n",
       "6           4.0    1.0     1.0    0.0                1.0   \n",
       "7           4.0    1.0     1.0    0.0                1.0   \n",
       "...         ...    ...     ...    ...                ...   \n",
       "82133       1.0    1.0     0.0    1.0                0.0   \n",
       "82135       2.0    1.0     1.0    0.0                1.0   \n",
       "82136       1.0    1.0     1.0    0.0                0.0   \n",
       "82137       1.0    1.0     1.0    0.0                0.0   \n",
       "82138       1.0    1.0     1.0    0.0                1.0   \n",
       "\n",
       "       polidocente_completo  Docentes_x_alumno  ALTITUD   NLAT_IE  NLONG_IE  \\\n",
       "0                       0.0           0.125000   3760.0 -14.18550 -72.78550   \n",
       "3                       0.0           0.125000   3638.0 -14.16780 -72.79500   \n",
       "5                       0.0           0.125000   3638.0 -14.16780 -72.79500   \n",
       "6                       0.0           0.125000   3627.0 -14.14340 -72.73650   \n",
       "7                       0.0           0.133333   3627.0 -14.14340 -72.73650   \n",
       "...                     ...                ...      ...       ...       ...   \n",
       "82133                   0.0           0.083333    145.0  -7.43018 -74.93785   \n",
       "82135                   0.0           0.095238   2154.0  -7.60360 -78.14844   \n",
       "82136                   0.0           0.100000   3425.0 -14.15419 -73.55951   \n",
       "82137                   0.0           0.058824   1095.0 -12.81101 -75.89941   \n",
       "82138                   0.0           0.055556   1914.0  -9.42181 -78.00308   \n",
       "\n",
       "       LAG_MATRICULA  LAG_CANON  TASA_NAC6  \n",
       "0               25.0    80177.0   0.024840  \n",
       "3                5.0    80177.0   0.024840  \n",
       "5                4.0    11078.0   0.013676  \n",
       "6               36.0    80177.0   0.024840  \n",
       "7               32.0    56738.0   0.015999  \n",
       "...              ...        ...        ...  \n",
       "82133           12.0  2246966.0   0.030423  \n",
       "82135           45.0   814910.0   0.028556  \n",
       "82136            8.0    35719.0   0.016949  \n",
       "82137            9.0   736262.0   0.011924  \n",
       "82138            6.0  8628761.0   0.022305  \n",
       "\n",
       "[59757 rows x 13 columns]"
      ]
     },
     "execution_count": 95,
     "metadata": {},
     "output_type": "execute_result"
    }
   ],
   "source": [
    "X_train, X_test, y_train,y_test=train_test_split(X,y,test_size=0.25,random_state=0)\n",
    "X_train.compute()"
   ]
  },
  {
   "cell_type": "code",
   "execution_count": 96,
   "id": "0e4fcafa",
   "metadata": {},
   "outputs": [
    {
     "data": {
      "text/plain": [
       "array([[2.00000000e+00, 1.00000000e+00, 1.00000000e+00, ...,\n",
       "        2.50000000e+01, 8.01770000e+04, 2.48403121e-02],\n",
       "       [1.00000000e+00, 1.00000000e+00, 1.00000000e+00, ...,\n",
       "        5.00000000e+00, 8.01770000e+04, 2.48403121e-02],\n",
       "       [1.00000000e+00, 1.00000000e+00, 1.00000000e+00, ...,\n",
       "        4.00000000e+00, 1.10780000e+04, 1.36761488e-02],\n",
       "       ...,\n",
       "       [1.00000000e+00, 1.00000000e+00, 1.00000000e+00, ...,\n",
       "        8.00000000e+00, 3.57190000e+04, 1.69491526e-02],\n",
       "       [1.00000000e+00, 1.00000000e+00, 1.00000000e+00, ...,\n",
       "        9.00000000e+00, 7.36262000e+05, 1.19241197e-02],\n",
       "       [1.00000000e+00, 1.00000000e+00, 1.00000000e+00, ...,\n",
       "        6.00000000e+00, 8.62876100e+06, 2.23053787e-02]])"
      ]
     },
     "execution_count": 96,
     "metadata": {},
     "output_type": "execute_result"
    }
   ],
   "source": [
    "X_train_arr=X_train.to_dask_array(lengths=True)\n",
    "X_test_arr=X_test.to_dask_array(lengths=True)\n",
    "y_train_arr=y_train.to_dask_array(lengths=True)\n",
    "y_test_arr=y_test.to_dask_array(lengths=True)\n",
    "X_train_arr.compute()"
   ]
  },
  {
   "cell_type": "code",
   "execution_count": 97,
   "id": "dc814aba",
   "metadata": {},
   "outputs": [],
   "source": [
    "lr = Pipeline(steps=[\n",
    "    ('scale', StandardScaler()),\n",
    "    ('clf', LinearRegression(penalty='l2', max_iter=100)),\n",
    "])"
   ]
  },
  {
   "cell_type": "markdown",
   "id": "bc9b931b",
   "metadata": {},
   "source": [
    "##### - Cross-Validation\n",
    "##### - GridSearch"
   ]
  },
  {
   "cell_type": "code",
   "execution_count": 98,
   "id": "e15850f2",
   "metadata": {},
   "outputs": [],
   "source": [
    "from sklearn.model_selection import GridSearchCV\n",
    "#from dask_ml.model_selection import GridSearchCV"
   ]
  },
  {
   "cell_type": "code",
   "execution_count": 99,
   "id": "262037d1",
   "metadata": {},
   "outputs": [],
   "source": [
    "#lr.get_params()"
   ]
  },
  {
   "cell_type": "code",
   "execution_count": 100,
   "id": "c475854c",
   "metadata": {},
   "outputs": [],
   "source": [
    "#help(GridSearchCV)"
   ]
  },
  {
   "cell_type": "code",
   "execution_count": 101,
   "id": "a3d6be70",
   "metadata": {},
   "outputs": [],
   "source": [
    "parametros={\n",
    "   'clf__penalty': ['l1','l2']\n",
    "}"
   ]
  },
  {
   "cell_type": "code",
   "execution_count": 102,
   "id": "9476bec0",
   "metadata": {},
   "outputs": [],
   "source": [
    "model=GridSearchCV(lr,parametros, cv=5)"
   ]
  },
  {
   "cell_type": "markdown",
   "id": "ccf9d0bc",
   "metadata": {},
   "source": [
    "##### - Model fit y selección del modelo óptimo "
   ]
  },
  {
   "cell_type": "code",
   "execution_count": 106,
   "id": "90c1d3e7",
   "metadata": {},
   "outputs": [
    {
     "name": "stdout",
     "output_type": "stream",
     "text": [
      "Wall time: 4min 15s\n"
     ]
    }
   ],
   "source": [
    "%%time\n",
    "with joblib.parallel_backend('dask'):\n",
    "    model.fit(X_train_arr, y_train_arr)"
   ]
  },
  {
   "cell_type": "markdown",
   "id": "9e0a5554",
   "metadata": {},
   "source": [
    "##### - Computo de dos indicadores de la calidad de ajuste en muestra entrenamiento"
   ]
  },
  {
   "cell_type": "code",
   "execution_count": 107,
   "id": "71260fa2",
   "metadata": {},
   "outputs": [
    {
     "name": "stdout",
     "output_type": "stream",
     "text": [
      "15.530295198560442\n",
      "0.992322835320918\n"
     ]
    }
   ],
   "source": [
    "lr_train=model.predict(X_train_arr)\n",
    "print(mean_squared_error(y_train_arr,lr_train, squared=False))\n",
    "print(r2_score(y_train_arr,lr_train))"
   ]
  },
  {
   "cell_type": "markdown",
   "id": "d45b1c98",
   "metadata": {},
   "source": [
    "##### - Computo de dos indicadores de la calidad de ajuste fuera de la muestra (test)"
   ]
  },
  {
   "cell_type": "code",
   "execution_count": 108,
   "id": "76bf69a1",
   "metadata": {},
   "outputs": [
    {
     "name": "stdout",
     "output_type": "stream",
     "text": [
      "17.906467328905393\n",
      "0.9896234835817583\n"
     ]
    }
   ],
   "source": [
    "lr_preds=model.predict(X_test_arr)\n",
    "print(mean_squared_error(y_test_arr,lr_preds, squared=False))\n",
    "print(r2_score(y_test_arr,lr_preds))"
   ]
  },
  {
   "cell_type": "markdown",
   "id": "ad739991",
   "metadata": {},
   "source": [
    "##### - Limitaciones y extensiones"
   ]
  },
  {
   "cell_type": "markdown",
   "id": "3f747bbc",
   "metadata": {},
   "source": [
    "En el modelo propuesto se evalúa solo la relación lineal de los predictores de la matriz X con el vector Y, no considera posibles relaciones no lineales.\n",
    "Se podría extender el modelo de ML, considerando posibles relaciones no lineales y incorporando otras variables demográficas, tales como las tasas de crecimiento de la población o número de habitantes por distrito donde se ubica cada servicio educativo. Dicha información se podrí recopilar de fuentes públicas. "
   ]
  },
  {
   "cell_type": "code",
   "execution_count": null,
   "id": "e5f01c3f",
   "metadata": {},
   "outputs": [],
   "source": []
  }
 ],
 "metadata": {
  "kernelspec": {
   "display_name": "Python 3",
   "language": "python",
   "name": "python3"
  },
  "language_info": {
   "codemirror_mode": {
    "name": "ipython",
    "version": 3
   },
   "file_extension": ".py",
   "mimetype": "text/x-python",
   "name": "python",
   "nbconvert_exporter": "python",
   "pygments_lexer": "ipython3",
   "version": "3.8.8"
  }
 },
 "nbformat": 4,
 "nbformat_minor": 5
}
