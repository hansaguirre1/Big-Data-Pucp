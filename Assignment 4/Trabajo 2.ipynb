{
 "cells": [
  {
   "cell_type": "code",
   "execution_count": null,
   "id": "4dcaed88",
   "metadata": {
    "scrolled": true
   },
   "outputs": [],
   "source": []
  },
  {
   "cell_type": "markdown",
   "id": "4a862e80",
   "metadata": {},
   "source": [
    "# Trabajo 2 – Computación en paralelo"
   ]
  },
  {
   "cell_type": "markdown",
   "id": "ca936275",
   "metadata": {},
   "source": [
    "## Integrantes:"
   ]
  },
  {
   "cell_type": "markdown",
   "id": "89608c43",
   "metadata": {},
   "source": [
    " - Carlos Andrés Zelada Chambilla - F0843894\n",
    " - Hans Isaí Aguirre Ccerare - F0730020\n",
    " - \n",
    " - "
   ]
  },
  {
   "cell_type": "markdown",
   "id": "1cb1eb42",
   "metadata": {},
   "source": [
    "### Parte I\n",
    "\n",
    "#### Responda las siguientes preguntas respetando el límite máximo de palabras establecido "
   ]
  },
  {
   "cell_type": "markdown",
   "id": "13c00969",
   "metadata": {},
   "source": [
    "1.\tEl equipo del QLAB, para el cual Ud. ahora trabaja, ha decidido comprar 100 tarjetas gráficas (GPUs) para PCs a fin de utilizarlas en computación en paralelo para investigación en Ciencias Sociales. Sabiendo de su experiencia en el tema, el director le ha pedido recomendaciones. Elabore una tabla de comparación de, por lo menos, tres tarjetas gráficas disponibles en Perú donde resuma a detalle las especificaciones de cada una de ellas. Finalmente, diga cuál y por qué le recomendaría al director. Recuerde que el precio es uno de los atributos a considerar.  (200 palabras, 3 puntos)  "
   ]
  },
  {
   "cell_type": "code",
   "execution_count": null,
   "id": "267f6768",
   "metadata": {},
   "outputs": [],
   "source": []
  },
  {
   "cell_type": "code",
   "execution_count": null,
   "id": "ef4fbaec",
   "metadata": {},
   "outputs": [],
   "source": []
  },
  {
   "cell_type": "code",
   "execution_count": null,
   "id": "9f8848bd",
   "metadata": {},
   "outputs": [],
   "source": []
  },
  {
   "cell_type": "code",
   "execution_count": null,
   "id": "a5b0c7cc",
   "metadata": {},
   "outputs": [],
   "source": []
  },
  {
   "cell_type": "code",
   "execution_count": null,
   "id": "de69c8b5",
   "metadata": {},
   "outputs": [],
   "source": []
  },
  {
   "cell_type": "code",
   "execution_count": null,
   "id": "b985c8e4",
   "metadata": {},
   "outputs": [],
   "source": []
  },
  {
   "cell_type": "code",
   "execution_count": null,
   "id": "e16dc22e",
   "metadata": {},
   "outputs": [],
   "source": []
  },
  {
   "cell_type": "code",
   "execution_count": null,
   "id": "4ceebfb2",
   "metadata": {},
   "outputs": [],
   "source": []
  },
  {
   "cell_type": "code",
   "execution_count": null,
   "id": "71c72a76",
   "metadata": {},
   "outputs": [],
   "source": []
  },
  {
   "cell_type": "code",
   "execution_count": null,
   "id": "841f4f66",
   "metadata": {},
   "outputs": [],
   "source": []
  },
  {
   "cell_type": "markdown",
   "id": "a58c98dd",
   "metadata": {},
   "source": [
    "### Parte II"
   ]
  },
  {
   "cell_type": "markdown",
   "id": "dd952ef3",
   "metadata": {},
   "source": [
    "### 4. Uso de Dask. "
   ]
  },
  {
   "cell_type": "code",
   "execution_count": 1,
   "id": "5c1b4a39",
   "metadata": {},
   "outputs": [],
   "source": [
    "%matplotlib inline\n",
    "#conda install -c conda-forge dask-ml\n",
    "#! pip install dask[dataframe] --upgrade\n",
    "#! pip install dask[array] --upgrade\n",
    "#! pip install memory_profiler\n",
    "#!conda install python-graphviz\n",
    "import sys\n",
    "from sklearn.model_selection import KFold\n",
    "from sklearn.model_selection import cross_val_score\n",
    "from sklearn import linear_model\n",
    "from sklearn.metrics import mean_squared_error\n",
    "from sklearn.metrics import r2_score\n",
    "import pandas as pd\n",
    "import numpy as np\n",
    "import matplotlib.pyplot as plt\n",
    "import time\n",
    "import os\n",
    "import dask\n",
    "import dask.array as da\n",
    "import dask.dataframe as dd\n",
    "import dask.bag as db\n",
    "from dask.diagnostics import ProgressBar\n",
    "from memory_profiler import memory_usage\n",
    "from dask.distributed import Client, LocalCluster\n",
    "import dask.array as da\n",
    "from dask_ml.datasets import make_regression\n",
    "from dask_ml.model_selection import GridSearchCV, train_test_split\n",
    "from sklearn.pipeline import Pipeline\n",
    "from dask_ml.linear_model import LinearRegression\n",
    "from dask_ml.preprocessing import StandardScaler\n",
    "from dask_ml.metrics import mean_squared_error\n",
    "from dask_ml.metrics import r2_score\n",
    "from dask_ml.model_selection import train_test_split\n",
    "from dask_ml.preprocessing import StandardScaler\n",
    "from sklearn.model_selection import cross_val_score\n",
    "import joblib"
   ]
  },
  {
   "cell_type": "code",
   "execution_count": 2,
   "id": "cb7feb5a",
   "metadata": {},
   "outputs": [
    {
     "data": {
      "text/html": [
       "<div>\n",
       "    <div style=\"width: 24px; height: 24px; background-color: #e1e1e1; border: 3px solid #9D9D9D; border-radius: 5px; position: absolute;\"> </div>\n",
       "    <div style=\"margin-left: 48px;\">\n",
       "        <h3 style=\"margin-bottom: 0px;\">Client</h3>\n",
       "        <p style=\"color: #9D9D9D; margin-bottom: 0px;\">Client-81757040-f98e-11ec-82e4-d8d0902b76ee</p>\n",
       "        <table style=\"width: 100%; text-align: left;\">\n",
       "\n",
       "        <tr>\n",
       "        \n",
       "            <td style=\"text-align: left;\"><strong>Connection method:</strong> Cluster object</td>\n",
       "            <td style=\"text-align: left;\"><strong>Cluster type:</strong> distributed.LocalCluster</td>\n",
       "        \n",
       "        </tr>\n",
       "\n",
       "        \n",
       "            <tr>\n",
       "                <td style=\"text-align: left;\">\n",
       "                    <strong>Dashboard: </strong> <a href=\"http://127.0.0.1:8787/status\" target=\"_blank\">http://127.0.0.1:8787/status</a>\n",
       "                </td>\n",
       "                <td style=\"text-align: left;\"></td>\n",
       "            </tr>\n",
       "        \n",
       "\n",
       "        </table>\n",
       "\n",
       "        \n",
       "            <details>\n",
       "            <summary style=\"margin-bottom: 20px;\"><h3 style=\"display: inline;\">Cluster Info</h3></summary>\n",
       "            <div class=\"jp-RenderedHTMLCommon jp-RenderedHTML jp-mod-trusted jp-OutputArea-output\">\n",
       "    <div style=\"width: 24px; height: 24px; background-color: #e1e1e1; border: 3px solid #9D9D9D; border-radius: 5px; position: absolute;\">\n",
       "    </div>\n",
       "    <div style=\"margin-left: 48px;\">\n",
       "        <h3 style=\"margin-bottom: 0px; margin-top: 0px;\">LocalCluster</h3>\n",
       "        <p style=\"color: #9D9D9D; margin-bottom: 0px;\">e048f9d9</p>\n",
       "        <table style=\"width: 100%; text-align: left;\">\n",
       "            <tr>\n",
       "                <td style=\"text-align: left;\">\n",
       "                    <strong>Dashboard:</strong> <a href=\"http://127.0.0.1:8787/status\" target=\"_blank\">http://127.0.0.1:8787/status</a>\n",
       "                </td>\n",
       "                <td style=\"text-align: left;\">\n",
       "                    <strong>Workers:</strong> 4\n",
       "                </td>\n",
       "            </tr>\n",
       "            <tr>\n",
       "                <td style=\"text-align: left;\">\n",
       "                    <strong>Total threads:</strong> 8\n",
       "                </td>\n",
       "                <td style=\"text-align: left;\">\n",
       "                    <strong>Total memory:</strong> 7.88 GiB\n",
       "                </td>\n",
       "            </tr>\n",
       "            \n",
       "            <tr>\n",
       "    <td style=\"text-align: left;\"><strong>Status:</strong> running</td>\n",
       "    <td style=\"text-align: left;\"><strong>Using processes:</strong> True</td>\n",
       "</tr>\n",
       "\n",
       "            \n",
       "        </table>\n",
       "\n",
       "        <details>\n",
       "            <summary style=\"margin-bottom: 20px;\">\n",
       "                <h3 style=\"display: inline;\">Scheduler Info</h3>\n",
       "            </summary>\n",
       "\n",
       "            <div style=\"\">\n",
       "    <div>\n",
       "        <div style=\"width: 24px; height: 24px; background-color: #FFF7E5; border: 3px solid #FF6132; border-radius: 5px; position: absolute;\"> </div>\n",
       "        <div style=\"margin-left: 48px;\">\n",
       "            <h3 style=\"margin-bottom: 0px;\">Scheduler</h3>\n",
       "            <p style=\"color: #9D9D9D; margin-bottom: 0px;\">Scheduler-0bb45dbc-1e0a-4b8f-af57-0ec95ed48e56</p>\n",
       "            <table style=\"width: 100%; text-align: left;\">\n",
       "                <tr>\n",
       "                    <td style=\"text-align: left;\">\n",
       "                        <strong>Comm:</strong> tcp://127.0.0.1:49387\n",
       "                    </td>\n",
       "                    <td style=\"text-align: left;\">\n",
       "                        <strong>Workers:</strong> 4\n",
       "                    </td>\n",
       "                </tr>\n",
       "                <tr>\n",
       "                    <td style=\"text-align: left;\">\n",
       "                        <strong>Dashboard:</strong> <a href=\"http://127.0.0.1:8787/status\" target=\"_blank\">http://127.0.0.1:8787/status</a>\n",
       "                    </td>\n",
       "                    <td style=\"text-align: left;\">\n",
       "                        <strong>Total threads:</strong> 8\n",
       "                    </td>\n",
       "                </tr>\n",
       "                <tr>\n",
       "                    <td style=\"text-align: left;\">\n",
       "                        <strong>Started:</strong> Just now\n",
       "                    </td>\n",
       "                    <td style=\"text-align: left;\">\n",
       "                        <strong>Total memory:</strong> 7.88 GiB\n",
       "                    </td>\n",
       "                </tr>\n",
       "            </table>\n",
       "        </div>\n",
       "    </div>\n",
       "\n",
       "    <details style=\"margin-left: 48px;\">\n",
       "        <summary style=\"margin-bottom: 20px;\">\n",
       "            <h3 style=\"display: inline;\">Workers</h3>\n",
       "        </summary>\n",
       "\n",
       "        \n",
       "        <div style=\"margin-bottom: 20px;\">\n",
       "            <div style=\"width: 24px; height: 24px; background-color: #DBF5FF; border: 3px solid #4CC9FF; border-radius: 5px; position: absolute;\"> </div>\n",
       "            <div style=\"margin-left: 48px;\">\n",
       "            <details>\n",
       "                <summary>\n",
       "                    <h4 style=\"margin-bottom: 0px; display: inline;\">Worker: 0</h4>\n",
       "                </summary>\n",
       "                <table style=\"width: 100%; text-align: left;\">\n",
       "                    <tr>\n",
       "                        <td style=\"text-align: left;\">\n",
       "                            <strong>Comm: </strong> tcp://127.0.0.1:49420\n",
       "                        </td>\n",
       "                        <td style=\"text-align: left;\">\n",
       "                            <strong>Total threads: </strong> 2\n",
       "                        </td>\n",
       "                    </tr>\n",
       "                    <tr>\n",
       "                        <td style=\"text-align: left;\">\n",
       "                            <strong>Dashboard: </strong> <a href=\"http://127.0.0.1:49421/status\" target=\"_blank\">http://127.0.0.1:49421/status</a>\n",
       "                        </td>\n",
       "                        <td style=\"text-align: left;\">\n",
       "                            <strong>Memory: </strong> 1.97 GiB\n",
       "                        </td>\n",
       "                    </tr>\n",
       "                    <tr>\n",
       "                        <td style=\"text-align: left;\">\n",
       "                            <strong>Nanny: </strong> tcp://127.0.0.1:49392\n",
       "                        </td>\n",
       "                        <td style=\"text-align: left;\"></td>\n",
       "                    </tr>\n",
       "                    <tr>\n",
       "                        <td colspan=\"2\" style=\"text-align: left;\">\n",
       "                            <strong>Local directory: </strong> C:\\Users\\Hans\\Downloads\\2020\\dask-worker-space\\worker-tghpxq_6\n",
       "                        </td>\n",
       "                    </tr>\n",
       "\n",
       "                    \n",
       "\n",
       "                    \n",
       "\n",
       "                </table>\n",
       "            </details>\n",
       "            </div>\n",
       "        </div>\n",
       "        \n",
       "        <div style=\"margin-bottom: 20px;\">\n",
       "            <div style=\"width: 24px; height: 24px; background-color: #DBF5FF; border: 3px solid #4CC9FF; border-radius: 5px; position: absolute;\"> </div>\n",
       "            <div style=\"margin-left: 48px;\">\n",
       "            <details>\n",
       "                <summary>\n",
       "                    <h4 style=\"margin-bottom: 0px; display: inline;\">Worker: 1</h4>\n",
       "                </summary>\n",
       "                <table style=\"width: 100%; text-align: left;\">\n",
       "                    <tr>\n",
       "                        <td style=\"text-align: left;\">\n",
       "                            <strong>Comm: </strong> tcp://127.0.0.1:49414\n",
       "                        </td>\n",
       "                        <td style=\"text-align: left;\">\n",
       "                            <strong>Total threads: </strong> 2\n",
       "                        </td>\n",
       "                    </tr>\n",
       "                    <tr>\n",
       "                        <td style=\"text-align: left;\">\n",
       "                            <strong>Dashboard: </strong> <a href=\"http://127.0.0.1:49415/status\" target=\"_blank\">http://127.0.0.1:49415/status</a>\n",
       "                        </td>\n",
       "                        <td style=\"text-align: left;\">\n",
       "                            <strong>Memory: </strong> 1.97 GiB\n",
       "                        </td>\n",
       "                    </tr>\n",
       "                    <tr>\n",
       "                        <td style=\"text-align: left;\">\n",
       "                            <strong>Nanny: </strong> tcp://127.0.0.1:49390\n",
       "                        </td>\n",
       "                        <td style=\"text-align: left;\"></td>\n",
       "                    </tr>\n",
       "                    <tr>\n",
       "                        <td colspan=\"2\" style=\"text-align: left;\">\n",
       "                            <strong>Local directory: </strong> C:\\Users\\Hans\\Downloads\\2020\\dask-worker-space\\worker-sho0c4nu\n",
       "                        </td>\n",
       "                    </tr>\n",
       "\n",
       "                    \n",
       "\n",
       "                    \n",
       "\n",
       "                </table>\n",
       "            </details>\n",
       "            </div>\n",
       "        </div>\n",
       "        \n",
       "        <div style=\"margin-bottom: 20px;\">\n",
       "            <div style=\"width: 24px; height: 24px; background-color: #DBF5FF; border: 3px solid #4CC9FF; border-radius: 5px; position: absolute;\"> </div>\n",
       "            <div style=\"margin-left: 48px;\">\n",
       "            <details>\n",
       "                <summary>\n",
       "                    <h4 style=\"margin-bottom: 0px; display: inline;\">Worker: 2</h4>\n",
       "                </summary>\n",
       "                <table style=\"width: 100%; text-align: left;\">\n",
       "                    <tr>\n",
       "                        <td style=\"text-align: left;\">\n",
       "                            <strong>Comm: </strong> tcp://127.0.0.1:49422\n",
       "                        </td>\n",
       "                        <td style=\"text-align: left;\">\n",
       "                            <strong>Total threads: </strong> 2\n",
       "                        </td>\n",
       "                    </tr>\n",
       "                    <tr>\n",
       "                        <td style=\"text-align: left;\">\n",
       "                            <strong>Dashboard: </strong> <a href=\"http://127.0.0.1:49424/status\" target=\"_blank\">http://127.0.0.1:49424/status</a>\n",
       "                        </td>\n",
       "                        <td style=\"text-align: left;\">\n",
       "                            <strong>Memory: </strong> 1.97 GiB\n",
       "                        </td>\n",
       "                    </tr>\n",
       "                    <tr>\n",
       "                        <td style=\"text-align: left;\">\n",
       "                            <strong>Nanny: </strong> tcp://127.0.0.1:49391\n",
       "                        </td>\n",
       "                        <td style=\"text-align: left;\"></td>\n",
       "                    </tr>\n",
       "                    <tr>\n",
       "                        <td colspan=\"2\" style=\"text-align: left;\">\n",
       "                            <strong>Local directory: </strong> C:\\Users\\Hans\\Downloads\\2020\\dask-worker-space\\worker-jofd_ks_\n",
       "                        </td>\n",
       "                    </tr>\n",
       "\n",
       "                    \n",
       "\n",
       "                    \n",
       "\n",
       "                </table>\n",
       "            </details>\n",
       "            </div>\n",
       "        </div>\n",
       "        \n",
       "        <div style=\"margin-bottom: 20px;\">\n",
       "            <div style=\"width: 24px; height: 24px; background-color: #DBF5FF; border: 3px solid #4CC9FF; border-radius: 5px; position: absolute;\"> </div>\n",
       "            <div style=\"margin-left: 48px;\">\n",
       "            <details>\n",
       "                <summary>\n",
       "                    <h4 style=\"margin-bottom: 0px; display: inline;\">Worker: 3</h4>\n",
       "                </summary>\n",
       "                <table style=\"width: 100%; text-align: left;\">\n",
       "                    <tr>\n",
       "                        <td style=\"text-align: left;\">\n",
       "                            <strong>Comm: </strong> tcp://127.0.0.1:49417\n",
       "                        </td>\n",
       "                        <td style=\"text-align: left;\">\n",
       "                            <strong>Total threads: </strong> 2\n",
       "                        </td>\n",
       "                    </tr>\n",
       "                    <tr>\n",
       "                        <td style=\"text-align: left;\">\n",
       "                            <strong>Dashboard: </strong> <a href=\"http://127.0.0.1:49418/status\" target=\"_blank\">http://127.0.0.1:49418/status</a>\n",
       "                        </td>\n",
       "                        <td style=\"text-align: left;\">\n",
       "                            <strong>Memory: </strong> 1.97 GiB\n",
       "                        </td>\n",
       "                    </tr>\n",
       "                    <tr>\n",
       "                        <td style=\"text-align: left;\">\n",
       "                            <strong>Nanny: </strong> tcp://127.0.0.1:49393\n",
       "                        </td>\n",
       "                        <td style=\"text-align: left;\"></td>\n",
       "                    </tr>\n",
       "                    <tr>\n",
       "                        <td colspan=\"2\" style=\"text-align: left;\">\n",
       "                            <strong>Local directory: </strong> C:\\Users\\Hans\\Downloads\\2020\\dask-worker-space\\worker-ip4l38uj\n",
       "                        </td>\n",
       "                    </tr>\n",
       "\n",
       "                    \n",
       "\n",
       "                    \n",
       "\n",
       "                </table>\n",
       "            </details>\n",
       "            </div>\n",
       "        </div>\n",
       "        \n",
       "\n",
       "    </details>\n",
       "</div>\n",
       "\n",
       "        </details>\n",
       "    </div>\n",
       "</div>\n",
       "            </details>\n",
       "        \n",
       "\n",
       "    </div>\n",
       "</div>"
      ],
      "text/plain": [
       "<Client: 'tcp://127.0.0.1:49387' processes=4 threads=8, memory=7.88 GiB>"
      ]
     },
     "execution_count": 2,
     "metadata": {},
     "output_type": "execute_result"
    }
   ],
   "source": [
    "cluster=LocalCluster()\n",
    "client=Client(cluster)\n",
    "client"
   ]
  },
  {
   "cell_type": "markdown",
   "id": "4084b0dc",
   "metadata": {},
   "source": [
    "### a.\tEjercicio de ETL: Usar Dask Dataframes para cargar la(s) base(s) de datos que se utilizará(n) y presentar lo siguiente:"
   ]
  },
  {
   "cell_type": "code",
   "execution_count": 19,
   "id": "bf5015b1",
   "metadata": {
    "scrolled": true
   },
   "outputs": [
    {
     "name": "stderr",
     "output_type": "stream",
     "text": [
      "C:\\Users\\Hans\\anaconda3\\lib\\site-packages\\pandas\\io\\stata.py:1457: UnicodeWarning: \n",
      "One or more strings in the dta file could not be decoded using utf-8, and\n",
      "so the fallback encoding of latin-1 is being used.  This can happen when a file\n",
      "has been incorrectly encoded by Stata or some other software. You should verify\n",
      "the string values returned are correct.\n",
      "  warnings.warn(msg, UnicodeWarning)\n"
     ]
    },
    {
     "data": {
      "text/plain": [
       "count    29835.00000\n",
       "mean        97.23640\n",
       "std        190.36844\n",
       "min          1.00000\n",
       "25%         12.00000\n",
       "50%         28.00000\n",
       "75%         73.00000\n",
       "max       2620.00000\n",
       "Name: N_matriculados, dtype: float64"
      ]
     },
     "execution_count": 19,
     "metadata": {},
     "output_type": "execute_result"
    }
   ],
   "source": [
    "#Importado con pandas\n",
    "datos = pd.read_stata(r'C:\\Users\\Hans\\Downloads\\2020\\100. Dta\\Data Matriz Matriculados.dta')\n",
    "#transforme con dask\n",
    "datos_dd=dd.from_pandas(datos, npartitions=1)\n",
    "datos_dd['N_matriculados'].describe().compute()"
   ]
  },
  {
   "cell_type": "code",
   "execution_count": 20,
   "id": "2c35a431",
   "metadata": {},
   "outputs": [
    {
     "data": {
      "text/plain": [
       "Index(['COD_MOD', 'ANEXO', 'CODLOCAL', 'CEN_EDU', 'NIV_MOD', 'D_NIV_MOD',\n",
       "       'COD_CAR', 'D_COD_CAR', 'FORMA', 'D_FORMA', 'TIPOPROG', 'D_TIPOPROG',\n",
       "       'GESTION', 'D_GESTION', 'GES_DEP', 'D_GES_DEP', 'TIPSSEXO',\n",
       "       'D_TIPSSEXO', 'COD_TUR', 'D_COD_TUR', 'DIRECTOR', 'TELEFONO', 'EMAIL',\n",
       "       'PAGWEB', 'FECHAREG', 'FECHA_ACT', 'DIRECCI_N', 'LOCALIDAD',\n",
       "       'REFERENCIA', 'CODGEO', 'DPTO', 'PROV', 'DIST', 'CODOOII', 'DRE_UGEL',\n",
       "       'REGION_EDU', 'CODCP_INEI', 'CODCP_MED', 'CEN_POB', 'DAREAMED',\n",
       "       'AREA_MED', 'DIS_VRAEM', 'DIS_FRONT', 'REGION_NAT', 'NLAT_IE',\n",
       "       'NLONG_IE', 'ALTITUD', 'IMPUTADO', 'N_matriculados', 'N_Docentes',\n",
       "       'N_recursos', 'rural', 'sierra', 'selva', 'polidocente_multi',\n",
       "       'polidocente_completo'],\n",
       "      dtype='object')"
      ]
     },
     "execution_count": 20,
     "metadata": {},
     "output_type": "execute_result"
    }
   ],
   "source": [
    "datos_dd.columns"
   ]
  },
  {
   "cell_type": "markdown",
   "id": "0ea518d6",
   "metadata": {},
   "source": [
    "##### - Creación de por lo menos dos variables "
   ]
  },
  {
   "cell_type": "code",
   "execution_count": 21,
   "id": "55e7c2e0",
   "metadata": {},
   "outputs": [],
   "source": [
    "datos_dd['Docentes x alumno']=datos_dd['N_matriculados']/datos_dd['N_Docentes']\n",
    "#Carlos, agregale variables"
   ]
  },
  {
   "cell_type": "markdown",
   "id": "43aff692",
   "metadata": {},
   "source": [
    "#####  - Por lo menos dos estadísticos descriptivos que vayan en línea con el tema y argumento. Explíquelos"
   ]
  },
  {
   "cell_type": "code",
   "execution_count": null,
   "id": "2ddd3a4a",
   "metadata": {},
   "outputs": [],
   "source": []
  },
  {
   "cell_type": "markdown",
   "id": "80d1138c",
   "metadata": {},
   "source": [
    "##### - Por lo menos dos gráficos que vayan en línea con el tema y argumento."
   ]
  },
  {
   "cell_type": "code",
   "execution_count": null,
   "id": "74381c82",
   "metadata": {},
   "outputs": [],
   "source": []
  },
  {
   "cell_type": "markdown",
   "id": "d93c9bdc",
   "metadata": {},
   "source": [
    "### b.\tImplementación de Machine Learning: Utilice Dask para entrenar por lo menos un modelo de Machine Learning supervisado. Este acápite debe contener, por lo menos, los siguientes elementos:"
   ]
  },
  {
   "cell_type": "markdown",
   "id": "d523e5c9",
   "metadata": {},
   "source": [
    "##### - Definición de predictores (X) y vector de target (y)"
   ]
  },
  {
   "cell_type": "code",
   "execution_count": 25,
   "id": "b0dc4153",
   "metadata": {},
   "outputs": [],
   "source": [
    "X=datos_dd[['N_Docentes', 'N_recursos', 'rural', 'sierra', 'selva', 'polidocente_multi', 'polidocente_completo', 'Docentes x alumno', 'ALTITUD', 'NLAT_IE', 'NLONG_IE']]\n",
    "y=datos_dd['N_matriculados' ]\n"
   ]
  },
  {
   "cell_type": "markdown",
   "id": "426f2d23",
   "metadata": {},
   "source": [
    "##### - Train-test splitting "
   ]
  },
  {
   "cell_type": "code",
   "execution_count": 28,
   "id": "e9a78d61",
   "metadata": {
    "scrolled": true
   },
   "outputs": [
    {
     "data": {
      "text/html": [
       "<div><strong>Dask DataFrame Structure:</strong></div>\n",
       "<div>\n",
       "<style scoped>\n",
       "    .dataframe tbody tr th:only-of-type {\n",
       "        vertical-align: middle;\n",
       "    }\n",
       "\n",
       "    .dataframe tbody tr th {\n",
       "        vertical-align: top;\n",
       "    }\n",
       "\n",
       "    .dataframe thead th {\n",
       "        text-align: right;\n",
       "    }\n",
       "</style>\n",
       "<table border=\"1\" class=\"dataframe\">\n",
       "  <thead>\n",
       "    <tr style=\"text-align: right;\">\n",
       "      <th></th>\n",
       "      <th>N_Docentes</th>\n",
       "      <th>N_recursos</th>\n",
       "      <th>rural</th>\n",
       "      <th>sierra</th>\n",
       "      <th>selva</th>\n",
       "      <th>polidocente_multi</th>\n",
       "      <th>polidocente_completo</th>\n",
       "      <th>Docentes x alumno</th>\n",
       "      <th>ALTITUD</th>\n",
       "      <th>NLAT_IE</th>\n",
       "      <th>NLONG_IE</th>\n",
       "    </tr>\n",
       "    <tr>\n",
       "      <th>npartitions=1</th>\n",
       "      <th></th>\n",
       "      <th></th>\n",
       "      <th></th>\n",
       "      <th></th>\n",
       "      <th></th>\n",
       "      <th></th>\n",
       "      <th></th>\n",
       "      <th></th>\n",
       "      <th></th>\n",
       "      <th></th>\n",
       "      <th></th>\n",
       "    </tr>\n",
       "  </thead>\n",
       "  <tbody>\n",
       "    <tr>\n",
       "      <th>0</th>\n",
       "      <td>float64</td>\n",
       "      <td>float64</td>\n",
       "      <td>float32</td>\n",
       "      <td>float32</td>\n",
       "      <td>float32</td>\n",
       "      <td>float32</td>\n",
       "      <td>float32</td>\n",
       "      <td>float64</td>\n",
       "      <td>int16</td>\n",
       "      <td>float64</td>\n",
       "      <td>float64</td>\n",
       "    </tr>\n",
       "    <tr>\n",
       "      <th>29834</th>\n",
       "      <td>...</td>\n",
       "      <td>...</td>\n",
       "      <td>...</td>\n",
       "      <td>...</td>\n",
       "      <td>...</td>\n",
       "      <td>...</td>\n",
       "      <td>...</td>\n",
       "      <td>...</td>\n",
       "      <td>...</td>\n",
       "      <td>...</td>\n",
       "      <td>...</td>\n",
       "    </tr>\n",
       "  </tbody>\n",
       "</table>\n",
       "</div>\n",
       "<div>Dask Name: split, 8 tasks</div>"
      ],
      "text/plain": [
       "Dask DataFrame Structure:\n",
       "              N_Docentes N_recursos    rural   sierra    selva polidocente_multi polidocente_completo Docentes x alumno ALTITUD  NLAT_IE NLONG_IE\n",
       "npartitions=1                                                                                                                                    \n",
       "0                float64    float64  float32  float32  float32           float32              float32           float64   int16  float64  float64\n",
       "29834                ...        ...      ...      ...      ...               ...                  ...               ...     ...      ...      ...\n",
       "Dask Name: split, 8 tasks"
      ]
     },
     "execution_count": 28,
     "metadata": {},
     "output_type": "execute_result"
    }
   ],
   "source": [
    "X_train, X_test, y_train,y_test=train_test_split(X,y,test_size=0.25,random_state=0)"
   ]
  },
  {
   "cell_type": "code",
   "execution_count": 29,
   "id": "0e4fcafa",
   "metadata": {},
   "outputs": [],
   "source": [
    "X_train_arr=X_train.to_dask_array(lengths=True)\n",
    "X_test_arr=X_test.to_dask_array(lengths=True)\n",
    "y_train_arr=y_train.to_dask_array(lengths=True)\n",
    "y_test_arr=y_test.to_dask_array(lengths=True)"
   ]
  },
  {
   "cell_type": "code",
   "execution_count": 30,
   "id": "dc814aba",
   "metadata": {},
   "outputs": [],
   "source": [
    "lr = Pipeline(steps=[\n",
    "    ('scale', StandardScaler()),\n",
    "    ('clf', LinearRegression(penalty='l2', max_iter=100)),\n",
    "])"
   ]
  },
  {
   "cell_type": "markdown",
   "id": "bc9b931b",
   "metadata": {},
   "source": [
    "##### - Cross-Validation\n",
    "##### - GridSearch"
   ]
  },
  {
   "cell_type": "code",
   "execution_count": 31,
   "id": "e15850f2",
   "metadata": {},
   "outputs": [],
   "source": [
    "from sklearn.model_selection import GridSearchCV\n",
    "#from dask_ml.model_selection import GridSearchCV"
   ]
  },
  {
   "cell_type": "code",
   "execution_count": 11,
   "id": "262037d1",
   "metadata": {},
   "outputs": [],
   "source": [
    "#lr.get_params()"
   ]
  },
  {
   "cell_type": "code",
   "execution_count": 12,
   "id": "c475854c",
   "metadata": {},
   "outputs": [],
   "source": [
    "#help(GridSearchCV)"
   ]
  },
  {
   "cell_type": "code",
   "execution_count": 32,
   "id": "a3d6be70",
   "metadata": {},
   "outputs": [],
   "source": [
    "parametros={\n",
    "   'clf__penalty': ['l1','l2']\n",
    "}"
   ]
  },
  {
   "cell_type": "code",
   "execution_count": 33,
   "id": "9476bec0",
   "metadata": {},
   "outputs": [],
   "source": [
    "model=GridSearchCV(lr,parametros, cv=5)"
   ]
  },
  {
   "cell_type": "markdown",
   "id": "ccf9d0bc",
   "metadata": {},
   "source": [
    "##### - Model fit y selección del modelo óptimo "
   ]
  },
  {
   "cell_type": "code",
   "execution_count": 34,
   "id": "90c1d3e7",
   "metadata": {},
   "outputs": [
    {
     "name": "stdout",
     "output_type": "stream",
     "text": [
      "Wall time: 1min 17s\n"
     ]
    }
   ],
   "source": [
    "%%time\n",
    "with joblib.parallel_backend('dask'):\n",
    "    model.fit(X_train_arr, y_train_arr)"
   ]
  },
  {
   "cell_type": "code",
   "execution_count": 16,
   "id": "712c1672",
   "metadata": {},
   "outputs": [],
   "source": [
    "#%%time\n",
    "#model.fit(X_train_arr, y_train_arr)"
   ]
  },
  {
   "cell_type": "markdown",
   "id": "9e0a5554",
   "metadata": {},
   "source": [
    "##### - Computo de dos indicadores de la calidad de ajuste en muestra entrenamiento"
   ]
  },
  {
   "cell_type": "code",
   "execution_count": 35,
   "id": "71260fa2",
   "metadata": {},
   "outputs": [
    {
     "name": "stdout",
     "output_type": "stream",
     "text": [
      "33.891563321160426\n",
      "0.9681659371290253\n"
     ]
    }
   ],
   "source": [
    "lr_train=model.predict(X_train_arr)\n",
    "print(mean_squared_error(y_train_arr,lr_train, squared=False))\n",
    "print(r2_score(y_train_arr,lr_train))"
   ]
  },
  {
   "cell_type": "markdown",
   "id": "d45b1c98",
   "metadata": {},
   "source": [
    "##### - Computo de dos indicadores de la calidad de ajuste fuera de la muestra (test)"
   ]
  },
  {
   "cell_type": "code",
   "execution_count": 36,
   "id": "76bf69a1",
   "metadata": {},
   "outputs": [
    {
     "name": "stdout",
     "output_type": "stream",
     "text": [
      "40.266750786424566\n",
      "0.9558252516783223\n"
     ]
    }
   ],
   "source": [
    "lr_preds=model.predict(X_test_arr)\n",
    "print(mean_squared_error(y_test_arr,lr_preds, squared=False))\n",
    "print(r2_score(y_test_arr,lr_preds))"
   ]
  },
  {
   "cell_type": "code",
   "execution_count": null,
   "id": "64b0c9e5",
   "metadata": {},
   "outputs": [],
   "source": []
  }
 ],
 "metadata": {
  "kernelspec": {
   "display_name": "Python 3 (ipykernel)",
   "language": "python",
   "name": "python3"
  },
  "language_info": {
   "codemirror_mode": {
    "name": "ipython",
    "version": 3
   },
   "file_extension": ".py",
   "mimetype": "text/x-python",
   "name": "python",
   "nbconvert_exporter": "python",
   "pygments_lexer": "ipython3",
   "version": "3.9.7"
  }
 },
 "nbformat": 4,
 "nbformat_minor": 5
}
