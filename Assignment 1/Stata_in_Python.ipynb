{
 "cells": [
  {
   "cell_type": "markdown",
   "id": "49d09f1a",
   "metadata": {},
   "source": [
    "# Open Stata from Python + Jupyter Notebooks"
   ]
  },
  {
   "cell_type": "markdown",
   "id": "f7ae516d",
   "metadata": {
    "tags": []
   },
   "source": [
    "## The following code is for Stata verions < 17. The (now) most recent 17 version makes it easier by using PyStata: https://www.stata.com/stata-news/news36-3/pystata-and-jupyter-notebook/ \n",
    "\n",
    "#### Author: Angelo Cozzubo\n",
    "#### Date creation: Jan28th, 2022\n",
    "#### Last update: Jan28th, 2022"
   ]
  },
  {
   "cell_type": "code",
   "execution_count": 1,
   "id": "4dcaed88",
   "metadata": {
    "scrolled": true
   },
   "outputs": [
    {
     "name": "stdout",
     "output_type": "stream",
     "text": [
      "Requirement already satisfied: ipystata in c:\\programdata\\anaconda3\\lib\\site-packages (0.3.8)\n"
     ]
    }
   ],
   "source": [
    "!pip install ipystata"
   ]
  },
  {
   "cell_type": "code",
   "execution_count": 80,
   "id": "897970e1",
   "metadata": {},
   "outputs": [],
   "source": [
    "import ipystata\n",
    "import pandas as pd \n",
    "import math"
   ]
  },
  {
   "cell_type": "markdown",
   "id": "611b169e",
   "metadata": {},
   "source": [
    "## 0. Make sure Stata works\n",
    "### More help here: https://github.com/TiesdeKok/ipystata "
   ]
  },
  {
   "cell_type": "code",
   "execution_count": 3,
   "id": "20efe86c",
   "metadata": {
    "scrolled": true
   },
   "outputs": [
    {
     "name": "stdout",
     "output_type": "stream",
     "text": [
      "\n",
      "Hello, I am printed by Stata.\n",
      "\n"
     ]
    }
   ],
   "source": [
    "%%stata\n",
    "display \"Hello, I am printed by Stata.\""
   ]
  },
  {
   "cell_type": "markdown",
   "id": "f071a2a7",
   "metadata": {},
   "source": [
    "# 1. Load sample data"
   ]
  },
  {
   "cell_type": "code",
   "execution_count": 4,
   "id": "a6253dbe",
   "metadata": {
    "scrolled": true
   },
   "outputs": [
    {
     "name": "stdout",
     "output_type": "stream",
     "text": [
      "(1978 Automobile Data)\n",
      "\n"
     ]
    }
   ],
   "source": [
    "%%stata -o car_df\n",
    "sysuse auto.dta, clear "
   ]
  },
  {
   "cell_type": "markdown",
   "id": "f3807c97",
   "metadata": {},
   "source": [
    "# 2. Stata commands"
   ]
  },
  {
   "cell_type": "code",
   "execution_count": 5,
   "id": "44b31cc2",
   "metadata": {},
   "outputs": [
    {
     "name": "stdout",
     "output_type": "stream",
     "text": [
      "\n",
      "           |                                   headroom\n",
      "   foreign |       1.5          2        2.5          3        3.5          4        4.5 |     Total\n",
      "-----------+-----------------------------------------------------------------------------+----------\n",
      "  Domestic |         3         10          4          7         13         10          4 |        52 \n",
      "   Foreign |         1          3         10          6          2          0          0 |        22 \n",
      "-----------+-----------------------------------------------------------------------------+----------\n",
      "     Total |         4         13         14         13         15         10          4 |        74 \n",
      "\n",
      "           |  headroom\n",
      "   foreign |         5 |     Total\n",
      "-----------+-----------+----------\n",
      "  Domestic |         1 |        52 \n",
      "   Foreign |         0 |        22 \n",
      "-----------+-----------+----------\n",
      "     Total |         1 |        74 \n",
      "\n"
     ]
    }
   ],
   "source": [
    "%%stata -d car_df\n",
    "tabulate foreign headroom"
   ]
  },
  {
   "cell_type": "markdown",
   "id": "d7264748",
   "metadata": {},
   "source": [
    "# 3. Pandas command"
   ]
  },
  {
   "cell_type": "code",
   "execution_count": 6,
   "id": "1a83dbc3",
   "metadata": {},
   "outputs": [
    {
     "data": {
      "text/html": [
       "<div>\n",
       "<style scoped>\n",
       "    .dataframe tbody tr th:only-of-type {\n",
       "        vertical-align: middle;\n",
       "    }\n",
       "\n",
       "    .dataframe tbody tr th {\n",
       "        vertical-align: top;\n",
       "    }\n",
       "\n",
       "    .dataframe thead th {\n",
       "        text-align: right;\n",
       "    }\n",
       "</style>\n",
       "<table border=\"1\" class=\"dataframe\">\n",
       "  <thead>\n",
       "    <tr style=\"text-align: right;\">\n",
       "      <th></th>\n",
       "      <th>make</th>\n",
       "      <th>price</th>\n",
       "      <th>mpg</th>\n",
       "      <th>rep78</th>\n",
       "      <th>headroom</th>\n",
       "      <th>trunk</th>\n",
       "      <th>weight</th>\n",
       "      <th>length</th>\n",
       "      <th>turn</th>\n",
       "      <th>displacement</th>\n",
       "      <th>gear_ratio</th>\n",
       "      <th>foreign</th>\n",
       "    </tr>\n",
       "  </thead>\n",
       "  <tbody>\n",
       "    <tr>\n",
       "      <th>0</th>\n",
       "      <td>AMC Concord</td>\n",
       "      <td>4099</td>\n",
       "      <td>22</td>\n",
       "      <td>3.0</td>\n",
       "      <td>2.5</td>\n",
       "      <td>11</td>\n",
       "      <td>2930</td>\n",
       "      <td>186</td>\n",
       "      <td>40</td>\n",
       "      <td>121</td>\n",
       "      <td>3.58</td>\n",
       "      <td>Domestic</td>\n",
       "    </tr>\n",
       "    <tr>\n",
       "      <th>1</th>\n",
       "      <td>AMC Pacer</td>\n",
       "      <td>4749</td>\n",
       "      <td>17</td>\n",
       "      <td>3.0</td>\n",
       "      <td>3.0</td>\n",
       "      <td>11</td>\n",
       "      <td>3350</td>\n",
       "      <td>173</td>\n",
       "      <td>40</td>\n",
       "      <td>258</td>\n",
       "      <td>2.53</td>\n",
       "      <td>Domestic</td>\n",
       "    </tr>\n",
       "    <tr>\n",
       "      <th>2</th>\n",
       "      <td>AMC Spirit</td>\n",
       "      <td>3799</td>\n",
       "      <td>22</td>\n",
       "      <td>NaN</td>\n",
       "      <td>3.0</td>\n",
       "      <td>12</td>\n",
       "      <td>2640</td>\n",
       "      <td>168</td>\n",
       "      <td>35</td>\n",
       "      <td>121</td>\n",
       "      <td>3.08</td>\n",
       "      <td>Domestic</td>\n",
       "    </tr>\n",
       "    <tr>\n",
       "      <th>3</th>\n",
       "      <td>Buick Century</td>\n",
       "      <td>4816</td>\n",
       "      <td>20</td>\n",
       "      <td>3.0</td>\n",
       "      <td>4.5</td>\n",
       "      <td>16</td>\n",
       "      <td>3250</td>\n",
       "      <td>196</td>\n",
       "      <td>40</td>\n",
       "      <td>196</td>\n",
       "      <td>2.93</td>\n",
       "      <td>Domestic</td>\n",
       "    </tr>\n",
       "    <tr>\n",
       "      <th>4</th>\n",
       "      <td>Buick Electra</td>\n",
       "      <td>7827</td>\n",
       "      <td>15</td>\n",
       "      <td>4.0</td>\n",
       "      <td>4.0</td>\n",
       "      <td>20</td>\n",
       "      <td>4080</td>\n",
       "      <td>222</td>\n",
       "      <td>43</td>\n",
       "      <td>350</td>\n",
       "      <td>2.41</td>\n",
       "      <td>Domestic</td>\n",
       "    </tr>\n",
       "  </tbody>\n",
       "</table>\n",
       "</div>"
      ],
      "text/plain": [
       "            make  price  mpg  rep78  headroom  trunk  weight  length  turn  \\\n",
       "0    AMC Concord   4099   22    3.0       2.5     11    2930     186    40   \n",
       "1      AMC Pacer   4749   17    3.0       3.0     11    3350     173    40   \n",
       "2     AMC Spirit   3799   22    NaN       3.0     12    2640     168    35   \n",
       "3  Buick Century   4816   20    3.0       4.5     16    3250     196    40   \n",
       "4  Buick Electra   7827   15    4.0       4.0     20    4080     222    43   \n",
       "\n",
       "   displacement  gear_ratio   foreign  \n",
       "0           121        3.58  Domestic  \n",
       "1           258        2.53  Domestic  \n",
       "2           121        3.08  Domestic  \n",
       "3           196        2.93  Domestic  \n",
       "4           350        2.41  Domestic  "
      ]
     },
     "execution_count": 6,
     "metadata": {},
     "output_type": "execute_result"
    }
   ],
   "source": [
    "car_df.head()"
   ]
  },
  {
   "cell_type": "code",
   "execution_count": null,
   "id": "7c215818",
   "metadata": {},
   "outputs": [],
   "source": []
  },
  {
   "cell_type": "markdown",
   "id": "4a862e80",
   "metadata": {},
   "source": [
    "# Tarea 1 – Teoría de Muestreo"
   ]
  },
  {
   "cell_type": "markdown",
   "id": "420a1fc5",
   "metadata": {},
   "source": [
    "### Parte I\n",
    "#### 1. Indique a qué enfoque (diseño o modelo) corresponde cada una de las siguientes características:"
   ]
  },
  {
   "cell_type": "markdown",
   "id": "233ace16",
   "metadata": {},
   "source": [
    "a.\tAsume población finita: <div style=\"text-align: center\"> </br>Enfoque basado en el diseño </br> </div> \n",
    "b.\tAsume que la variable objetivo es aleatoria: <div style=\"text-align: center\"> </br> Enfoque basado en el modelo </br> </div> \n",
    "c.\tAsume un proceso generador de datos: <div style=\"text-align: center\"> </br> Enfoque basado en el modelo </br> </div> \n",
    "d.\tAsume que el componente aleatorio viene de cómo seleccionamos las observaciones: <div style=\"text-align: center\"> </br> Enfoque basado en el diseño </br> </div> "
   ]
  },
  {
   "cell_type": "markdown",
   "id": "95869e4d",
   "metadata": {},
   "source": [
    "#### 2.\tResponda dos de las siguientes preguntas. La respuesta a cada pregunta no debe pasar de 75 palabras."
   ]
  },
  {
   "cell_type": "markdown",
   "id": "b3527478",
   "metadata": {},
   "source": [
    "##### a. ¿Qué esperaría que suceda con el error estándar de la media de una variable conforme se toman muestras de mayor tamaño?"
   ]
  },
  {
   "cell_type": "markdown",
   "id": "3f444236",
   "metadata": {},
   "source": [
    "A medida que se toman muestras de mayor tamaño, se espera que el error estándar de la media de una variable se reduzca. Esto se relacionaría con la ley de los grandes números, la cual indica que a medida que el tamaño de la muestra se acerca a la poblacional, el valor de la media estimada tambien se acerca al valor de la media poblacional."
   ]
  },
  {
   "cell_type": "markdown",
   "id": "0593870f",
   "metadata": {},
   "source": [
    "##### c. ¿Qué es el factor de expansión y cómo se construye?"
   ]
  },
  {
   "cell_type": "markdown",
   "id": "6b05dcba",
   "metadata": {},
   "source": [
    "El factor de expansión indica cuantos individuos de la población representa un individuo de la muestra extraida, por lo cual también son denominados pesos muestrales. Esta se construye como la inversa de la probabilidad de selección, la cual puede ser corregida por tasas de no respuesta, calibración, posestratificactón, etc."
   ]
  },
  {
   "cell_type": "markdown",
   "id": "ce5aa974",
   "metadata": {},
   "source": [
    "### Parte II\n",
    "#### Utilizando la base de datos del CENAGRO que ha sido colgada en paideia, realizar los siguientes ejercicios:\n",
    "\n"
   ]
  },
  {
   "cell_type": "code",
   "execution_count": 119,
   "id": "d83651bd",
   "metadata": {},
   "outputs": [],
   "source": [
    "import ipystata\n",
    "import pandas as pd\n",
    "import math"
   ]
  },
  {
   "cell_type": "code",
   "execution_count": 106,
   "id": "93104249",
   "metadata": {},
   "outputs": [
    {
     "name": "stderr",
     "output_type": "stream",
     "text": [
      "C:\\Users\\haguirre\\Anaconda3\\lib\\site-packages\\pandas\\io\\stata.py:1457: UnicodeWarning: \n",
      "One or more strings in the dta file could not be decoded using utf-8, and\n",
      "so the fallback encoding of latin-1 is being used.  This can happen when a file\n",
      "has been incorrectly encoded by Stata or some other software. You should verify\n",
      "the string values returned are correct.\n",
      "  warnings.warn(msg, UnicodeWarning)\n"
     ]
    }
   ],
   "source": [
    "%%stata -o Cenagro_df\n",
    "use \"C:\\Users\\haguirre\\Documents\\GitHub\\Big-Data-Pucp\\Assignment 1\\cenagro2012_mod.dta\", clear"
   ]
  },
  {
   "cell_type": "markdown",
   "id": "a54d1029",
   "metadata": {},
   "source": [
    "#### 1.\tCalcular las siguientes variables: \n"
   ]
  },
  {
   "cell_type": "markdown",
   "id": "6b21fbd4",
   "metadata": {},
   "source": [
    "1.1.\tUna variable categórica que identifique los siguientes grupos etarios: de 12 a 24 inclusive, de 25 a 64 inclusive, de 65 a más. Llamar a esta variable “rango_edad”."
   ]
  },
  {
   "cell_type": "code",
   "execution_count": 107,
   "id": "3b8f6538",
   "metadata": {},
   "outputs": [],
   "source": [
    "%%stata\n",
    "gen rango_edad=0 if edad>=12 & edad<=24\n",
    "replace rango_edad=1 if edad>=25 & edad<=64\n",
    "replace rango_edad=2 if edad>=65\n",
    "\n",
    "label define rangos 0 \"[12-24]\" 1 \"[25-64]\" 2 \"[>65]\"\n",
    "label values rango_edad rangos"
   ]
  },
  {
   "cell_type": "markdown",
   "id": "d31ae69b",
   "metadata": {},
   "source": [
    "1.2.\tUna variable dicotómica que identifique a las Unidades Agropecuarias (UAs) que son dirigidas por personas cuya lengua materna es el quechua. Llamar a esta variable “ppquechua”."
   ]
  },
  {
   "cell_type": "code",
   "execution_count": 108,
   "id": "c3d5a560",
   "metadata": {},
   "outputs": [],
   "source": [
    "%%stata\n",
    "gen ppquechua=(lengua<=1)\n",
    "label define Lengua 0 \"No quechua\" 1 \"Quechua\"\n",
    "label values ppquechua Lengua"
   ]
  },
  {
   "cell_type": "markdown",
   "id": "3247316d",
   "metadata": {},
   "source": [
    "#### 2.\tEstablecer una semilla (“seed”) usando los dígitos del cumpleaños de alguno de los miembros de la pareja."
   ]
  },
  {
   "cell_type": "code",
   "execution_count": 109,
   "id": "bf3f7f6e",
   "metadata": {},
   "outputs": [],
   "source": [
    "%%stata\n",
    "set seed 2702"
   ]
  },
  {
   "cell_type": "markdown",
   "id": "ccc75878",
   "metadata": {},
   "source": [
    "#### 3.\tExtraer una Muestra Aleatoria Simple (MAS) de 2247 observaciones de la población total (base completa). Con esta muestra, utilizar la variable “sup_total” y obtener los siguientes estadísticos."
   ]
  },
  {
   "cell_type": "markdown",
   "id": "5a862384",
   "metadata": {},
   "source": [
    "Extraemos una MAS de 2247 observaciones de la base completa"
   ]
  },
  {
   "cell_type": "code",
   "execution_count": 110,
   "id": "1e17a26d",
   "metadata": {},
   "outputs": [],
   "source": [
    "%%stata\n",
    "preserve\n",
    "sample 2247, count\n",
    "total sup_total\n",
    "mean sup_total\n",
    "sum sup_total, d\n",
    "restore"
   ]
  },
  {
   "cell_type": "markdown",
   "id": "76f31b93",
   "metadata": {},
   "source": [
    "3.1. La suma de todos los valores"
   ]
  },
  {
   "cell_type": "code",
   "execution_count": 111,
   "id": "8c27a98e",
   "metadata": {},
   "outputs": [
    {
     "name": "stdout",
     "output_type": "stream",
     "text": [
      "La suma total es 14822.43\n"
     ]
    }
   ],
   "source": [
    "print ( \"La suma total es 14822.43\" )"
   ]
  },
  {
   "cell_type": "markdown",
   "id": "cba31377",
   "metadata": {},
   "source": [
    "3.2. La media"
   ]
  },
  {
   "cell_type": "code",
   "execution_count": 112,
   "id": "63d0feba",
   "metadata": {},
   "outputs": [
    {
     "name": "stdout",
     "output_type": "stream",
     "text": [
      "La media es 6.596541\n"
     ]
    }
   ],
   "source": [
    "mean = 6.596541\n",
    "print ( f\"La media es {mean}\" )"
   ]
  },
  {
   "cell_type": "markdown",
   "id": "da8a9b36",
   "metadata": {},
   "source": [
    "3.3. La fracción muestral"
   ]
  },
  {
   "cell_type": "code",
   "execution_count": 113,
   "id": "417a2373",
   "metadata": {},
   "outputs": [
    {
     "name": "stdout",
     "output_type": "stream",
     "text": [
      "La fracción muestral es 0.0010001326388635432\n"
     ]
    }
   ],
   "source": [
    "N = Cenagro_df['sup_total'].count()\n",
    "n = 2247\n",
    "frac_m = n/N\n",
    "print( f'La fracción muestral es {frac_m}')"
   ]
  },
  {
   "cell_type": "markdown",
   "id": "9ca5ec64",
   "metadata": {},
   "source": [
    "3.4. La corrección de población finita (fpc)"
   ]
  },
  {
   "cell_type": "code",
   "execution_count": 114,
   "id": "7206c7c8",
   "metadata": {},
   "outputs": [
    {
     "name": "stdout",
     "output_type": "stream",
     "text": [
      "El factor de corrección de población finita es 0.9989998673611364\n"
     ]
    }
   ],
   "source": [
    "fpc = 1 - frac_m\n",
    "print( f'El factor de corrección de población finita es {fpc}')"
   ]
  },
  {
   "cell_type": "markdown",
   "id": "ed7ad934",
   "metadata": {},
   "source": [
    "3.5. La suma de desviaciones al cuadrado"
   ]
  },
  {
   "cell_type": "code",
   "execution_count": 115,
   "id": "eaf49158",
   "metadata": {},
   "outputs": [
    {
     "name": "stdout",
     "output_type": "stream",
     "text": [
      "La suma de las desviaciones al cuadrado es 3254759.456\n"
     ]
    }
   ],
   "source": [
    "var_muestra = 1449.136\n",
    "sum_desv = var_muestra*(n - 1)\n",
    "print( f'La suma de las desviaciones al cuadrado es {sum_desv}')"
   ]
  },
  {
   "cell_type": "markdown",
   "id": "a0a6266d",
   "metadata": {},
   "source": [
    "3.6. La varianza de la muestra"
   ]
  },
  {
   "cell_type": "code",
   "execution_count": 116,
   "id": "d3aa9b4e",
   "metadata": {},
   "outputs": [
    {
     "name": "stdout",
     "output_type": "stream",
     "text": [
      "La varianza de la muestra es 1449.136\n"
     ]
    }
   ],
   "source": [
    "print( f'La varianza de la muestra es {var_muestra}')"
   ]
  },
  {
   "cell_type": "markdown",
   "id": "25a6b5b0",
   "metadata": {},
   "source": [
    "3.7. La varianza muestral de la media"
   ]
  },
  {
   "cell_type": "code",
   "execution_count": 117,
   "id": "00b3a32c",
   "metadata": {},
   "outputs": [
    {
     "name": "stdout",
     "output_type": "stream",
     "text": [
      "La varianza muestral de la media es 0.6442753323490199\n"
     ]
    }
   ],
   "source": [
    "var_muestr_media = fpc*(var_muestra/n)\n",
    "print( f'La varianza muestral de la media es {var_muestr_media}')"
   ]
  },
  {
   "cell_type": "markdown",
   "id": "ce819981",
   "metadata": {},
   "source": [
    "3.8. El error estándar de la media"
   ]
  },
  {
   "cell_type": "code",
   "execution_count": 120,
   "id": "05958a7e",
   "metadata": {},
   "outputs": [
    {
     "name": "stdout",
     "output_type": "stream",
     "text": [
      "El error estándar de la media es 0.8026676350451786\n"
     ]
    }
   ],
   "source": [
    "error_std_mean = math.sqrt(var_muestr_media)\n",
    "print( f'El error estándar de la media es {error_std_mean}')"
   ]
  },
  {
   "cell_type": "markdown",
   "id": "43e8c42f",
   "metadata": {},
   "source": [
    "3.9. El factor de expansión de cada observación"
   ]
  },
  {
   "cell_type": "code",
   "execution_count": 121,
   "id": "3723d1bc",
   "metadata": {},
   "outputs": [
    {
     "name": "stdout",
     "output_type": "stream",
     "text": [
      "El factor de expansión de cada observación es 999.8673787271917, cuya suma equivale a la totalidad de la población censal de unidades agripecuarias, ello debido a que en MAS el factor de expansión de cada observación es la inversa de la probabilidad de selección, que en este caso es la fracción muestral\n"
     ]
    }
   ],
   "source": [
    "fac_pob = 1/frac_m\n",
    "print( f'El factor de expansión de cada observación es {fac_pob}, cuya suma equivale a la totalidad de la población censal de unidades agripecuarias, ello debido a que en MAS el factor de expansión de cada observación es la inversa de la probabilidad de selección, que en este caso es la fracción muestral')"
   ]
  },
  {
   "cell_type": "markdown",
   "id": "ec482a60",
   "metadata": {},
   "source": [
    "#### 4.\tExtraer una Muestra Aleatoria Estratificada (MAE) de 2247 observaciones utilizando la variable “rango_edad” como estrato. Con esta muestra, utilizar la variable “ppquechua” y: "
   ]
  },
  {
   "cell_type": "code",
   "execution_count": 123,
   "id": "0284e74d",
   "metadata": {},
   "outputs": [],
   "source": [
    "%%stata\n",
    "set seed 2702\n",
    "sample 0.1, by(rango_edad)\n",
    "browse"
   ]
  },
  {
   "cell_type": "markdown",
   "id": "71b956d9",
   "metadata": {},
   "source": [
    "4.1.\tObtener los mismos estadísticos de las preguntas 3.1-3.9 según la variable de estratificación (intra estrato)."
   ]
  },
  {
   "cell_type": "code",
   "execution_count": 131,
   "id": "6e4708c3",
   "metadata": {},
   "outputs": [],
   "source": [
    "%%stata\n",
    "global N 2246702\n",
    "\n",
    "egen Suma=total(ppquechua), by(rango_edad)\n",
    "table rango_edad, c(mean Suma)\n",
    "\n",
    "egen Media=mean(ppquechua), by(rango_edad)\n",
    "table rango_edad, c(mean Media)\n",
    "\n",
    "egen n=count(ppquechua), by(rango_edad)\n",
    "table rango_edad, c(mean n)\n",
    "\n",
    "gen f=n/$N\n",
    "table rango_edad, c(mean f)\n",
    "\n",
    "gen fpc=1-f\n",
    "table rango_edad, c(mean fpc)\n",
    "\n",
    "gen varianza=Media*(1-Media)\n",
    "table rango_edad, c(mean varianza)\n",
    "\n",
    "gen varianza_m=(1-f)*(varianza/n)\n",
    "table rango_edad, c(mean varianza_m)\n",
    "\n",
    "gen des_estándar=sqrt(varianza_m)\n",
    "table rango_edad, c(mean des_estándar)\n",
    "\n",
    "*\n",
    "gen fac_pob = 1/f\n",
    "table rango_edad, c(mean fac_pob)\n",
    "browse"
   ]
  },
  {
   "cell_type": "markdown",
   "id": "5ae81ee4",
   "metadata": {},
   "source": [
    "4.2. Declare el diseño muestral y obtenga el promedio de la variable “ppquechua” para toda la muestra utilizando el diseño muestral"
   ]
  },
  {
   "cell_type": "code",
   "execution_count": 129,
   "id": "a2be96f9",
   "metadata": {},
   "outputs": [],
   "source": [
    "%%stata\n",
    "svyset , strata(ppquechua)\n",
    "svy: mean ppquechua"
   ]
  },
  {
   "cell_type": "markdown",
   "id": "09a911d6",
   "metadata": {},
   "source": [
    "4.3.\tDiscuta como pueden utilizarse los resultados obtenidos en 4.1 para poder calcular el promedio de la variable “ppquechua” para toda la muestra."
   ]
  },
  {
   "cell_type": "markdown",
   "id": "ebc7fa1d",
   "metadata": {},
   "source": [
    "Se puede generar el promedio de la "
   ]
  }
 ],
 "metadata": {
  "kernelspec": {
   "display_name": "Python 3 (ipykernel)",
   "language": "python",
   "name": "python3"
  },
  "language_info": {
   "codemirror_mode": {
    "name": "ipython",
    "version": 3
   },
   "file_extension": ".py",
   "mimetype": "text/x-python",
   "name": "python",
   "nbconvert_exporter": "python",
   "pygments_lexer": "ipython3",
   "version": "3.9.7"
  }
 },
 "nbformat": 4,
 "nbformat_minor": 5
}
