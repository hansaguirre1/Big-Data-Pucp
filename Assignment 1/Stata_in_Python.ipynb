{
 "cells": [
  {
   "cell_type": "markdown",
   "id": "49d09f1a",
   "metadata": {},
   "source": [
    "# Open Stata from Python + Jupyter Notebooks"
   ]
  },
  {
   "cell_type": "markdown",
   "id": "f7ae516d",
   "metadata": {
    "tags": []
   },
   "source": [
    "## The following code is for Stata verions < 17. The (now) most recent 17 version makes it easier by using PyStata: https://www.stata.com/stata-news/news36-3/pystata-and-jupyter-notebook/ \n",
    "\n",
    "#### Author: Angelo Cozzubo\n",
    "#### Date creation: Jan28th, 2022\n",
    "#### Last update: Jan28th, 2022"
   ]
  },
  {
   "cell_type": "code",
   "execution_count": 1,
   "id": "4dcaed88",
   "metadata": {
    "scrolled": true
   },
   "outputs": [
    {
     "name": "stdout",
     "output_type": "stream",
     "text": [
      "Requirement already satisfied: ipystata in c:\\users\\haguirre\\anaconda3\\lib\\site-packages (0.4.3)\n"
     ]
    }
   ],
   "source": [
    "!pip install ipystata"
   ]
  },
  {
   "cell_type": "code",
   "execution_count": 2,
   "id": "897970e1",
   "metadata": {},
   "outputs": [],
   "source": [
    "import ipystata\n",
    "import pandas as pd "
   ]
  },
  {
   "cell_type": "markdown",
   "id": "611b169e",
   "metadata": {},
   "source": [
    "## 0. Make sure Stata works\n",
    "### More help here: https://github.com/TiesdeKok/ipystata "
   ]
  },
  {
   "cell_type": "code",
   "execution_count": 3,
   "id": "20efe86c",
   "metadata": {
    "scrolled": true
   },
   "outputs": [
    {
     "name": "stdout",
     "output_type": "stream",
     "text": [
      "\n",
      "Hello, I am printed by Stata.\n",
      "\n"
     ]
    }
   ],
   "source": [
    "%%stata\n",
    "display \"Hello, I am printed by Stata.\""
   ]
  },
  {
   "cell_type": "markdown",
   "id": "f071a2a7",
   "metadata": {},
   "source": [
    "# 1. Load sample data"
   ]
  },
  {
   "cell_type": "code",
   "execution_count": 4,
   "id": "a6253dbe",
   "metadata": {
    "scrolled": true
   },
   "outputs": [
    {
     "name": "stdout",
     "output_type": "stream",
     "text": [
      "(1978 Automobile Data)\n",
      "\n"
     ]
    }
   ],
   "source": [
    "%%stata -o car_df\n",
    "sysuse auto.dta, clear "
   ]
  },
  {
   "cell_type": "markdown",
   "id": "f3807c97",
   "metadata": {},
   "source": [
    "# 2. Stata commands"
   ]
  },
  {
   "cell_type": "code",
   "execution_count": 5,
   "id": "44b31cc2",
   "metadata": {},
   "outputs": [
    {
     "name": "stdout",
     "output_type": "stream",
     "text": [
      "\n",
      "           |                                        headroom\n",
      "   foreign |       1.5          2        2.5          3        3.5          4        4.5          5 |     Total\n",
      "-----------+----------------------------------------------------------------------------------------+----------\n",
      "  Domestic |         3         10          4          7         13         10          4          1 |        52 \n",
      "   Foreign |         1          3         10          6          2          0          0          0 |        22 \n",
      "-----------+----------------------------------------------------------------------------------------+----------\n",
      "     Total |         4         13         14         13         15         10          4          1 |        74 \n",
      "\n"
     ]
    }
   ],
   "source": [
    "%%stata -d car_df\n",
    "tabulate foreign headroom"
   ]
  },
  {
   "cell_type": "markdown",
   "id": "d7264748",
   "metadata": {},
   "source": [
    "# 3. Pandas command"
   ]
  },
  {
   "cell_type": "code",
   "execution_count": 6,
   "id": "1a83dbc3",
   "metadata": {},
   "outputs": [
    {
     "data": {
      "text/html": [
       "<div>\n",
       "<style scoped>\n",
       "    .dataframe tbody tr th:only-of-type {\n",
       "        vertical-align: middle;\n",
       "    }\n",
       "\n",
       "    .dataframe tbody tr th {\n",
       "        vertical-align: top;\n",
       "    }\n",
       "\n",
       "    .dataframe thead th {\n",
       "        text-align: right;\n",
       "    }\n",
       "</style>\n",
       "<table border=\"1\" class=\"dataframe\">\n",
       "  <thead>\n",
       "    <tr style=\"text-align: right;\">\n",
       "      <th></th>\n",
       "      <th>make</th>\n",
       "      <th>price</th>\n",
       "      <th>mpg</th>\n",
       "      <th>rep78</th>\n",
       "      <th>headroom</th>\n",
       "      <th>trunk</th>\n",
       "      <th>weight</th>\n",
       "      <th>length</th>\n",
       "      <th>turn</th>\n",
       "      <th>displacement</th>\n",
       "      <th>gear_ratio</th>\n",
       "      <th>foreign</th>\n",
       "    </tr>\n",
       "  </thead>\n",
       "  <tbody>\n",
       "    <tr>\n",
       "      <th>0</th>\n",
       "      <td>AMC Concord</td>\n",
       "      <td>4099</td>\n",
       "      <td>22</td>\n",
       "      <td>3.0</td>\n",
       "      <td>2.5</td>\n",
       "      <td>11</td>\n",
       "      <td>2930</td>\n",
       "      <td>186</td>\n",
       "      <td>40</td>\n",
       "      <td>121</td>\n",
       "      <td>3.58</td>\n",
       "      <td>Domestic</td>\n",
       "    </tr>\n",
       "    <tr>\n",
       "      <th>1</th>\n",
       "      <td>AMC Pacer</td>\n",
       "      <td>4749</td>\n",
       "      <td>17</td>\n",
       "      <td>3.0</td>\n",
       "      <td>3.0</td>\n",
       "      <td>11</td>\n",
       "      <td>3350</td>\n",
       "      <td>173</td>\n",
       "      <td>40</td>\n",
       "      <td>258</td>\n",
       "      <td>2.53</td>\n",
       "      <td>Domestic</td>\n",
       "    </tr>\n",
       "    <tr>\n",
       "      <th>2</th>\n",
       "      <td>AMC Spirit</td>\n",
       "      <td>3799</td>\n",
       "      <td>22</td>\n",
       "      <td>NaN</td>\n",
       "      <td>3.0</td>\n",
       "      <td>12</td>\n",
       "      <td>2640</td>\n",
       "      <td>168</td>\n",
       "      <td>35</td>\n",
       "      <td>121</td>\n",
       "      <td>3.08</td>\n",
       "      <td>Domestic</td>\n",
       "    </tr>\n",
       "    <tr>\n",
       "      <th>3</th>\n",
       "      <td>Buick Century</td>\n",
       "      <td>4816</td>\n",
       "      <td>20</td>\n",
       "      <td>3.0</td>\n",
       "      <td>4.5</td>\n",
       "      <td>16</td>\n",
       "      <td>3250</td>\n",
       "      <td>196</td>\n",
       "      <td>40</td>\n",
       "      <td>196</td>\n",
       "      <td>2.93</td>\n",
       "      <td>Domestic</td>\n",
       "    </tr>\n",
       "    <tr>\n",
       "      <th>4</th>\n",
       "      <td>Buick Electra</td>\n",
       "      <td>7827</td>\n",
       "      <td>15</td>\n",
       "      <td>4.0</td>\n",
       "      <td>4.0</td>\n",
       "      <td>20</td>\n",
       "      <td>4080</td>\n",
       "      <td>222</td>\n",
       "      <td>43</td>\n",
       "      <td>350</td>\n",
       "      <td>2.41</td>\n",
       "      <td>Domestic</td>\n",
       "    </tr>\n",
       "  </tbody>\n",
       "</table>\n",
       "</div>"
      ],
      "text/plain": [
       "            make  price  mpg  rep78  headroom  trunk  weight  length  turn  \\\n",
       "0    AMC Concord   4099   22    3.0       2.5     11    2930     186    40   \n",
       "1      AMC Pacer   4749   17    3.0       3.0     11    3350     173    40   \n",
       "2     AMC Spirit   3799   22    NaN       3.0     12    2640     168    35   \n",
       "3  Buick Century   4816   20    3.0       4.5     16    3250     196    40   \n",
       "4  Buick Electra   7827   15    4.0       4.0     20    4080     222    43   \n",
       "\n",
       "   displacement  gear_ratio   foreign  \n",
       "0           121        3.58  Domestic  \n",
       "1           258        2.53  Domestic  \n",
       "2           121        3.08  Domestic  \n",
       "3           196        2.93  Domestic  \n",
       "4           350        2.41  Domestic  "
      ]
     },
     "execution_count": 6,
     "metadata": {},
     "output_type": "execute_result"
    }
   ],
   "source": [
    "car_df.head()"
   ]
  },
  {
   "cell_type": "code",
   "execution_count": null,
   "id": "6f492a3f",
   "metadata": {},
   "outputs": [],
   "source": []
  }
 ],
 "metadata": {
  "kernelspec": {
   "display_name": "Python 3 (ipykernel)",
   "language": "python",
   "name": "python3"
  },
  "language_info": {
   "codemirror_mode": {
    "name": "ipython",
    "version": 3
   },
   "file_extension": ".py",
   "mimetype": "text/x-python",
   "name": "python",
   "nbconvert_exporter": "python",
   "pygments_lexer": "ipython3",
   "version": "3.9.7"
  }
 },
 "nbformat": 4,
 "nbformat_minor": 5
}
