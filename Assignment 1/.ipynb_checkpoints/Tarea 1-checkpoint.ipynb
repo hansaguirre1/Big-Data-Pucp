{
 "cells": [
  {
   "cell_type": "code",
   "execution_count": 1,
   "id": "4dcaed88",
   "metadata": {
    "scrolled": true
   },
   "outputs": [
    {
     "name": "stdout",
     "output_type": "stream",
     "text": [
      "Requirement already satisfied: ipystata in c:\\programdata\\anaconda3\\lib\\site-packages (0.3.8)\n"
     ]
    }
   ],
   "source": [
    "!pip install ipystata"
   ]
  },
  {
   "cell_type": "markdown",
   "id": "4a862e80",
   "metadata": {},
   "source": [
    "# Tarea 1 – Teoría de Muestreo"
   ]
  },
  {
   "cell_type": "markdown",
   "id": "ca936275",
   "metadata": {},
   "source": [
    "## Integrantes:"
   ]
  },
  {
   "cell_type": "markdown",
   "id": "89608c43",
   "metadata": {},
   "source": [
    " - Carlos Andrés Zelada Chambilla - F0843894\n",
    " - Hans Isaí Aguirre Ccerare - F0730020"
   ]
  },
  {
   "cell_type": "markdown",
   "id": "420a1fc5",
   "metadata": {},
   "source": [
    "### Parte I\n",
    "#### 1. Indique a qué enfoque (diseño o modelo) corresponde cada una de las siguientes características:"
   ]
  },
  {
   "cell_type": "markdown",
   "id": "095c0c3c",
   "metadata": {},
   "source": [
    "a.\tAsume población finita: <div style=\"text-align: center\"> </br>Enfoque basado en el diseño </br> </div> \n",
    "b.\tAsume que la variable objetivo es aleatoria: <div style=\"text-align: center\"> </br> Enfoque basado en el modelo </br> </div> \n",
    "c.\tAsume un proceso generador de datos: <div style=\"text-align: center\"> </br> Enfoque basado en el modelo </br> </div> \n",
    "d.\tAsume que el componente aleatorio viene de cómo seleccionamos las observaciones: <div style=\"text-align: center\"> </br> Enfoque basado en el diseño </br> </div> "
   ]
  },
  {
   "cell_type": "markdown",
   "id": "95869e4d",
   "metadata": {},
   "source": [
    "#### 2.\tResponda dos de las siguientes preguntas. La respuesta a cada pregunta no debe pasar de 75 palabras."
   ]
  },
  {
   "cell_type": "markdown",
   "id": "b3527478",
   "metadata": {},
   "source": [
    "##### a. ¿Qué esperaría que suceda con el error estándar de la media de una variable conforme se toman muestras de mayor tamaño?"
   ]
  },
  {
   "cell_type": "markdown",
   "id": "3f444236",
   "metadata": {},
   "source": [
    "A medida que se toman muestras de mayor tamaño, se espera que el error estándar de la media de una variable se reduzca. Esto se relacionaría con la ley de los grandes números, la cual indica que a medida que el tamaño de la muestra se acerca a la poblacional, el valor de la media estimada tambien se acerca al valor de la media poblacional."
   ]
  },
  {
   "cell_type": "markdown",
   "id": "0593870f",
   "metadata": {},
   "source": [
    "##### c. ¿Qué es el factor de expansión y cómo se construye?"
   ]
  },
  {
   "cell_type": "markdown",
   "id": "6b05dcba",
   "metadata": {},
   "source": [
    "El factor de expansión indica cuantos individuos de la población representa un individuo de la muestra extraida, por lo cual también son denominados pesos muestrales. Esta se construye como la inversa de la probabilidad de selección, la cual puede ser corregida por tasas de no respuesta, calibración, posestratificactón, etc."
   ]
  },
  {
   "cell_type": "markdown",
   "id": "ce5aa974",
   "metadata": {},
   "source": [
    "### Parte II\n",
    "#### Utilizando la base de datos del CENAGRO que ha sido colgada en paideia, realizar los siguientes ejercicios:\n",
    "\n"
   ]
  },
  {
   "cell_type": "code",
   "execution_count": 1,
   "id": "d83651bd",
   "metadata": {},
   "outputs": [],
   "source": [
    "import ipystata\n",
    "import pandas as pd\n",
    "import math"
   ]
  },
  {
   "cell_type": "code",
   "execution_count": 3,
   "id": "93104249",
   "metadata": {},
   "outputs": [
    {
     "name": "stdout",
     "output_type": "stream",
     "text": [
      "Please note: session main was no longer active and is restarted.\n"
     ]
    },
    {
     "name": "stderr",
     "output_type": "stream",
     "text": [
      "C:\\Users\\haguirre\\Anaconda3\\lib\\site-packages\\pandas\\io\\stata.py:1457: UnicodeWarning: \n",
      "One or more strings in the dta file could not be decoded using utf-8, and\n",
      "so the fallback encoding of latin-1 is being used.  This can happen when a file\n",
      "has been incorrectly encoded by Stata or some other software. You should verify\n",
      "the string values returned are correct.\n",
      "  warnings.warn(msg, UnicodeWarning)\n"
     ]
    }
   ],
   "source": [
    "%%stata -o Cenagro_df\n",
    "use \"C:\\Users\\haguirre\\Documents\\GitHub\\Big-Data-Pucp\\Assignment 1\\cenagro2012_mod.dta\", clear"
   ]
  },
  {
   "cell_type": "markdown",
   "id": "a54d1029",
   "metadata": {},
   "source": [
    "#### 1.\tCalcular las siguientes variables: \n"
   ]
  },
  {
   "cell_type": "markdown",
   "id": "6b21fbd4",
   "metadata": {},
   "source": [
    "1.1.\tUna variable categórica que identifique los siguientes grupos etarios: de 12 a 24 inclusive, de 25 a 64 inclusive, de 65 a más. Llamar a esta variable “rango_edad”."
   ]
  },
  {
   "cell_type": "code",
   "execution_count": 4,
   "id": "3b8f6538",
   "metadata": {},
   "outputs": [
    {
     "name": "stdout",
     "output_type": "stream",
     "text": [
      "(2,132,055 missing values generated)\n",
      "\n",
      "(1,665,605 real changes made)\n",
      "\n",
      "(466,450 real changes made)\n",
      "\n"
     ]
    }
   ],
   "source": [
    "%%stata\n",
    "gen rango_edad=0 if edad>=12 & edad<=24\n",
    "replace rango_edad=1 if edad>=25 & edad<=64\n",
    "replace rango_edad=2 if edad>=65\n",
    "\n",
    "label define rangos 0 \"[12-24]\" 1 \"[25-64]\" 2 \"[>65]\"\n",
    "label values rango_edad rangos"
   ]
  },
  {
   "cell_type": "markdown",
   "id": "d31ae69b",
   "metadata": {},
   "source": [
    "1.2.\tUna variable dicotómica que identifique a las Unidades Agropecuarias (UAs) que son dirigidas por personas cuya lengua materna es el quechua. Llamar a esta variable “ppquechua”."
   ]
  },
  {
   "cell_type": "code",
   "execution_count": 5,
   "id": "c3d5a560",
   "metadata": {},
   "outputs": [],
   "source": [
    "%%stata\n",
    "gen ppquechua=(lengua<=1)\n",
    "label define Lengua 0 \"No quechua\" 1 \"Quechua\"\n",
    "label values ppquechua Lengua"
   ]
  },
  {
   "cell_type": "markdown",
   "id": "3247316d",
   "metadata": {},
   "source": [
    "#### 2.\tEstablecer una semilla (“seed”) usando los dígitos del cumpleaños de alguno de los miembros de la pareja."
   ]
  },
  {
   "cell_type": "code",
   "execution_count": 6,
   "id": "bf3f7f6e",
   "metadata": {},
   "outputs": [],
   "source": [
    "%%stata\n",
    "set seed 2702"
   ]
  },
  {
   "cell_type": "markdown",
   "id": "ccc75878",
   "metadata": {},
   "source": [
    "#### 3.\tExtraer una Muestra Aleatoria Simple (MAS) de 2247 observaciones de la población total (base completa). Con esta muestra, utilizar la variable “sup_total” y obtener los siguientes estadísticos."
   ]
  },
  {
   "cell_type": "markdown",
   "id": "5a862384",
   "metadata": {},
   "source": [
    "Extraemos una MAS de 2247 observaciones de la base completa"
   ]
  },
  {
   "cell_type": "code",
   "execution_count": 7,
   "id": "1e17a26d",
   "metadata": {},
   "outputs": [
    {
     "ename": "UnicodeDecodeError",
     "evalue": "'utf-8' codec can't decode byte 0xe1 in position 952: invalid continuation byte",
     "output_type": "error",
     "traceback": [
      "\u001b[1;31m---------------------------------------------------------------------------\u001b[0m",
      "\u001b[1;31mUnicodeDecodeError\u001b[0m                        Traceback (most recent call last)",
      "\u001b[1;32m~\\AppData\\Local\\Temp/ipykernel_29844/373870919.py\u001b[0m in \u001b[0;36m<module>\u001b[1;34m\u001b[0m\n\u001b[1;32m----> 1\u001b[1;33m \u001b[0mget_ipython\u001b[0m\u001b[1;33m(\u001b[0m\u001b[1;33m)\u001b[0m\u001b[1;33m.\u001b[0m\u001b[0mrun_cell_magic\u001b[0m\u001b[1;33m(\u001b[0m\u001b[1;34m'stata'\u001b[0m\u001b[1;33m,\u001b[0m \u001b[1;34m''\u001b[0m\u001b[1;33m,\u001b[0m \u001b[1;34m'preserve\\nsample 2247, count\\ntotal sup_total\\nmean sup_total\\nsum sup_total, d\\nrestore\\n'\u001b[0m\u001b[1;33m)\u001b[0m\u001b[1;33m\u001b[0m\u001b[1;33m\u001b[0m\u001b[0m\n\u001b[0m",
      "\u001b[1;32m~\\Anaconda3\\lib\\site-packages\\IPython\\core\\interactiveshell.py\u001b[0m in \u001b[0;36mrun_cell_magic\u001b[1;34m(self, magic_name, line, cell)\u001b[0m\n\u001b[0;32m   2404\u001b[0m             \u001b[1;32mwith\u001b[0m \u001b[0mself\u001b[0m\u001b[1;33m.\u001b[0m\u001b[0mbuiltin_trap\u001b[0m\u001b[1;33m:\u001b[0m\u001b[1;33m\u001b[0m\u001b[1;33m\u001b[0m\u001b[0m\n\u001b[0;32m   2405\u001b[0m                 \u001b[0margs\u001b[0m \u001b[1;33m=\u001b[0m \u001b[1;33m(\u001b[0m\u001b[0mmagic_arg_s\u001b[0m\u001b[1;33m,\u001b[0m \u001b[0mcell\u001b[0m\u001b[1;33m)\u001b[0m\u001b[1;33m\u001b[0m\u001b[1;33m\u001b[0m\u001b[0m\n\u001b[1;32m-> 2406\u001b[1;33m                 \u001b[0mresult\u001b[0m \u001b[1;33m=\u001b[0m \u001b[0mfn\u001b[0m\u001b[1;33m(\u001b[0m\u001b[1;33m*\u001b[0m\u001b[0margs\u001b[0m\u001b[1;33m,\u001b[0m \u001b[1;33m**\u001b[0m\u001b[0mkwargs\u001b[0m\u001b[1;33m)\u001b[0m\u001b[1;33m\u001b[0m\u001b[1;33m\u001b[0m\u001b[0m\n\u001b[0m\u001b[0;32m   2407\u001b[0m             \u001b[1;32mreturn\u001b[0m \u001b[0mresult\u001b[0m\u001b[1;33m\u001b[0m\u001b[1;33m\u001b[0m\u001b[0m\n\u001b[0;32m   2408\u001b[0m \u001b[1;33m\u001b[0m\u001b[0m\n",
      "\u001b[1;32m~\\Anaconda3\\lib\\site-packages\\decorator.py\u001b[0m in \u001b[0;36mfun\u001b[1;34m(*args, **kw)\u001b[0m\n\u001b[0;32m    230\u001b[0m             \u001b[1;32mif\u001b[0m \u001b[1;32mnot\u001b[0m \u001b[0mkwsyntax\u001b[0m\u001b[1;33m:\u001b[0m\u001b[1;33m\u001b[0m\u001b[1;33m\u001b[0m\u001b[0m\n\u001b[0;32m    231\u001b[0m                 \u001b[0margs\u001b[0m\u001b[1;33m,\u001b[0m \u001b[0mkw\u001b[0m \u001b[1;33m=\u001b[0m \u001b[0mfix\u001b[0m\u001b[1;33m(\u001b[0m\u001b[0margs\u001b[0m\u001b[1;33m,\u001b[0m \u001b[0mkw\u001b[0m\u001b[1;33m,\u001b[0m \u001b[0msig\u001b[0m\u001b[1;33m)\u001b[0m\u001b[1;33m\u001b[0m\u001b[1;33m\u001b[0m\u001b[0m\n\u001b[1;32m--> 232\u001b[1;33m             \u001b[1;32mreturn\u001b[0m \u001b[0mcaller\u001b[0m\u001b[1;33m(\u001b[0m\u001b[0mfunc\u001b[0m\u001b[1;33m,\u001b[0m \u001b[1;33m*\u001b[0m\u001b[1;33m(\u001b[0m\u001b[0mextras\u001b[0m \u001b[1;33m+\u001b[0m \u001b[0margs\u001b[0m\u001b[1;33m)\u001b[0m\u001b[1;33m,\u001b[0m \u001b[1;33m**\u001b[0m\u001b[0mkw\u001b[0m\u001b[1;33m)\u001b[0m\u001b[1;33m\u001b[0m\u001b[1;33m\u001b[0m\u001b[0m\n\u001b[0m\u001b[0;32m    233\u001b[0m     \u001b[0mfun\u001b[0m\u001b[1;33m.\u001b[0m\u001b[0m__name__\u001b[0m \u001b[1;33m=\u001b[0m \u001b[0mfunc\u001b[0m\u001b[1;33m.\u001b[0m\u001b[0m__name__\u001b[0m\u001b[1;33m\u001b[0m\u001b[1;33m\u001b[0m\u001b[0m\n\u001b[0;32m    234\u001b[0m     \u001b[0mfun\u001b[0m\u001b[1;33m.\u001b[0m\u001b[0m__doc__\u001b[0m \u001b[1;33m=\u001b[0m \u001b[0mfunc\u001b[0m\u001b[1;33m.\u001b[0m\u001b[0m__doc__\u001b[0m\u001b[1;33m\u001b[0m\u001b[1;33m\u001b[0m\u001b[0m\n",
      "\u001b[1;32m~\\Anaconda3\\lib\\site-packages\\IPython\\core\\magic.py\u001b[0m in \u001b[0;36m<lambda>\u001b[1;34m(f, *a, **k)\u001b[0m\n\u001b[0;32m    185\u001b[0m     \u001b[1;31m# but it's overkill for just that one bit of state.\u001b[0m\u001b[1;33m\u001b[0m\u001b[1;33m\u001b[0m\u001b[0m\n\u001b[0;32m    186\u001b[0m     \u001b[1;32mdef\u001b[0m \u001b[0mmagic_deco\u001b[0m\u001b[1;33m(\u001b[0m\u001b[0marg\u001b[0m\u001b[1;33m)\u001b[0m\u001b[1;33m:\u001b[0m\u001b[1;33m\u001b[0m\u001b[1;33m\u001b[0m\u001b[0m\n\u001b[1;32m--> 187\u001b[1;33m         \u001b[0mcall\u001b[0m \u001b[1;33m=\u001b[0m \u001b[1;32mlambda\u001b[0m \u001b[0mf\u001b[0m\u001b[1;33m,\u001b[0m \u001b[1;33m*\u001b[0m\u001b[0ma\u001b[0m\u001b[1;33m,\u001b[0m \u001b[1;33m**\u001b[0m\u001b[0mk\u001b[0m\u001b[1;33m:\u001b[0m \u001b[0mf\u001b[0m\u001b[1;33m(\u001b[0m\u001b[1;33m*\u001b[0m\u001b[0ma\u001b[0m\u001b[1;33m,\u001b[0m \u001b[1;33m**\u001b[0m\u001b[0mk\u001b[0m\u001b[1;33m)\u001b[0m\u001b[1;33m\u001b[0m\u001b[1;33m\u001b[0m\u001b[0m\n\u001b[0m\u001b[0;32m    188\u001b[0m \u001b[1;33m\u001b[0m\u001b[0m\n\u001b[0;32m    189\u001b[0m         \u001b[1;32mif\u001b[0m \u001b[0mcallable\u001b[0m\u001b[1;33m(\u001b[0m\u001b[0marg\u001b[0m\u001b[1;33m)\u001b[0m\u001b[1;33m:\u001b[0m\u001b[1;33m\u001b[0m\u001b[1;33m\u001b[0m\u001b[0m\n",
      "\u001b[1;32m~\\Anaconda3\\lib\\site-packages\\ipystata\\ipystata_magic.py\u001b[0m in \u001b[0;36mstata\u001b[1;34m(self, line, cell, local_ns)\u001b[0m\n\u001b[0;32m    405\u001b[0m         \u001b[0mself\u001b[0m\u001b[1;33m.\u001b[0m\u001b[0msession_dict\u001b[0m\u001b[1;33m[\u001b[0m\u001b[0msession_id\u001b[0m\u001b[1;33m]\u001b[0m\u001b[1;33m.\u001b[0m\u001b[0mDoCommand\u001b[0m\u001b[1;33m(\u001b[0m\u001b[1;34m\"qui log on\"\u001b[0m\u001b[1;33m)\u001b[0m\u001b[1;33m\u001b[0m\u001b[1;33m\u001b[0m\u001b[0m\n\u001b[0;32m    406\u001b[0m \u001b[1;33m\u001b[0m\u001b[0m\n\u001b[1;32m--> 407\u001b[1;33m         \u001b[0mout\u001b[0m \u001b[1;33m=\u001b[0m \u001b[0miPyStata\u001b[0m\u001b[1;33m.\u001b[0m\u001b[0mprocess_log\u001b[0m\u001b[1;33m(\u001b[0m\u001b[0mself\u001b[0m\u001b[1;33m.\u001b[0m\u001b[0mlog_dict\u001b[0m\u001b[1;33m[\u001b[0m\u001b[0msession_id\u001b[0m\u001b[1;33m]\u001b[0m\u001b[1;33m)\u001b[0m\u001b[1;33m\u001b[0m\u001b[1;33m\u001b[0m\u001b[0m\n\u001b[0m\u001b[0;32m    408\u001b[0m \u001b[1;33m\u001b[0m\u001b[0m\n\u001b[0;32m    409\u001b[0m         \u001b[1;31m#For some reason, after the -log on- the first command\u001b[0m\u001b[1;33m\u001b[0m\u001b[1;33m\u001b[0m\u001b[0m\n",
      "\u001b[1;32m~\\Anaconda3\\lib\\site-packages\\ipystata\\ipystata_magic.py\u001b[0m in \u001b[0;36mprocess_log\u001b[1;34m(self, log)\u001b[0m\n\u001b[0;32m     65\u001b[0m     \u001b[1;32mdef\u001b[0m \u001b[0mprocess_log\u001b[0m\u001b[1;33m(\u001b[0m\u001b[0mself\u001b[0m\u001b[1;33m,\u001b[0m \u001b[0mlog\u001b[0m\u001b[1;33m)\u001b[0m\u001b[1;33m:\u001b[0m\u001b[1;33m\u001b[0m\u001b[1;33m\u001b[0m\u001b[0m\n\u001b[0;32m     66\u001b[0m         \u001b[1;32mwith\u001b[0m \u001b[0mopen\u001b[0m\u001b[1;33m(\u001b[0m\u001b[0mlog\u001b[0m\u001b[1;33m,\u001b[0m \u001b[1;34m'r+'\u001b[0m\u001b[1;33m,\u001b[0m \u001b[0mencoding\u001b[0m\u001b[1;33m=\u001b[0m\u001b[1;34m'utf-8'\u001b[0m\u001b[1;33m)\u001b[0m \u001b[1;32mas\u001b[0m \u001b[0mlog_file\u001b[0m\u001b[1;33m:\u001b[0m\u001b[1;33m\u001b[0m\u001b[1;33m\u001b[0m\u001b[0m\n\u001b[1;32m---> 67\u001b[1;33m             \u001b[0mcode\u001b[0m \u001b[1;33m=\u001b[0m \u001b[0mlog_file\u001b[0m\u001b[1;33m.\u001b[0m\u001b[0mread\u001b[0m\u001b[1;33m(\u001b[0m\u001b[1;33m)\u001b[0m\u001b[1;33m\u001b[0m\u001b[1;33m\u001b[0m\u001b[0m\n\u001b[0m\u001b[0;32m     68\u001b[0m             \u001b[1;31m# Remove horizontal line at the beginning of flie\u001b[0m\u001b[1;33m\u001b[0m\u001b[1;33m\u001b[0m\u001b[0m\n\u001b[0;32m     69\u001b[0m             \u001b[0mcode\u001b[0m \u001b[1;33m=\u001b[0m \u001b[0mre\u001b[0m\u001b[1;33m.\u001b[0m\u001b[0msub\u001b[0m\u001b[1;33m(\u001b[0m\u001b[1;34mr\"^-*\\n\"\u001b[0m\u001b[1;33m,\u001b[0m \u001b[1;34m\"\"\u001b[0m\u001b[1;33m,\u001b[0m \u001b[0mcode\u001b[0m\u001b[1;33m)\u001b[0m\u001b[1;33m\u001b[0m\u001b[1;33m\u001b[0m\u001b[0m\n",
      "\u001b[1;32m~\\Anaconda3\\lib\\codecs.py\u001b[0m in \u001b[0;36mdecode\u001b[1;34m(self, input, final)\u001b[0m\n\u001b[0;32m    320\u001b[0m         \u001b[1;31m# decode input (taking the buffer into account)\u001b[0m\u001b[1;33m\u001b[0m\u001b[1;33m\u001b[0m\u001b[0m\n\u001b[0;32m    321\u001b[0m         \u001b[0mdata\u001b[0m \u001b[1;33m=\u001b[0m \u001b[0mself\u001b[0m\u001b[1;33m.\u001b[0m\u001b[0mbuffer\u001b[0m \u001b[1;33m+\u001b[0m \u001b[0minput\u001b[0m\u001b[1;33m\u001b[0m\u001b[1;33m\u001b[0m\u001b[0m\n\u001b[1;32m--> 322\u001b[1;33m         \u001b[1;33m(\u001b[0m\u001b[0mresult\u001b[0m\u001b[1;33m,\u001b[0m \u001b[0mconsumed\u001b[0m\u001b[1;33m)\u001b[0m \u001b[1;33m=\u001b[0m \u001b[0mself\u001b[0m\u001b[1;33m.\u001b[0m\u001b[0m_buffer_decode\u001b[0m\u001b[1;33m(\u001b[0m\u001b[0mdata\u001b[0m\u001b[1;33m,\u001b[0m \u001b[0mself\u001b[0m\u001b[1;33m.\u001b[0m\u001b[0merrors\u001b[0m\u001b[1;33m,\u001b[0m \u001b[0mfinal\u001b[0m\u001b[1;33m)\u001b[0m\u001b[1;33m\u001b[0m\u001b[1;33m\u001b[0m\u001b[0m\n\u001b[0m\u001b[0;32m    323\u001b[0m         \u001b[1;31m# keep undecoded input until the next call\u001b[0m\u001b[1;33m\u001b[0m\u001b[1;33m\u001b[0m\u001b[0m\n\u001b[0;32m    324\u001b[0m         \u001b[0mself\u001b[0m\u001b[1;33m.\u001b[0m\u001b[0mbuffer\u001b[0m \u001b[1;33m=\u001b[0m \u001b[0mdata\u001b[0m\u001b[1;33m[\u001b[0m\u001b[0mconsumed\u001b[0m\u001b[1;33m:\u001b[0m\u001b[1;33m]\u001b[0m\u001b[1;33m\u001b[0m\u001b[1;33m\u001b[0m\u001b[0m\n",
      "\u001b[1;31mUnicodeDecodeError\u001b[0m: 'utf-8' codec can't decode byte 0xe1 in position 952: invalid continuation byte"
     ]
    }
   ],
   "source": [
    "%%stata\n",
    "preserve\n",
    "sample 2247, count\n",
    "total sup_total\n",
    "mean sup_total\n",
    "sum sup_total, d\n",
    "restore"
   ]
  },
  {
   "cell_type": "markdown",
   "id": "76f31b93",
   "metadata": {},
   "source": [
    "3.1. La suma de todos los valores"
   ]
  },
  {
   "cell_type": "code",
   "execution_count": 8,
   "id": "8c27a98e",
   "metadata": {},
   "outputs": [
    {
     "name": "stdout",
     "output_type": "stream",
     "text": [
      "La suma total es 14822.43\n"
     ]
    }
   ],
   "source": [
    "print ( \"La suma total es 14822.43\" )"
   ]
  },
  {
   "cell_type": "markdown",
   "id": "cba31377",
   "metadata": {},
   "source": [
    "3.2. La media"
   ]
  },
  {
   "cell_type": "code",
   "execution_count": 9,
   "id": "63d0feba",
   "metadata": {},
   "outputs": [
    {
     "name": "stdout",
     "output_type": "stream",
     "text": [
      "La media es 6.596541\n"
     ]
    }
   ],
   "source": [
    "mean = 6.596541\n",
    "print ( f\"La media es {mean}\" )"
   ]
  },
  {
   "cell_type": "markdown",
   "id": "da8a9b36",
   "metadata": {},
   "source": [
    "3.3. La fracción muestral"
   ]
  },
  {
   "cell_type": "code",
   "execution_count": 10,
   "id": "417a2373",
   "metadata": {},
   "outputs": [
    {
     "name": "stdout",
     "output_type": "stream",
     "text": [
      "La fracción muestral es 0.0010001326388635432\n"
     ]
    }
   ],
   "source": [
    "N = Cenagro_df['sup_total'].count()\n",
    "n = 2247\n",
    "frac_m = n/N\n",
    "print( f'La fracción muestral es {frac_m}')"
   ]
  },
  {
   "cell_type": "markdown",
   "id": "9ca5ec64",
   "metadata": {},
   "source": [
    "3.4. La corrección de población finita (fpc)"
   ]
  },
  {
   "cell_type": "code",
   "execution_count": 11,
   "id": "7206c7c8",
   "metadata": {},
   "outputs": [
    {
     "name": "stdout",
     "output_type": "stream",
     "text": [
      "El factor de corrección de población finita es 0.9989998673611364\n"
     ]
    }
   ],
   "source": [
    "fpc = 1 - frac_m\n",
    "print( f'El factor de corrección de población finita es {fpc}')"
   ]
  },
  {
   "cell_type": "markdown",
   "id": "ed7ad934",
   "metadata": {},
   "source": [
    "3.5. La suma de desviaciones al cuadrado"
   ]
  },
  {
   "cell_type": "code",
   "execution_count": 12,
   "id": "eaf49158",
   "metadata": {},
   "outputs": [
    {
     "name": "stdout",
     "output_type": "stream",
     "text": [
      "La suma de las desviaciones al cuadrado es 3254759.456\n"
     ]
    }
   ],
   "source": [
    "var_muestra = 1449.136\n",
    "sum_desv = var_muestra*(n - 1)\n",
    "print( f'La suma de las desviaciones al cuadrado es {sum_desv}')"
   ]
  },
  {
   "cell_type": "markdown",
   "id": "a0a6266d",
   "metadata": {},
   "source": [
    "3.6. La varianza de la muestra"
   ]
  },
  {
   "cell_type": "code",
   "execution_count": 13,
   "id": "d3aa9b4e",
   "metadata": {},
   "outputs": [
    {
     "name": "stdout",
     "output_type": "stream",
     "text": [
      "La varianza de la muestra es 1449.136\n"
     ]
    }
   ],
   "source": [
    "print( f'La varianza de la muestra es {var_muestra}')"
   ]
  },
  {
   "cell_type": "markdown",
   "id": "25a6b5b0",
   "metadata": {},
   "source": [
    "3.7. La varianza muestral de la media"
   ]
  },
  {
   "cell_type": "code",
   "execution_count": 14,
   "id": "00b3a32c",
   "metadata": {},
   "outputs": [
    {
     "name": "stdout",
     "output_type": "stream",
     "text": [
      "La varianza muestral de la media es 0.6442753323490199\n"
     ]
    }
   ],
   "source": [
    "var_muestr_media = fpc*(var_muestra/n)\n",
    "print( f'La varianza muestral de la media es {var_muestr_media}')"
   ]
  },
  {
   "cell_type": "markdown",
   "id": "ce819981",
   "metadata": {},
   "source": [
    "3.8. El error estándar de la media"
   ]
  },
  {
   "cell_type": "code",
   "execution_count": 15,
   "id": "05958a7e",
   "metadata": {},
   "outputs": [
    {
     "name": "stdout",
     "output_type": "stream",
     "text": [
      "El error estándar de la media es 0.8026676350451786\n"
     ]
    }
   ],
   "source": [
    "error_std_mean = math.sqrt(var_muestr_media)\n",
    "print( f'El error estándar de la media es {error_std_mean}')"
   ]
  },
  {
   "cell_type": "markdown",
   "id": "43e8c42f",
   "metadata": {},
   "source": [
    "3.9. El factor de expansión de cada observación"
   ]
  },
  {
   "cell_type": "code",
   "execution_count": 16,
   "id": "3723d1bc",
   "metadata": {},
   "outputs": [
    {
     "name": "stdout",
     "output_type": "stream",
     "text": [
      "El factor de expansión de cada observación es 999.8673787271917, cuya suma equivale a la totalidad de la población censal de unidades agripecuarias, ello debido a que en MAS el factor de expansión de cada observación es la inversa de la probabilidad de selección, que en este caso es la fracción muestral\n"
     ]
    }
   ],
   "source": [
    "fac_pob = 1/frac_m\n",
    "print( f'El factor de expansión de cada observación es {fac_pob}, cuya suma equivale a la totalidad de la población censal de unidades agripecuarias, ello debido a que en MAS el factor de expansión de cada observación es la inversa de la probabilidad de selección, que en este caso es la fracción muestral')"
   ]
  },
  {
   "cell_type": "markdown",
   "id": "9359d38f",
   "metadata": {},
   "source": [
    "#### 4.\tExtraer una Muestra Aleatoria Estratificada (MAE) de 2247 observaciones utilizando la variable “rango_edad” como estrato. Con esta muestra, utilizar la variable “ppquechua” y: "
   ]
  },
  {
   "cell_type": "code",
   "execution_count": 17,
   "id": "cfd4653c",
   "metadata": {},
   "outputs": [
    {
     "ename": "UnicodeDecodeError",
     "evalue": "'utf-8' codec can't decode byte 0xe1 in position 952: invalid continuation byte",
     "output_type": "error",
     "traceback": [
      "\u001b[1;31m---------------------------------------------------------------------------\u001b[0m",
      "\u001b[1;31mUnicodeDecodeError\u001b[0m                        Traceback (most recent call last)",
      "\u001b[1;32m~\\AppData\\Local\\Temp/ipykernel_29844/1727426385.py\u001b[0m in \u001b[0;36m<module>\u001b[1;34m\u001b[0m\n\u001b[1;32m----> 1\u001b[1;33m \u001b[0mget_ipython\u001b[0m\u001b[1;33m(\u001b[0m\u001b[1;33m)\u001b[0m\u001b[1;33m.\u001b[0m\u001b[0mrun_cell_magic\u001b[0m\u001b[1;33m(\u001b[0m\u001b[1;34m'stata'\u001b[0m\u001b[1;33m,\u001b[0m \u001b[1;34m''\u001b[0m\u001b[1;33m,\u001b[0m \u001b[1;34m'set seed 2702\\nsample 0.1, by(rango_edad)\\nbrowse\\n'\u001b[0m\u001b[1;33m)\u001b[0m\u001b[1;33m\u001b[0m\u001b[1;33m\u001b[0m\u001b[0m\n\u001b[0m",
      "\u001b[1;32m~\\Anaconda3\\lib\\site-packages\\IPython\\core\\interactiveshell.py\u001b[0m in \u001b[0;36mrun_cell_magic\u001b[1;34m(self, magic_name, line, cell)\u001b[0m\n\u001b[0;32m   2404\u001b[0m             \u001b[1;32mwith\u001b[0m \u001b[0mself\u001b[0m\u001b[1;33m.\u001b[0m\u001b[0mbuiltin_trap\u001b[0m\u001b[1;33m:\u001b[0m\u001b[1;33m\u001b[0m\u001b[1;33m\u001b[0m\u001b[0m\n\u001b[0;32m   2405\u001b[0m                 \u001b[0margs\u001b[0m \u001b[1;33m=\u001b[0m \u001b[1;33m(\u001b[0m\u001b[0mmagic_arg_s\u001b[0m\u001b[1;33m,\u001b[0m \u001b[0mcell\u001b[0m\u001b[1;33m)\u001b[0m\u001b[1;33m\u001b[0m\u001b[1;33m\u001b[0m\u001b[0m\n\u001b[1;32m-> 2406\u001b[1;33m                 \u001b[0mresult\u001b[0m \u001b[1;33m=\u001b[0m \u001b[0mfn\u001b[0m\u001b[1;33m(\u001b[0m\u001b[1;33m*\u001b[0m\u001b[0margs\u001b[0m\u001b[1;33m,\u001b[0m \u001b[1;33m**\u001b[0m\u001b[0mkwargs\u001b[0m\u001b[1;33m)\u001b[0m\u001b[1;33m\u001b[0m\u001b[1;33m\u001b[0m\u001b[0m\n\u001b[0m\u001b[0;32m   2407\u001b[0m             \u001b[1;32mreturn\u001b[0m \u001b[0mresult\u001b[0m\u001b[1;33m\u001b[0m\u001b[1;33m\u001b[0m\u001b[0m\n\u001b[0;32m   2408\u001b[0m \u001b[1;33m\u001b[0m\u001b[0m\n",
      "\u001b[1;32m~\\Anaconda3\\lib\\site-packages\\decorator.py\u001b[0m in \u001b[0;36mfun\u001b[1;34m(*args, **kw)\u001b[0m\n\u001b[0;32m    230\u001b[0m             \u001b[1;32mif\u001b[0m \u001b[1;32mnot\u001b[0m \u001b[0mkwsyntax\u001b[0m\u001b[1;33m:\u001b[0m\u001b[1;33m\u001b[0m\u001b[1;33m\u001b[0m\u001b[0m\n\u001b[0;32m    231\u001b[0m                 \u001b[0margs\u001b[0m\u001b[1;33m,\u001b[0m \u001b[0mkw\u001b[0m \u001b[1;33m=\u001b[0m \u001b[0mfix\u001b[0m\u001b[1;33m(\u001b[0m\u001b[0margs\u001b[0m\u001b[1;33m,\u001b[0m \u001b[0mkw\u001b[0m\u001b[1;33m,\u001b[0m \u001b[0msig\u001b[0m\u001b[1;33m)\u001b[0m\u001b[1;33m\u001b[0m\u001b[1;33m\u001b[0m\u001b[0m\n\u001b[1;32m--> 232\u001b[1;33m             \u001b[1;32mreturn\u001b[0m \u001b[0mcaller\u001b[0m\u001b[1;33m(\u001b[0m\u001b[0mfunc\u001b[0m\u001b[1;33m,\u001b[0m \u001b[1;33m*\u001b[0m\u001b[1;33m(\u001b[0m\u001b[0mextras\u001b[0m \u001b[1;33m+\u001b[0m \u001b[0margs\u001b[0m\u001b[1;33m)\u001b[0m\u001b[1;33m,\u001b[0m \u001b[1;33m**\u001b[0m\u001b[0mkw\u001b[0m\u001b[1;33m)\u001b[0m\u001b[1;33m\u001b[0m\u001b[1;33m\u001b[0m\u001b[0m\n\u001b[0m\u001b[0;32m    233\u001b[0m     \u001b[0mfun\u001b[0m\u001b[1;33m.\u001b[0m\u001b[0m__name__\u001b[0m \u001b[1;33m=\u001b[0m \u001b[0mfunc\u001b[0m\u001b[1;33m.\u001b[0m\u001b[0m__name__\u001b[0m\u001b[1;33m\u001b[0m\u001b[1;33m\u001b[0m\u001b[0m\n\u001b[0;32m    234\u001b[0m     \u001b[0mfun\u001b[0m\u001b[1;33m.\u001b[0m\u001b[0m__doc__\u001b[0m \u001b[1;33m=\u001b[0m \u001b[0mfunc\u001b[0m\u001b[1;33m.\u001b[0m\u001b[0m__doc__\u001b[0m\u001b[1;33m\u001b[0m\u001b[1;33m\u001b[0m\u001b[0m\n",
      "\u001b[1;32m~\\Anaconda3\\lib\\site-packages\\IPython\\core\\magic.py\u001b[0m in \u001b[0;36m<lambda>\u001b[1;34m(f, *a, **k)\u001b[0m\n\u001b[0;32m    185\u001b[0m     \u001b[1;31m# but it's overkill for just that one bit of state.\u001b[0m\u001b[1;33m\u001b[0m\u001b[1;33m\u001b[0m\u001b[0m\n\u001b[0;32m    186\u001b[0m     \u001b[1;32mdef\u001b[0m \u001b[0mmagic_deco\u001b[0m\u001b[1;33m(\u001b[0m\u001b[0marg\u001b[0m\u001b[1;33m)\u001b[0m\u001b[1;33m:\u001b[0m\u001b[1;33m\u001b[0m\u001b[1;33m\u001b[0m\u001b[0m\n\u001b[1;32m--> 187\u001b[1;33m         \u001b[0mcall\u001b[0m \u001b[1;33m=\u001b[0m \u001b[1;32mlambda\u001b[0m \u001b[0mf\u001b[0m\u001b[1;33m,\u001b[0m \u001b[1;33m*\u001b[0m\u001b[0ma\u001b[0m\u001b[1;33m,\u001b[0m \u001b[1;33m**\u001b[0m\u001b[0mk\u001b[0m\u001b[1;33m:\u001b[0m \u001b[0mf\u001b[0m\u001b[1;33m(\u001b[0m\u001b[1;33m*\u001b[0m\u001b[0ma\u001b[0m\u001b[1;33m,\u001b[0m \u001b[1;33m**\u001b[0m\u001b[0mk\u001b[0m\u001b[1;33m)\u001b[0m\u001b[1;33m\u001b[0m\u001b[1;33m\u001b[0m\u001b[0m\n\u001b[0m\u001b[0;32m    188\u001b[0m \u001b[1;33m\u001b[0m\u001b[0m\n\u001b[0;32m    189\u001b[0m         \u001b[1;32mif\u001b[0m \u001b[0mcallable\u001b[0m\u001b[1;33m(\u001b[0m\u001b[0marg\u001b[0m\u001b[1;33m)\u001b[0m\u001b[1;33m:\u001b[0m\u001b[1;33m\u001b[0m\u001b[1;33m\u001b[0m\u001b[0m\n",
      "\u001b[1;32m~\\Anaconda3\\lib\\site-packages\\ipystata\\ipystata_magic.py\u001b[0m in \u001b[0;36mstata\u001b[1;34m(self, line, cell, local_ns)\u001b[0m\n\u001b[0;32m    405\u001b[0m         \u001b[0mself\u001b[0m\u001b[1;33m.\u001b[0m\u001b[0msession_dict\u001b[0m\u001b[1;33m[\u001b[0m\u001b[0msession_id\u001b[0m\u001b[1;33m]\u001b[0m\u001b[1;33m.\u001b[0m\u001b[0mDoCommand\u001b[0m\u001b[1;33m(\u001b[0m\u001b[1;34m\"qui log on\"\u001b[0m\u001b[1;33m)\u001b[0m\u001b[1;33m\u001b[0m\u001b[1;33m\u001b[0m\u001b[0m\n\u001b[0;32m    406\u001b[0m \u001b[1;33m\u001b[0m\u001b[0m\n\u001b[1;32m--> 407\u001b[1;33m         \u001b[0mout\u001b[0m \u001b[1;33m=\u001b[0m \u001b[0miPyStata\u001b[0m\u001b[1;33m.\u001b[0m\u001b[0mprocess_log\u001b[0m\u001b[1;33m(\u001b[0m\u001b[0mself\u001b[0m\u001b[1;33m.\u001b[0m\u001b[0mlog_dict\u001b[0m\u001b[1;33m[\u001b[0m\u001b[0msession_id\u001b[0m\u001b[1;33m]\u001b[0m\u001b[1;33m)\u001b[0m\u001b[1;33m\u001b[0m\u001b[1;33m\u001b[0m\u001b[0m\n\u001b[0m\u001b[0;32m    408\u001b[0m \u001b[1;33m\u001b[0m\u001b[0m\n\u001b[0;32m    409\u001b[0m         \u001b[1;31m#For some reason, after the -log on- the first command\u001b[0m\u001b[1;33m\u001b[0m\u001b[1;33m\u001b[0m\u001b[0m\n",
      "\u001b[1;32m~\\Anaconda3\\lib\\site-packages\\ipystata\\ipystata_magic.py\u001b[0m in \u001b[0;36mprocess_log\u001b[1;34m(self, log)\u001b[0m\n\u001b[0;32m     65\u001b[0m     \u001b[1;32mdef\u001b[0m \u001b[0mprocess_log\u001b[0m\u001b[1;33m(\u001b[0m\u001b[0mself\u001b[0m\u001b[1;33m,\u001b[0m \u001b[0mlog\u001b[0m\u001b[1;33m)\u001b[0m\u001b[1;33m:\u001b[0m\u001b[1;33m\u001b[0m\u001b[1;33m\u001b[0m\u001b[0m\n\u001b[0;32m     66\u001b[0m         \u001b[1;32mwith\u001b[0m \u001b[0mopen\u001b[0m\u001b[1;33m(\u001b[0m\u001b[0mlog\u001b[0m\u001b[1;33m,\u001b[0m \u001b[1;34m'r+'\u001b[0m\u001b[1;33m,\u001b[0m \u001b[0mencoding\u001b[0m\u001b[1;33m=\u001b[0m\u001b[1;34m'utf-8'\u001b[0m\u001b[1;33m)\u001b[0m \u001b[1;32mas\u001b[0m \u001b[0mlog_file\u001b[0m\u001b[1;33m:\u001b[0m\u001b[1;33m\u001b[0m\u001b[1;33m\u001b[0m\u001b[0m\n\u001b[1;32m---> 67\u001b[1;33m             \u001b[0mcode\u001b[0m \u001b[1;33m=\u001b[0m \u001b[0mlog_file\u001b[0m\u001b[1;33m.\u001b[0m\u001b[0mread\u001b[0m\u001b[1;33m(\u001b[0m\u001b[1;33m)\u001b[0m\u001b[1;33m\u001b[0m\u001b[1;33m\u001b[0m\u001b[0m\n\u001b[0m\u001b[0;32m     68\u001b[0m             \u001b[1;31m# Remove horizontal line at the beginning of flie\u001b[0m\u001b[1;33m\u001b[0m\u001b[1;33m\u001b[0m\u001b[0m\n\u001b[0;32m     69\u001b[0m             \u001b[0mcode\u001b[0m \u001b[1;33m=\u001b[0m \u001b[0mre\u001b[0m\u001b[1;33m.\u001b[0m\u001b[0msub\u001b[0m\u001b[1;33m(\u001b[0m\u001b[1;34mr\"^-*\\n\"\u001b[0m\u001b[1;33m,\u001b[0m \u001b[1;34m\"\"\u001b[0m\u001b[1;33m,\u001b[0m \u001b[0mcode\u001b[0m\u001b[1;33m)\u001b[0m\u001b[1;33m\u001b[0m\u001b[1;33m\u001b[0m\u001b[0m\n",
      "\u001b[1;32m~\\Anaconda3\\lib\\codecs.py\u001b[0m in \u001b[0;36mdecode\u001b[1;34m(self, input, final)\u001b[0m\n\u001b[0;32m    320\u001b[0m         \u001b[1;31m# decode input (taking the buffer into account)\u001b[0m\u001b[1;33m\u001b[0m\u001b[1;33m\u001b[0m\u001b[0m\n\u001b[0;32m    321\u001b[0m         \u001b[0mdata\u001b[0m \u001b[1;33m=\u001b[0m \u001b[0mself\u001b[0m\u001b[1;33m.\u001b[0m\u001b[0mbuffer\u001b[0m \u001b[1;33m+\u001b[0m \u001b[0minput\u001b[0m\u001b[1;33m\u001b[0m\u001b[1;33m\u001b[0m\u001b[0m\n\u001b[1;32m--> 322\u001b[1;33m         \u001b[1;33m(\u001b[0m\u001b[0mresult\u001b[0m\u001b[1;33m,\u001b[0m \u001b[0mconsumed\u001b[0m\u001b[1;33m)\u001b[0m \u001b[1;33m=\u001b[0m \u001b[0mself\u001b[0m\u001b[1;33m.\u001b[0m\u001b[0m_buffer_decode\u001b[0m\u001b[1;33m(\u001b[0m\u001b[0mdata\u001b[0m\u001b[1;33m,\u001b[0m \u001b[0mself\u001b[0m\u001b[1;33m.\u001b[0m\u001b[0merrors\u001b[0m\u001b[1;33m,\u001b[0m \u001b[0mfinal\u001b[0m\u001b[1;33m)\u001b[0m\u001b[1;33m\u001b[0m\u001b[1;33m\u001b[0m\u001b[0m\n\u001b[0m\u001b[0;32m    323\u001b[0m         \u001b[1;31m# keep undecoded input until the next call\u001b[0m\u001b[1;33m\u001b[0m\u001b[1;33m\u001b[0m\u001b[0m\n\u001b[0;32m    324\u001b[0m         \u001b[0mself\u001b[0m\u001b[1;33m.\u001b[0m\u001b[0mbuffer\u001b[0m \u001b[1;33m=\u001b[0m \u001b[0mdata\u001b[0m\u001b[1;33m[\u001b[0m\u001b[0mconsumed\u001b[0m\u001b[1;33m:\u001b[0m\u001b[1;33m]\u001b[0m\u001b[1;33m\u001b[0m\u001b[1;33m\u001b[0m\u001b[0m\n",
      "\u001b[1;31mUnicodeDecodeError\u001b[0m: 'utf-8' codec can't decode byte 0xe1 in position 952: invalid continuation byte"
     ]
    }
   ],
   "source": [
    "%%stata\n",
    "set seed 2702\n",
    "sample 0.1, by(rango_edad)\n",
    "browse"
   ]
  },
  {
   "cell_type": "markdown",
   "id": "21b718e8",
   "metadata": {},
   "source": [
    "4.1.\tObtener los mismos estadísticos de las preguntas 3.1-3.9 según la variable de estratificación (intra estrato)."
   ]
  },
  {
   "cell_type": "code",
   "execution_count": 18,
   "id": "a9d2dc3e",
   "metadata": {},
   "outputs": [
    {
     "name": "stdout",
     "output_type": "stream",
     "text": [
      "\n",
      "Suma de los valores por estrato\n",
      "\n",
      "----------------------\n",
      "rango_eda |\n",
      "d         | mean(Suma)\n",
      "----------+-----------\n",
      "  [12-24] |         20\n",
      "  [25-64] |        504\n",
      "    [>65] |        166\n",
      "----------------------\n",
      "\n",
      "Proporciones de la muestra por estrato\n",
      "\n",
      "-----------------------\n",
      "rango_eda |\n",
      "d         | mean(Media)\n",
      "----------+------------\n",
      "  [12-24] |     .173913\n",
      "  [25-64] |     .302521\n",
      "    [>65] |    .3562232\n",
      "-----------------------\n",
      "\n",
      "Fraccion muestral por estrato\n",
      "\n",
      "----------------------\n",
      "rango_eda |\n",
      "d         |    mean(n)\n",
      "----------+-----------\n",
      "  [12-24] |        115\n",
      "  [25-64] |       1666\n",
      "    [>65] |        466\n",
      "----------------------\n",
      "\n",
      "----------------------\n",
      "rango_eda |\n",
      "d         |    mean(f)\n",
      "----------+-----------\n",
      "  [12-24] |   .0000512\n",
      "  [25-64] |   .0007415\n",
      "    [>65] |   .0002074\n",
      "----------------------\n",
      "\n",
      "La correccion de poblacion finita (fpc) por estrato\n",
      "\n",
      "----------------------\n",
      "rango_eda |\n",
      "d         |  mean(fpc)\n",
      "----------+-----------\n",
      "  [12-24] |   .9999488\n",
      "  [25-64] |   .9992585\n",
      "    [>65] |   .9997926\n",
      "----------------------\n",
      "\n",
      "La varianza por estrato\n",
      "\n",
      "--------------------------\n",
      "rango_eda |\n",
      "d         | mean(varianza)\n",
      "----------+---------------\n",
      "  [12-24] |       .1436673\n",
      "  [25-64] |       .2110021\n",
      "    [>65] |       .2293282\n",
      "--------------------------\n",
      "\n",
      "La varianza muestral de la media por estrato\n",
      "\n",
      "--------------------------\n",
      "rango_eda |\n",
      "d         | mean(varian~m)\n",
      "----------+---------------\n",
      "  [12-24] |       .0012492\n",
      "  [25-64] |       .0001266\n",
      "    [>65] |        .000492\n",
      "--------------------------\n",
      "\n",
      "El error estandar de la media por estratos\n",
      "\n",
      "--------------------------\n",
      "rango_eda |\n",
      "d         | mean(des_es~r)\n",
      "----------+---------------\n",
      "  [12-24] |       .0353443\n",
      "  [25-64] |       .0112498\n",
      "    [>65] |       .0221815\n",
      "--------------------------\n",
      "\n",
      "El factor de expansion de cada observaciÃ³n por estrato\n",
      "\n",
      "-------------------------\n",
      "rango_eda |\n",
      "d         | mean(fac_pob)\n",
      "----------+--------------\n",
      "  [12-24] |      19536.54\n",
      "  [25-64] |      1348.561\n",
      "    [>65] |      4821.249\n",
      "-------------------------\n",
      "\n"
     ]
    }
   ],
   "source": [
    "%%stata\n",
    "global N 2246702\n",
    "\n",
    "display \"Suma de los valores por estrato\" \n",
    "egen Suma=total(ppquechua), by(rango_edad)\n",
    "table rango_edad, c(mean Suma)\n",
    "\n",
    "display \"Proporciones de la muestra por estrato\" \n",
    "egen Media=mean(ppquechua), by(rango_edad)\n",
    "table rango_edad, c(mean Media)\n",
    "\n",
    "display \"Fraccion muestral por estrato\" \n",
    "egen n=count(ppquechua), by(rango_edad)\n",
    "table rango_edad, c(mean n)\n",
    "gen f=n/$N\n",
    "table rango_edad, c(mean f)\n",
    "\n",
    "display \"La correccion de poblacion finita (fpc) por estrato\" \n",
    "gen fpc=1-f\n",
    "table rango_edad, c(mean fpc)\n",
    "\n",
    "display \"La varianza por estrato\" \n",
    "gen varianza=Media*(1-Media)\n",
    "table rango_edad, c(mean varianza)\n",
    "\n",
    "display \"La varianza muestral de la media por estrato\" \n",
    "gen varianza_m=(1-f)*(varianza/n)\n",
    "table rango_edad, c(mean varianza_m)\n",
    "\n",
    "display \"El error estandar de la media por estratos\" \n",
    "gen des_estándar=sqrt(varianza_m)\n",
    "table rango_edad, c(mean des_estándar)\n",
    "\n",
    "display \"El factor de expansion de cada observación por estrato\" \n",
    "gen fac_pob = 1/f\n",
    "table rango_edad, c(mean fac_pob)"
   ]
  },
  {
   "cell_type": "markdown",
   "id": "6141c6d2",
   "metadata": {},
   "source": [
    "4.2. Declare el diseño muestral y obtenga el promedio de la variable “ppquechua” para toda la muestra utilizando el diseño muestral"
   ]
  },
  {
   "cell_type": "code",
   "execution_count": 19,
   "id": "b58adb43",
   "metadata": {},
   "outputs": [
    {
     "name": "stdout",
     "output_type": "stream",
     "text": [
      "\n",
      "      pweight: <none>\n",
      "          VCE: linearized\n",
      "  Single unit: missing\n",
      "     Strata 1: ppquechua\n",
      "         SU 1: <observations>\n",
      "        FPC 1: <zero>\n",
      "\n",
      "(running mean on estimation sample)\n",
      "\n",
      "Survey: Mean estimation\n",
      "\n",
      "Number of strata =       2        Number of obs   =      2,247\n",
      "Number of PSUs   =   2,247        Population size =      2,247\n",
      "                                  Design df       =      2,245\n",
      "\n",
      "--------------------------------------------------------------\n",
      "             |             Linearized\n",
      "             |       Mean   Std. Err.     [95% Conf. Interval]\n",
      "-------------+------------------------------------------------\n",
      "   ppquechua |   .3070761   1.85e-16      .3070761    .3070761\n",
      "--------------------------------------------------------------\n",
      "\n"
     ]
    }
   ],
   "source": [
    "%%stata\n",
    "svyset , strata(ppquechua)\n",
    "svy: mean ppquechua"
   ]
  },
  {
   "cell_type": "markdown",
   "id": "550bd993",
   "metadata": {},
   "source": [
    "4.3. Discuta como pueden utilizarse los resultados obtenidos en 4.1 para poder calcular el promedio de la variable “ppquechua” para toda la muestra."
   ]
  },
  {
   "cell_type": "markdown",
   "id": "43ddfc35",
   "metadata": {},
   "source": [
    "Se puede generar el promedio de la variable ppquechua utilizando las proporciones por estrato estimadas en 4.1, las mimas que deben ser multiplicadas por los pesos de cada estrato en la muestra. De esta manera el resultado en 4.3. puede ser obtenida por un promedio ponderado de las porporciones muestrales de cada estrato como se muestra a continuación:"
   ]
  },
  {
   "cell_type": "code",
   "execution_count": 20,
   "id": "b7d6af0a",
   "metadata": {},
   "outputs": [
    {
     "name": "stdout",
     "output_type": "stream",
     "text": [
      "\n",
      " rango_edad |      Freq.     Percent        Cum.\n",
      "------------+-----------------------------------\n",
      "    [12-24] |        115        5.12        5.12\n",
      "    [25-64] |      1,666       74.14       79.26\n",
      "      [>65] |        466       20.74      100.00\n",
      "------------+-----------------------------------\n",
      "      Total |      2,247      100.00\n",
      "\n"
     ]
    }
   ],
   "source": [
    "%%stata\n",
    "tab rango_edad"
   ]
  },
  {
   "cell_type": "code",
   "execution_count": 21,
   "id": "34da561e",
   "metadata": {},
   "outputs": [
    {
     "name": "stdout",
     "output_type": "stream",
     "text": [
      "0.30707609799732977\n"
     ]
    }
   ],
   "source": [
    "print ( .173913*(115/2247) + .302521*(1666/2247) + .3562232*(466/2247) )"
   ]
  }
 ],
 "metadata": {
  "kernelspec": {
   "display_name": "Python 3 (ipykernel)",
   "language": "python",
   "name": "python3"
  },
  "language_info": {
   "codemirror_mode": {
    "name": "ipython",
    "version": 3
   },
   "file_extension": ".py",
   "mimetype": "text/x-python",
   "name": "python",
   "nbconvert_exporter": "python",
   "pygments_lexer": "ipython3",
   "version": "3.9.7"
  }
 },
 "nbformat": 4,
 "nbformat_minor": 5
}
